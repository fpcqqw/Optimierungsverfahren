{
 "cells": [
  {
   "cell_type": "code",
   "execution_count": 1,
   "metadata": {},
   "outputs": [],
   "source": [
    "import pandas as pd\n",
    "import plotly.express as px\n",
    "import plotly.graph_objects as go\n",
    "import numpy as np"
   ]
  },
  {
   "cell_type": "code",
   "execution_count": 2,
   "metadata": {},
   "outputs": [],
   "source": [
    "import networkx as nx"
   ]
  },
  {
   "cell_type": "code",
   "execution_count": 3,
   "metadata": {},
   "outputs": [],
   "source": [
    "import seaborn as sns"
   ]
  },
  {
   "cell_type": "code",
   "execution_count": 4,
   "metadata": {},
   "outputs": [],
   "source": [
    "ls = pd.read_csv(\"ladestationen.csv\")\n",
    "st = pd.read_csv(\"stadtteile.csv\")"
   ]
  },
  {
   "cell_type": "code",
   "execution_count": 5,
   "metadata": {},
   "outputs": [
    {
     "data": {
      "text/plain": [
       "311.49"
      ]
     },
     "execution_count": 5,
     "metadata": {},
     "output_type": "execute_result"
    }
   ],
   "source": [
    "st[\"Bedarf\"].sum()"
   ]
  },
  {
   "cell_type": "code",
   "execution_count": 6,
   "metadata": {},
   "outputs": [
    {
     "data": {
      "text/plain": [
       "<AxesSubplot:xlabel='x', ylabel='y'>"
      ]
     },
     "execution_count": 6,
     "metadata": {},
     "output_type": "execute_result"
    },
    {
     "data": {
      "image/png": "[encoded data removed]",
      "text/plain": [
       "<Figure size 432x288 with 1 Axes>"
      ]
     },
     "metadata": {
      "needs_background": "light"
     },
     "output_type": "display_data"
    }
   ],
   "source": [
    "sns.scatterplot(x=ls[\"x\"], y=ls[\"y\"])\n",
    "sns.scatterplot(x=st[\"x\"], y=st[\"y\"])"
   ]
  },
  {
   "cell_type": "code",
   "execution_count": 7,
   "metadata": {},
   "outputs": [],
   "source": [
    "def dist(i,j):\n",
    "    return np.sqrt((ls.iloc[i].x-ls.iloc[j].x)**2 + (st.iloc[i].y-ls.iloc[j].y)**2)"
   ]
  },
  {
   "cell_type": "code",
   "execution_count": 8,
   "metadata": {},
   "outputs": [],
   "source": [
    "distances = pd.DataFrame(np.fromfunction(np.vectorize(dist), (30,50), dtype=int))"
   ]
  },
  {
   "cell_type": "code",
   "execution_count": 9,
   "metadata": {},
   "outputs": [],
   "source": [
    "distances.index = st[\"Name\"]\n",
    "distances.columns = ls[\"Name\"]"
   ]
  },
  {
   "cell_type": "code",
   "execution_count": 10,
   "metadata": {},
   "outputs": [],
   "source": [
    "ls[\"Angebot\"] = 40"
   ]
  },
  {
   "cell_type": "code",
   "execution_count": 11,
   "metadata": {
    "tags": []
   },
   "outputs": [
    {
     "name": "stdout",
     "output_type": "stream",
     "text": [
      "-8.0\n"
     ]
    }
   ],
   "source": [
    "G = nx.DiGraph()\n",
    "\n",
    "for i in range(30):\n",
    "    sink = st.iloc[i]\n",
    "    G.add_node(sink.Name, demand=round(sink.Bedarf))\n",
    "    \n",
    "for j in range(8):\n",
    "    source = ls.iloc[j]\n",
    "    G.add_node(source.Name, demand=-round(source.Angebot))\n",
    "    for i in range(30):\n",
    "        sink = st.iloc[i]\n",
    "        G.add_edge(source.Name, sink.Name, weight=round(100*dist(i,j)))\n",
    "\n",
    "surplus = sum([x[1][\"demand\"] for x in G.nodes(data=True)])\n",
    "print(surplus)\n",
    "G.add_node(\"NORMALIZER\", demand=-surplus)\n",
    "for node in G.nodes:\n",
    "    if surplus <= 0:\n",
    "        G.add_edge(node, \"NORMALIZER\", weight=10000)\n",
    "    else:\n",
    "        G.add_edge(\"NORMALIZER\", node, weight=10000)"
   ]
  },
  {
   "cell_type": "code",
   "execution_count": 12,
   "metadata": {},
   "outputs": [],
   "source": [
    "flowCost, flowDict = nx.network_simplex(G)"
   ]
  },
  {
   "cell_type": "code",
   "execution_count": 13,
   "metadata": {},
   "outputs": [],
   "source": [
    "def filterempty(x):\n",
    "    return {k:v for k, v in filter(lambda x: x[1]>0,x.items())}"
   ]
  },
  {
   "cell_type": "code",
   "execution_count": 14,
   "metadata": {},
   "outputs": [],
   "source": [
    "activeFlow = {k:filterempty(v) for k,v in flowDict.items() if len(filterempty(v))>0}"
   ]
  },
  {
   "cell_type": "code",
   "execution_count": null,
   "metadata": {
    "tags": []
   },
   "outputs": [],
   "source": []
  },
  {
   "cell_type": "code",
   "execution_count": null,
   "metadata": {},
   "outputs": [],
   "source": []
  }
 ],
 "metadata": {
  "interpreter": {
   "hash": "b14210467f0ca0a051694578c14c62d7ab066db3d807d96d7def9705526b02c0"
  },
  "kernelspec": {
   "display_name": "Python 3 (ipykernel)",
   "language": "python",
   "name": "python3"
  },
  "language_info": {
   "codemirror_mode": {
    "name": "ipython",
    "version": 3
   },
   "file_extension": ".py",
   "mimetype": "text/x-python",
   "name": "python",
   "nbconvert_exporter": "python",
   "pygments_lexer": "ipython3",
   "version": "3.7.11"
  }
 },
 "nbformat": 4,
 "nbformat_minor": 4
}
