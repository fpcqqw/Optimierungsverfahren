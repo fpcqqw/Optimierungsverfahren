{
 "cells": [
  {
   "cell_type": "code",
   "execution_count": 39,
   "metadata": {},
   "outputs": [],
   "source": [
    "import pandas as pd\n",
    "import plotly.express as px\n",
    "import plotly.graph_objects as go\n",
    "import numpy as np"
   ]
  },
  {
   "cell_type": "code",
   "execution_count": 26,
   "metadata": {},
   "outputs": [],
   "source": [
    "import seaborn as sns"
   ]
  },
  {
   "cell_type": "code",
   "execution_count": 3,
   "metadata": {},
   "outputs": [],
   "source": [
    "ls = pd.read_csv(\"ladestationen.csv\")\n",
    "st = pd.read_csv(\"stadtteile.csv\")"
   ]
  },
  {
   "cell_type": "code",
   "execution_count": 5,
   "metadata": {},
   "outputs": [
    {
     "data": {
      "text/plain": [
       "311.49"
      ]
     },
     "execution_count": 5,
     "metadata": {},
     "output_type": "execute_result"
    }
   ],
   "source": [
    "st[\"Bedarf\"].sum()"
   ]
  },
  {
   "cell_type": "code",
   "execution_count": 30,
   "metadata": {},
   "outputs": [
    {
     "data": {
      "text/plain": [
       "<AxesSubplot:xlabel='x', ylabel='y'>"
      ]
     },
     "execution_count": 30,
     "metadata": {},
     "output_type": "execute_result"
    },
    {
     "data": {
      "image/png": "[encoded data removed]",
      "text/plain": [
       "<Figure size 432x288 with 1 Axes>"
      ]
     },
     "metadata": {
      "needs_background": "light"
     },
     "output_type": "display_data"
    }
   ],
   "source": [
    "sns.scatterplot(x=ls[\"x\"], y=ls[\"y\"])\n",
    "sns.scatterplot(x=st[\"x\"], y=st[\"y\"])"
   ]
  },
  {
   "cell_type": "code",
   "execution_count": 33,
   "metadata": {},
   "outputs": [
    {
     "data": {
      "text/plain": [
       "(30, 5)"
      ]
     },
     "execution_count": 33,
     "metadata": {},
     "output_type": "execute_result"
    }
   ],
   "source": [
    "st.shape"
   ]
  },
  {
   "cell_type": "code",
   "execution_count": 32,
   "metadata": {},
   "outputs": [
    {
     "data": {
      "text/plain": [
       "(50, 4)"
      ]
     },
     "execution_count": 32,
     "metadata": {},
     "output_type": "execute_result"
    }
   ],
   "source": [
    "ls.shape"
   ]
  },
  {
   "cell_type": "code",
   "execution_count": 38,
   "metadata": {},
   "outputs": [],
   "source": [
    "c = \n",
    "r = st"
   ]
  },
  {
   "cell_type": "code",
   "execution_count": 71,
   "metadata": {},
   "outputs": [
    {
     "data": {
      "text/plain": [
       "1.8418997979519722"
      ]
     },
     "execution_count": 71,
     "metadata": {},
     "output_type": "execute_result"
    }
   ],
   "source": [
    "def dist(i,j):\n",
    "    return np.sqrt((ls.iloc[i].x-st.iloc[j].x)**2 + (ls.iloc[i].y-st.iloc[j].y)**2)\n",
    "\n",
    "dist(0,0)\n"
   ]
  },
  {
   "cell_type": "code",
   "execution_count": 76,
   "metadata": {},
   "outputs": [],
   "source": [
    "m_dist = np.fromfunction(np.vectorize(dist), (44,11), dtype=int)"
   ]
  },
  {
   "cell_type": "code",
   "execution_count": 78,
   "metadata": {},
   "outputs": [
    {
     "data": {
      "text/plain": [
       "array([[ 1.8418998 , 11.67449556,  8.24929597,  7.91832737,  8.26848082,\n",
       "         2.11190568,  7.45608804, 10.46635889, 10.10531592,  5.90859352,\n",
       "        12.08245498],\n",
       "       [ 9.7858506 ,  4.61898952, 14.01216492, 17.01993407,  5.88040643,\n",
       "         9.49454608, 15.35884571, 10.16250966,  8.23184099, 14.18994098,\n",
       "         5.35393789],\n",
       "       [ 7.56000842, 18.07938046,  2.01018073, 12.31823215,  8.52121479,\n",
       "        11.46017331,  5.88853983,  5.96435992, 18.66920758, 13.54576767,\n",
       "        12.78618938],\n",
       "       [ 6.50467129, 18.21477349,  8.83083632,  1.55637276, 14.13965823,\n",
       "         7.05581699,  5.27072634, 14.80326973, 15.4560325 ,  4.55356982,\n",
       "        18.43366694],\n",
       "       [ 9.00446538,  6.80274471, 15.30336043, 13.07312292, 11.30673972,\n",
       "         5.77570092, 14.66030289, 15.13939397,  2.90648269,  9.04327579,\n",
       "        12.81898748],\n",
       "       [ 9.1819064 , 12.79803327,  8.9449589 , 16.77716127,  2.52929058,\n",
       "        11.86475712, 12.05466754,  2.17626327, 15.52533261, 15.94918428,\n",
       "         5.2620104 ],\n",
       "       [10.17749719,  3.89052837, 16.05324669, 15.46476313, 10.29637859,\n",
       "         7.75746159, 16.08444918, 14.46403283,  2.78563625, 11.66600065,\n",
       "        10.82599317],\n",
       "       [ 6.93441525,  9.49905432,  9.41914451, 14.79029934,  1.31874559,\n",
       "         8.67510861, 11.47775664,  5.43944743, 11.72229253, 13.14322982,\n",
       "         5.010345  ],\n",
       "       [ 4.59657585, 17.45172608,  4.83978498,  5.52898722, 11.2469188 ,\n",
       "         7.31770998,  1.74972279, 11.1590687 , 15.9348865 ,  7.36820297,\n",
       "        15.76748937],\n",
       "       [ 7.03084202, 16.73095509, 11.21271409,  2.77957151, 14.63126404,\n",
       "         5.72722596,  8.08071494, 16.14056573, 13.21830934,  1.57713856,\n",
       "        18.53948436],\n",
       "       [ 9.04697954, 20.04985559,  2.70108649, 12.66653465, 10.49150745,\n",
       "        12.92020529,  5.97733015,  7.63091637, 20.46422661, 14.47626397,\n",
       "        14.68389832],\n",
       "       [12.65339235,  9.85087293, 14.23956621, 20.50523769,  5.18331251,\n",
       "        13.9901243 , 16.89716599,  7.63776367, 14.27968368, 18.63092383,\n",
       "         0.79288346],\n",
       "       [ 6.71026791, 19.55937471,  4.37434914,  6.645294  , 12.52051902,\n",
       "         9.64018145,  0.82571386, 11.64482973, 18.24004607,  9.35933507,\n",
       "        17.09710982],\n",
       "       [13.2960096 ,  0.45309942, 18.41296082, 19.46798802, 10.74757885,\n",
       "        11.65138745, 19.18399804, 15.02807524,  5.9473118 , 15.86485555,\n",
       "         9.38139204],\n",
       "       [ 5.11017652,  7.96351718, 11.09797875, 11.25180082,  7.43379164,\n",
       "         3.54082995, 11.03004001, 10.919437  ,  6.93232152,  8.22223522,\n",
       "        10.07015908],\n",
       "       [ 3.75840055, 10.85776273, 10.15296542,  8.18243525,  9.40967416,\n",
       "         0.44013758,  9.06045972, 12.07792912,  8.52801682,  5.16210161,\n",
       "        12.76668458],\n",
       "       [ 6.95038664, 12.79826224, 12.91345995,  7.20671784, 13.20408846,\n",
       "         3.4250201 , 10.81132155, 15.81932791,  8.80534842,  2.91357113,\n",
       "        16.35681885],\n",
       "       [11.06327755, 17.15932919,  7.91199547, 17.6501693 ,  6.71655364,\n",
       "        14.51442276, 11.71144762,  2.44325368, 19.53067816, 17.87954039,\n",
       "         9.28089365],\n",
       "       [ 7.39020925, 19.14214617,  1.10911197, 10.61164113, 10.27604696,\n",
       "        11.18151871,  3.94031521,  8.21304435, 19.06810665, 12.45731712,\n",
       "        14.71589832],\n",
       "       [10.91046696,  2.60375455, 15.66925435, 17.66298155,  7.88363853,\n",
       "         9.90283205, 16.69255504, 12.17486401,  6.74388529, 14.44230623,\n",
       "         7.04333863],\n",
       "       [13.11283154,  3.60542251, 19.0065714 , 17.97226273, 12.80196039,\n",
       "        10.46415753, 19.00108957, 17.06169945,  2.53256086, 13.94887616,\n",
       "        12.52561534],\n",
       "       [ 6.85418875, 19.49303329,  6.87778979,  3.93870685, 13.85069739,\n",
       "         8.72731955,  3.01059931, 13.69372549, 17.38959102,  7.2337936 ,\n",
       "        18.35418047],\n",
       "       [11.11459523, 22.52148709,  4.73791916, 13.46707614, 12.98091293,\n",
       "        14.89988728,  6.90795195,  9.91550133, 22.74429196, 15.8829382 ,\n",
       "        17.10956544],\n",
       "       [ 2.49193002, 11.01664794,  7.18343329, 10.32038234,  5.37186773,\n",
       "         4.79809119,  7.87274156,  7.62409628, 10.95374828,  8.84273054,\n",
       "         9.45429927],\n",
       "       [ 2.94422055, 13.47364084,  8.55756642,  5.74590628, 10.37324406,\n",
       "         2.45689234,  6.71766647, 12.15877773, 11.13133557,  3.93378016,\n",
       "        14.29563261],\n",
       "       [ 5.43298331, 17.56895156,  1.30160856,  9.0803051 ,  9.41915861,\n",
       "         9.18359843,  2.79328635,  8.22309566, 17.18903008, 10.55222361,\n",
       "        13.97790778],\n",
       "       [ 8.94608858, 17.37590951, 13.34987892,  4.12221009, 16.37793687,\n",
       "         6.94415362, 10.15672893, 18.13419093, 13.282095  ,  2.23440459,\n",
       "        20.08705463],\n",
       "       [ 8.01490369, 19.94131652,  9.31158301,  1.78675333, 15.51481527,\n",
       "         8.78710942,  5.48439291, 15.82759267, 17.1511476 ,  5.95837615,\n",
       "        19.89468977],\n",
       "       [ 7.77316314,  5.10290153, 13.23567182, 14.15889315,  7.30855571,\n",
       "         6.37737367, 13.68611009, 11.41405338,  5.6935842 , 10.92903801,\n",
       "         8.54598313],\n",
       "       [14.65197538, 13.37018405, 14.74945736, 22.44322453,  6.95981006,\n",
       "        16.63721372, 17.9543474 ,  7.3419274 , 17.76927716, 21.10876275,\n",
       "         4.18631288],\n",
       "       [ 8.7433816 , 17.54917953,  4.40685523, 14.48144413,  7.33552718,\n",
       "        12.53344507,  8.26423059,  3.88834588, 18.88645105, 15.24812881,\n",
       "        11.1631568 ],\n",
       "       [ 8.63223967, 11.41956933, 14.89089066,  9.61765967, 13.79596721,\n",
       "         4.74797435, 13.10094323, 16.90917786,  6.77720843,  5.27335646,\n",
       "        16.36229803],\n",
       "       [12.22616703,  3.88125882, 16.28190561, 19.39602049,  7.63919369,\n",
       "        11.76996842, 17.77287791, 11.74675833,  8.91196381, 16.41336001,\n",
       "         5.50850824],\n",
       "       [ 9.78336761,  9.00988796, 11.84730239, 17.6308461 ,  2.5838727 ,\n",
       "        11.19382343, 14.22595492,  6.19190007, 12.53513029, 15.79552103,\n",
       "         2.14899714],\n",
       "       [ 6.98798132, 15.52699809,  4.33283545, 13.45334375,  5.54596849,\n",
       "        10.65266803,  7.80439574,  3.18635563, 16.78411238, 13.71567214,\n",
       "         9.73216526],\n",
       "       [ 9.06805001, 21.72571859,  4.5417035 ,  9.08948782, 13.71582434,\n",
       "        12.30000359,  3.31798655, 11.95863239, 20.8022019 , 12.11859263,\n",
       "        18.24426497],\n",
       "       [ 5.33873194,  7.91947737, 10.13161206, 12.7246723 ,  4.76342183,\n",
       "         5.65195557, 11.00949857,  8.49172714,  8.70211544, 10.33922645,\n",
       "         7.56058181],\n",
       "       [11.78509239,  7.30537242, 14.52461704, 19.49721663,  5.29307542,\n",
       "        12.45529045, 16.6834275 ,  8.87489611, 11.80568634, 17.17310578,\n",
       "         2.02338948],\n",
       "       [ 0.77018133, 12.68160487,  6.07977286,  8.55744898,  6.99683691,\n",
       "         4.44341203,  6.08545607,  8.45390463, 11.97177821,  7.63717218,\n",
       "        11.27398553],\n",
       "       [12.29119391, 12.00633406, 12.73207876, 20.09637046,  4.59266254,\n",
       "        14.300049  , 15.77305411,  5.5793437 , 15.95540339, 18.74739945,\n",
       "         2.78055915],\n",
       "       [ 8.67605077, 19.30511508, 11.46807172,  1.1283456 , 16.3921616 ,\n",
       "         8.18382931,  7.82685681, 17.34548757, 15.85149106,  4.16354175,\n",
       "        20.5314716 ],\n",
       "       [11.78327552,  5.93526675, 18.01761312, 15.68342539, 13.15391513,\n",
       "         8.58763625, 17.47998791, 17.22696851,  0.30699754, 11.5077843 ,\n",
       "        13.82100119],\n",
       "       [ 6.89581444, 15.02692466, 12.05653261,  4.82848278, 14.0713054 ,\n",
       "         4.48689937,  9.3690269 , 16.1039598 , 11.24570369,  0.47709005,\n",
       "        17.66753904],\n",
       "       [ 6.50834501,  7.99543335, 10.26493518, 14.19748941,  3.16851657,\n",
       "         7.42480808, 11.75029632,  7.25455865,  9.86419126, 12.06789853,\n",
       "         5.78658981]])"
      ]
     },
     "execution_count": 78,
     "metadata": {},
     "output_type": "execute_result"
    }
   ],
   "source": [
    "m_dist"
   ]
  },
  {
   "cell_type": "code",
   "execution_count": null,
   "metadata": {},
   "outputs": [],
   "source": []
  }
 ],
 "metadata": {
  "interpreter": {
   "hash": "b14210467f0ca0a051694578c14c62d7ab066db3d807d96d7def9705526b02c0"
  },
  "kernelspec": {
   "display_name": "Python 3 (ipykernel)",
   "language": "python",
   "name": "python3"
  },
  "language_info": {
   "codemirror_mode": {
    "name": "ipython",
    "version": 3
   },
   "file_extension": ".py",
   "mimetype": "text/x-python",
   "name": "python",
   "nbconvert_exporter": "python",
   "pygments_lexer": "ipython3",
   "version": "3.9.7"
  }
 },
 "nbformat": 4,
 "nbformat_minor": 4
}
