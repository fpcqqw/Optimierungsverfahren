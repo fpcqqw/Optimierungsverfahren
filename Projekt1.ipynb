{
 "cells": [
  {
   "cell_type": "markdown",
   "id": "831a6711-1215-4cd1-9d39-0242ef9dcd90",
   "metadata": {},
   "source": [
    "# Project 1 - Locations of charging stations for battery electric vehicles."
   ]
  },
  {
   "cell_type": "markdown",
   "id": "f7e054e6-a7f6-41f1-99b7-c14b45ab91cd",
   "metadata": {
    "tags": []
   },
   "source": [
    "## Introduction to the project"
   ]
  },
  {
   "cell_type": "markdown",
   "id": "3407c00a-deb6-47d2-be13-470d163bdcf4",
   "metadata": {
    "tags": []
   },
   "source": [
    "### Objective"
   ]
  },
  {
   "cell_type": "markdown",
   "id": "a865e383-2ca5-4217-8a5d-6dd081643b73",
   "metadata": {},
   "source": [
    "The goal of the modeling is to find out at which location a charging station should be built and of what type it should be. \n",
    "\n",
    "In **task 1**, the goal is to find the location while minimizing the investment costs. \n",
    "\n",
    "In **task 2** the investment costs should still remain minimal. Furthermore, the Euclidean distance between the district and the location of the charging station, where the citizens of the district charge their vehicles, should not exceed 2 km. \n",
    "\n",
    "In **task 3**, locations for charging stations are to be selected in such a way that a maximum of €1.8 million in investment costs is not exceeded. Here, too, the maximum distance between the district and the charging station serving the district should not exceed 2 km. "
   ]
  },
  {
   "cell_type": "markdown",
   "id": "8eb2c7a1-d608-40e9-9d49-c32678535142",
   "metadata": {
    "tags": []
   },
   "source": [
    "### Data set"
   ]
  },
  {
   "cell_type": "markdown",
   "id": "24658c13-cf48-476e-9c5b-040a99d102a4",
   "metadata": {},
   "source": [
    "The dataset consists of two csv files: \n",
    "\n",
    "* 'ladestationen.csv':<br />\n",
    "    Contains the numbers and coordinates of possible locations for\n",
    "    charging stations.\n",
    "\n",
    "* 'stadtteile.csv':<br />\n",
    "    Contains the coordinates as well as the demand from the districts.\n"
   ]
  },
  {
   "cell_type": "markdown",
   "id": "a3edb5d8-45cf-442d-bab0-a40db9e3af67",
   "metadata": {
    "tags": []
   },
   "source": [
    "## Mathematical Modeling"
   ]
  },
  {
   "cell_type": "markdown",
   "id": "8821152d-82b9-4b5b-b108-6d78018002b1",
   "metadata": {},
   "source": [
    "Every model consists of five essential parts. \n",
    "\n",
    "1. The *index set* is introduced to ensure consistent numbering of parameters and decision variables. It's the same for every task.\n",
    "2. The *parameters* control the operation of the Gurobi solvers. They must be modified before the optimization begins.\n",
    "3. The *decision variables* are the variables we're interested in. The aim of the optimization is to get values for the decision variables so the objective function is minimized / maximized.\n",
    "4. The *objective function* is the function which has to be minimized or maximized.\n",
    "5. The *constraints* limit the possible solution set of the objective function to get appropriate values for the decision variables according to the framework. \n",
    "\n",
    "In the following, the model consisting of these five parts can be viewed for each of the tasks. The index set is not subject to change here."
   ]
  },
  {
   "cell_type": "markdown",
   "id": "18fe7b78-6638-4f53-bda9-4779262c4cdd",
   "metadata": {
    "tags": []
   },
   "source": [
    "### Task 1"
   ]
  },
  {
   "cell_type": "markdown",
   "id": "bff53157-e1f9-4471-83c3-84360401f6b2",
   "metadata": {
    "tags": []
   },
   "source": [
    "#### Index sets"
   ]
  },
  {
   "cell_type": "markdown",
   "id": "b25f6478-705e-4893-9865-fe48e1b6dc15",
   "metadata": {},
   "source": [
    "$dis\\_idx \\in DIS\\_IDX$: Index and set of districts.\n",
    "\n",
    "$cs\\_idx\\_s \\in CS\\_IDX\\_S = [0,49]$: Index and set of charging stations of type 'small'.\n",
    "\n",
    "$cs\\_idx\\_m \\in CS\\_IDX\\_M = [50,99]$: Index and set of charging stations of type 'medium'.\n",
    "\n",
    "$cs\\_idx\\_l \\in CS\\_IDX\\_L = [100,149]$: Index and set of charging stations of type 'large'.\n",
    "\n",
    "$cs\\_idx \\in CS\\_IDX = CS\\_IDX\\_S \\cup CS\\_IDX\\_M \\cup CS\\_IDX\\_L$: Index and set of all charging stations.\n",
    "\n",
    "\n",
    "\n",
    "\n",
    "$\\quad \\forall cs\\_idx \\in CS\\_IDX$: Type of $cs\\_idx$ = $cs\\_idx$ // 50 (0:'small', 1:'medium', 2:'large')\n",
    "\n",
    "$\\quad \\forall cs\\_idx \\in CS\\_IDX$: Position of $cs\\_idx$ = $cs\\_idx$ % 50.\n",
    "\n"
   ]
  },
  {
   "cell_type": "markdown",
   "id": "b5ab2152-3720-4077-b390-6b8b80e21e41",
   "metadata": {
    "tags": []
   },
   "source": [
    "#### Parameters"
   ]
  },
  {
   "cell_type": "markdown",
   "id": "494ceed0-ef7d-43e8-a41c-f7853da0b444",
   "metadata": {},
   "source": [
    "$dis\\_demand_{dis\\_idx} \\in \\mathbb{R}^+$: Demand for chargers in district $dis\\_idx$.\n",
    "\n",
    "$\\text{costS} = 100000$: Cost of building a charging station of the type $cs\\_idx\\_s$.\n",
    "\n",
    "$\\text{costM} = 170000$: Cost of building a charging station of the type $cs\\_idx\\_m$.\n",
    "\n",
    "$\\text{costL} = 200000$: Cost of building a charging station of the type $cs\\_idx\\_l$.\n",
    "\n",
    "$capS= 10$: Number of chargers of charging stations of type $cs\\_idx\\_s$.\n",
    " \n",
    "$capM = 30$: Number of chargers of charging stations of type $cs\\_idx\\_m$.\n",
    "\n",
    "$capL = 40$: Number of chargers of charging stations of type $cs\\_idx\\_l$.\n",
    "\n",
    "$x_{cs\\_idx,dis\\_idx} \\in \\mathbb{R}^+$: Amount of the district's $dis\\_idx$ demand met by charging station $cs\\_idx$. "
   ]
  },
  {
   "cell_type": "markdown",
   "id": "81d4f791-9a5b-431b-a7b8-8efb64bab946",
   "metadata": {},
   "source": [
    "#### Decision variables"
   ]
  },
  {
   "cell_type": "markdown",
   "id": "310c8ca9-c74e-4b8a-9946-fe3f70484fa2",
   "metadata": {},
   "source": [
    "$ys_{cs\\_idx\\_s} \\in \\{0, 1 \\}$: This variable equals 1 if a charging station of type $cs\\_idx\\_s$ is built at position of $cs\\_idx\\_s$; otherwise 0.\n",
    "\n",
    "$ym_{cs\\_idx\\_m} \\in \\{0, 1 \\}$: This variable equals 1 if a charging station of type $cs\\_idx\\_m$ is built at position of $cs\\_idx\\_m$; otherwise 0.\n",
    "\n",
    "$yl_{cs\\_idx\\_l} \\in \\{0, 1 \\}$: This variable equals 1 if a charging station of type $cs\\_idx\\_l$ is built at position of $cs\\_idx\\_l$; otherwise 0.\n"
   ]
  },
  {
   "cell_type": "markdown",
   "id": "b5509f60-b839-4e28-bd67-d9a84e2c374d",
   "metadata": {},
   "source": [
    "#### Objective function"
   ]
  },
  {
   "cell_type": "markdown",
   "id": "fc019597-b72e-4046-8eeb-301b6fdcde10",
   "metadata": {},
   "source": [
    "- **Costs**. Minimize investment costs.\n",
    " \n",
    "\n",
    "\\begin{equation}\n",
    "\\text{Min} \\quad Z = \n",
    "\\text{costS}* \\sum_{cs\\_idx\\_s \\in CS\\_IDX\\_S} ys_{cs\\_idx\\_s} + \\text{costM}* \\sum_{cs\\_idx\\_m \\in CS\\_IDX\\_M} ym_{cs\\_idx\\_m} + \\text{costL}* \\sum_{cs\\_idx\\_l \\in CS\\_IDX\\_L} yl_{cs\\_idx\\_l}  \n",
    "\\tag{0}\n",
    "\\end{equation}"
   ]
  },
  {
   "cell_type": "markdown",
   "id": "a1c21d2b-ce16-46d5-b2be-1a3a2ea3c841",
   "metadata": {},
   "source": [
    "#### Constraints"
   ]
  },
  {
   "cell_type": "markdown",
   "id": "865d8b86-f67f-443c-90b3-6dd747b51e3b",
   "metadata": {},
   "source": [
    "- **Demand**. The complete demand of a district $dis\\_idx$ should be met.\n",
    "\n",
    "\\begin{equation}\n",
    "\\sum_{cs\\_idx  \\in  CS\\_IDX} x_{cs\\_idx,dis\\_idx} = dis\\_demand_{dis\\_idx} \\quad \\forall dis\\_idx \\in DIS\\_IDX\n",
    "\\tag{1}\n",
    "\\end{equation}\n",
    "\n",
    "- **Capacity**. Capacity of a charging station $cs\\_idx$ (number of chargers) cannot be exceeded. \n",
    "\\begin{equation}\n",
    "\\sum_{dis\\_idx \\in DIS\\_IDX} x_{cs\\_idx,dis\\_idx} \\leq ys_{cs\\_idx}*capS + ym_{cs\\_idx}*capM + yl_{cs\\_idx}*capL  \\quad \\forall cs\\_idx \\in CS\\_IDX\n",
    "\\tag{2}\n",
    "\\end{equation}\n",
    "\n",
    "- **Location**. At every possible location $cs\\_idx$ a maximum of one charging station can be built. \n",
    "\n",
    "\\begin{equation}\n",
    "ys_{cs\\_idx} + ym_{cs\\_idx} + yl_{cs\\_idx} \\leq 1 \\quad \\forall cs\\_idx \\in CS\\_IDX\n",
    "\\tag{3}\n",
    "\\end{equation}"
   ]
  },
  {
   "cell_type": "markdown",
   "id": "f2bad67a-8db1-4752-ab96-b1b3f3973726",
   "metadata": {
    "tags": []
   },
   "source": [
    "### Task 2"
   ]
  },
  {
   "cell_type": "markdown",
   "id": "bae31845-b073-481a-9aee-37669270f57c",
   "metadata": {},
   "source": [
    "#### Index sets"
   ]
  },
  {
   "cell_type": "markdown",
   "id": "57578e7f-2cfd-4277-b30d-32cc94fc77ad",
   "metadata": {},
   "source": [
    "$dis\\_idx \\in DIS\\_IDX$: Index and set of districts.\n",
    "\n",
    "$cs\\_idx\\_s \\in CS\\_IDX\\_S = [0,49]$: Index and set of charging stations of type 'small'.\n",
    "\n",
    "$cs\\_idx\\_m \\in CS\\_IDX\\_M = [50,99]$: Index and set of charging stations of type 'medium'.\n",
    "\n",
    "$cs\\_idx\\_l \\in CS\\_IDX\\_L = [100,149]$: Index and set of charging stations of type 'large'.\n",
    "\n",
    "$cs\\_idx \\in CS\\_IDX = CS\\_IDX\\_S \\cup CS\\_IDX\\_M \\cup CS\\_IDX\\_L$: Index and set of all charging stations.\n",
    "\n",
    "\n",
    "\n",
    "\n",
    "$\\quad \\forall cs\\_idx \\in CS\\_IDX$: Type of $cs\\_idx$ = $cs\\_idx$ // 50 (0:'small', 1:'medium', 2:'large')\n",
    "\n",
    "$\\quad \\forall cs\\_idx \\in CS\\_IDX$: Position of $cs\\_idx$ = $cs\\_idx$ % 50.\n",
    "\n"
   ]
  },
  {
   "cell_type": "markdown",
   "id": "1320a672-9ec5-431f-a9f9-cfffdda6df73",
   "metadata": {},
   "source": [
    "#### Parameters"
   ]
  },
  {
   "cell_type": "markdown",
   "id": "16d795b6-8a13-4933-8e25-a90e8e8aaf24",
   "metadata": {},
   "source": [
    "$bigM = 40$: Usage of bigM formulation for radius constraints.\n",
    "\n",
    "$radius = 2$: Maximum Euclidean distance between a district $dis\\_idx$ and a charging station $cs\\_idx$ serving the district.\n",
    "\n",
    "$dist\\_dict_{cs\\_idx,dis\\_idx} \\in \\mathbb{R}^+$: Euclidean distance between district $dis\\_idx$ and charging station $cs\\_idx$.\n",
    "\n",
    "$dis\\_demand_{dis\\_idx} \\in \\mathbb{R}^+$: Demand for chargers in district $dis\\_idx$.\n",
    "\n",
    "$\\text{costS} = 100000$: Cost of building a charging station of the type $cs\\_idx\\_s$.\n",
    "\n",
    "$\\text{costM} = 170000$: Cost of building a charging station of the type $cs\\_idx\\_m$.\n",
    "\n",
    "$\\text{costL} = 200000$: Cost of building a charging station of the type $cs\\_idx\\_l$.\n",
    "\n",
    "$capS= 10$: Number of chargers of charging stations of type $cs\\_idx\\_s$.\n",
    " \n",
    "$capM = 30$: Number of chargers of charging stations of type $cs\\_idx\\_m$.\n",
    "\n",
    "$capL = 40$: Number of chargers of charging stations of type $cs\\_idx\\_l$.\n",
    "\n",
    "$x_{cs\\_idx,dis\\_idx} \\in \\mathbb{R}^+$: Amount of the district's $dis\\_idx$ demand met by charging station $cs\\_idx$. \n"
   ]
  },
  {
   "cell_type": "markdown",
   "id": "64dbb8a4-abda-40c0-ab66-1af8ac7236cd",
   "metadata": {},
   "source": [
    "#### Decision variables"
   ]
  },
  {
   "cell_type": "markdown",
   "id": "ddd65ba4-1506-47b8-9b63-3e264cd8a1c2",
   "metadata": {},
   "source": [
    "$ys_{cs\\_idx\\_s} \\in \\{0, 1 \\}$: This variable equals 1 if a charging station of type $cs\\_idx\\_s$ is built at position of $cs\\_idx\\_s$; otherwise 0.\n",
    "\n",
    "$ym_{cs\\_idx\\_m} \\in \\{0, 1 \\}$: This variable equals 1 if a charging station of type $cs\\_idx\\_m$ is built at position of $cs\\_idx\\_m$; otherwise 0.\n",
    "\n",
    "$yl_{cs\\_idx\\_l} \\in \\{0, 1 \\}$: This variable equals 1 if a charging station of type $cs\\_idx\\_l$ is built at position of $cs\\_idx\\_l$; otherwise 0."
   ]
  },
  {
   "cell_type": "markdown",
   "id": "7dc72e68-692c-4880-b505-82609dff1917",
   "metadata": {},
   "source": [
    "#### Objective function"
   ]
  },
  {
   "cell_type": "markdown",
   "id": "b59d7a10-fe67-46f2-ba79-11cc5f152bdf",
   "metadata": {},
   "source": [
    "- **Costs**. Minimize investment costs.\n",
    " \n",
    "\n",
    "\\begin{equation}\n",
    "\\text{Min} \\quad Z = \n",
    "\\text{costS}* \\sum_{cs\\_idx\\_s \\in CS\\_IDX\\_S} ys_{cs\\_idx\\_s} + \\text{costM}* \\sum_{cs\\_idx\\_m \\in CS\\_IDX\\_M} ym_{cs\\_idx\\_m} + \\text{costL}* \\sum_{cs\\_idx\\_l \\in CS\\_IDX\\_L} yl_{cs\\_idx\\_l}  \n",
    "\\tag{0}\n",
    "\\end{equation}"
   ]
  },
  {
   "cell_type": "markdown",
   "id": "f792b344-04cd-4a34-9584-8b7b3564589f",
   "metadata": {},
   "source": [
    "#### Constraints"
   ]
  },
  {
   "cell_type": "markdown",
   "id": "69460415-1858-43f3-bb9c-4d4ce2729ac3",
   "metadata": {},
   "source": [
    "- **Demand**. The complete demand of a district $dis\\_idx$ should be met.\n",
    "\n",
    "\\begin{equation}\n",
    "\\sum_{cs\\_idx  \\in  CS\\_IDX} x_{cs\\_idx,dis\\_idx} = dis\\_demand_{dis\\_idx} \\quad \\forall dis\\_idx \\in DIS\\_IDX\n",
    "\\tag{1}\n",
    "\\end{equation}\n",
    "\n",
    "- **Capacity**. Capacity of a charging station $cs\\_idx$ (number of chargers) cannot be exceeded. \n",
    "\\begin{equation}\n",
    "\\sum_{dis\\_idx \\in DIS\\_IDX} x_{cs\\_idx,dis\\_idx} \\leq ys_{cs\\_idx}*capS + ym_{cs\\_idx}*capM + yl_{cs\\_idx}*capL  \\quad \\forall cs\\_idx \\in CS\\_IDX\n",
    "\\tag{2}\n",
    "\\end{equation}\n",
    "\n",
    "- **Location**. At every possible location $cs\\_idx$ a maximum of one charging station can be built. \n",
    "\n",
    "\\begin{equation}\n",
    "ys_{cs\\_idx} + ym_{cs\\_idx} + yl_{cs\\_idx} \\leq 1 \\quad \\forall cs\\_idx \\in CS\\_IDX\n",
    "\\tag{3}\n",
    "\\end{equation}\n",
    "\n",
    "- **Radius**. The distance between a district $dis\\_idx$ and a charging station $cs\\_idx$ serving the district should not exceed the radius.\n",
    "\n",
    "\\begin{equation}\n",
    "x_{cs\\_idx,dis\\_idx} \\leq bigM*(dist\\_dict[(cs\\_idx, dis\\_idx)] \\leq 2) \\quad \\forall cs\\_idx, dis\\_idx \\in CS\\_IDX, DIS\\_IDX\n",
    "\\tag{4}\n",
    "\\end{equation}"
   ]
  },
  {
   "cell_type": "markdown",
   "id": "ef4df9f2-0e1c-4274-993a-2baec00bbfc8",
   "metadata": {
    "tags": []
   },
   "source": [
    "### Task 3"
   ]
  },
  {
   "cell_type": "markdown",
   "id": "4dba7cc1-c787-4b2b-bb98-2206f8ffa57c",
   "metadata": {},
   "source": [
    "#### Index sets\n"
   ]
  },
  {
   "cell_type": "markdown",
   "id": "837dd166-041c-4b4e-a1be-37f8e561335e",
   "metadata": {},
   "source": [
    "$dis\\_idx \\in DIS\\_IDX$: Index and set of districts.\n",
    "\n",
    "$cs\\_idx\\_s \\in CS\\_IDX\\_S = [0,49]$: Index and set of charging stations of type 'small'.\n",
    "\n",
    "$cs\\_idx\\_m \\in CS\\_IDX\\_M = [50,99]$: Index and set of charging stations of type 'medium'.\n",
    "\n",
    "$cs\\_idx\\_l \\in CS\\_IDX\\_L = [100,149]$: Index and set of charging stations of type 'large'.\n",
    "\n",
    "$cs\\_idx \\in CS\\_IDX = CS\\_IDX\\_S \\cup CS\\_IDX\\_M \\cup CS\\_IDX\\_L$: Index and set of all charging stations.\n",
    "\n",
    "\n",
    "\n",
    "\n",
    "$\\quad \\forall cs\\_idx \\in CS\\_IDX$: Type of $cs\\_idx$ = $cs\\_idx$ // 50 (0:'small', 1:'medium', 2:'large')\n",
    "\n",
    "$\\quad \\forall cs\\_idx \\in CS\\_IDX$: Position of $cs\\_idx$ = $cs\\_idx$ % 50.\n",
    "\n"
   ]
  },
  {
   "cell_type": "markdown",
   "id": "aa70ac23-4b5f-451c-bd22-e1e956de8b1d",
   "metadata": {},
   "source": [
    "#### Parameters"
   ]
  },
  {
   "cell_type": "markdown",
   "id": "2b32f7d6-d933-4d45-84e0-8bbdab3e8118",
   "metadata": {},
   "source": [
    "$bigM = 40$: Usage of bigM formulation for radius constraints. \n",
    "\n",
    "$budget = 1800000$: Maximum investment costs.\n",
    "\n",
    "$ys_{cs\\_idx\\_s} \\in \\{0, 1 \\}$: This variable equals 1 if a charging station of type $cs\\_idx\\_s$ is built at position of $cs\\_idx\\_s$; otherwise 0.\n",
    "\n",
    "$ym_{cs\\_idx\\_m} \\in \\{0, 1 \\}$: This variable equals 1 if a charging station of type $cs\\_idx\\_m$ is built at position of $cs\\_idx\\_m$; otherwise 0.\n",
    "\n",
    "$yl_{cs\\_idx\\_l} \\in \\{0, 1 \\}$: This variable equals 1 if a charging station of type $cs\\_idx\\_l$ is built at position of $cs\\_idx\\_l$; otherwise 0.\n",
    "\n",
    "$radius = 2$: Maximum Euclidean distance between a district $dis\\_idx$ and a charging station $cs\\_idx$ serving the district.\n",
    "\n",
    "$dist\\_dict_{cs\\_idx,dis\\_idx} \\in \\mathbb{R}^+$: Euclidean distance between district $dis\\_idx$ and charging station $cs\\_idx$.\n",
    "\n",
    "$\\text{costS} = 100000$: Cost of building a charging station of the type $cs\\_idx\\_s$.\n",
    "\n",
    "$\\text{costM} = 170000$: Cost of building a charging station of the type $cs\\_idx\\_m$.\n",
    "\n",
    "$\\text{costL} = 200000$: Cost of building a charging station of the type $cs\\_idx\\_l$.\n",
    "\n",
    "$capS= 10$: Number of chargers of charging stations of type $cs\\_idx\\_s$.\n",
    " \n",
    "$capM = 30$: Number of chargers of charging stations of type $cs\\_idx\\_m$.\n",
    "\n",
    "$capL = 40$: Number of chargers of charging stations of type $cs\\_idx\\_l$."
   ]
  },
  {
   "cell_type": "markdown",
   "id": "9a27241b-c954-433a-8c1a-bda66ece2da5",
   "metadata": {},
   "source": [
    "#### Decision variables"
   ]
  },
  {
   "cell_type": "markdown",
   "id": "f4f26261-c84b-40cf-b8f3-6f5d229d40f8",
   "metadata": {},
   "source": [
    "$dis\\_demand_{dis\\_idx} \\in \\mathbb{R}^+$: Demand for chargers in district $dis\\_idx$.\n",
    "\n",
    "$x_{cs\\_idx,dis\\_idx} \\in \\mathbb{R}^+$: Amount of the district's $dis\\_idx$ demand met by charging station $cs\\_idx$. "
   ]
  },
  {
   "cell_type": "markdown",
   "id": "a536cce5-95ef-41a9-8f6e-0eacc32987c6",
   "metadata": {},
   "source": [
    "#### Objective function"
   ]
  },
  {
   "cell_type": "markdown",
   "id": "4406dd1f-3783-4e9a-94c8-ff2b4255d66b",
   "metadata": {},
   "source": [
    "- **Demand**. Maximize the coverage of the demand by the charging stations.\n",
    " \n",
    "\n",
    "\\begin{equation}\n",
    "\\text{Min} \\quad W = \\sum_{dis\\_idx  \\in  DIS\\_IDX} dis\\_demand_{dis\\_idx}  -  \\sum_{cs\\_idx \\in CS\\_IDX} \\sum_{dis\\_idx \\in DIS\\_IDX} x_{cs\\_idx,dis\\_idx} \n",
    "\\tag{5}\n",
    "\\end{equation}"
   ]
  },
  {
   "cell_type": "markdown",
   "id": "52fd7e50-a00d-4204-bb73-5c06968d7739",
   "metadata": {},
   "source": [
    "#### Constraints"
   ]
  },
  {
   "cell_type": "markdown",
   "id": "836f98a1-6e4e-4a98-9ca7-69c392b777ed",
   "metadata": {},
   "source": [
    "- **Capacity**. Capacity of a charging station $cs\\_idx$ (number of chargers) cannot be exceeded. \n",
    "\\begin{equation}\n",
    "\\sum_{dis\\_idx \\in DIS\\_IDX} x_{cs\\_idx,dis\\_idx} \\leq ys_{cs\\_idx}*capS + ym_{cs\\_idx}*capM + yl_{cs\\_idx}*capL  \\quad \\forall cs\\_idx \\in CS\\_IDX\n",
    "\\tag{2}\n",
    "\\end{equation}\n",
    "\n",
    "- **Location**. At every possible location $cs\\_idx$ a maximum of one charging station can be built. \n",
    "\n",
    "\\begin{equation}\n",
    "ys_{cs\\_idx} + ym_{cs\\_idx} + yl_{cs\\_idx} \\leq 1 \\quad \\forall cs\\_idx \\in CS\\_IDX\n",
    "\\tag{3}\n",
    "\\end{equation}\n",
    "\n",
    "- **Radius**. The distance between a district $dis\\_idx$ and a charging station $cs\\_idx$ serving the district should not exceed the radius.\n",
    "\n",
    "\\begin{equation}\n",
    "x_{cs\\_idx,dis\\_idx} \\leq bigM*(dist\\_dict[(cs\\_idx, dis\\_idx)] \\leq 2) \\quad \\forall cs\\_idx, dis\\_idx \\in CS\\_IDX, DIS\\_IDX\n",
    "\\tag{4}\n",
    "\\end{equation}\n",
    "\n",
    "- **Budget**. The investment costs cannot exceed the $budget$. \n",
    "\n",
    "\\begin{equation}\n",
    "\\text{costS}* \\sum_{cs\\_idx\\_s \\in CS\\_IDX\\_S} ys_{cs\\_idx\\_s} + \\text{costM}* \\sum_{cs\\_idx\\_m \\in CS\\_IDX\\_M} ym_{cs\\_idx\\_m} + \\text{costL}* \\sum_{cs\\_idx\\_l \\in CS\\_IDX\\_L} yl_{cs\\_idx\\_l} \\leq \\text{budget}\n",
    "\\tag{6}\n",
    "\\end{equation}"
   ]
  },
  {
   "cell_type": "markdown",
   "id": "63ca1d20-92f3-49f4-ae87-b71508441c3e",
   "metadata": {
    "tags": []
   },
   "source": [
    "## Implementation in Python"
   ]
  },
  {
   "cell_type": "markdown",
   "id": "63d796e5-00e7-461f-972e-19c7db593903",
   "metadata": {
    "tags": []
   },
   "source": [
    "### Preparation"
   ]
  },
  {
   "cell_type": "markdown",
   "id": "22f693b5-f8ac-47f5-adc8-897f6f0dd1a3",
   "metadata": {
    "tags": []
   },
   "source": [
    "#### Necessary Imports"
   ]
  },
  {
   "cell_type": "code",
   "execution_count": 82,
   "id": "9b3fd3cf-9ad6-48d2-8cd3-06b660346d59",
   "metadata": {},
   "outputs": [],
   "source": [
    "from itertools import product\n",
    "from math import sqrt\n",
    "import gurobipy as gp\n",
    "from gurobipy import GRB\n",
    "import pandas as pd\n",
    "import numpy as np\n",
    "import plotly.express as px\n",
    "import plotly.graph_objects as go"
   ]
  },
  {
   "cell_type": "markdown",
   "id": "70846619-a612-4319-8439-76cfae1b784c",
   "metadata": {
    "tags": []
   },
   "source": [
    "#### Read CSV-Files into Dataframe"
   ]
  },
  {
   "cell_type": "code",
   "execution_count": 83,
   "id": "ba47e60a-c3db-41d9-9e47-28a1f65bd5f1",
   "metadata": {},
   "outputs": [],
   "source": [
    "# Einlesen CSV-Daten\n",
    "df_cs = pd.read_csv(\"ladestationen.csv\")\n",
    "df_dis = pd.read_csv(\"stadtteile.csv\")"
   ]
  },
  {
   "cell_type": "markdown",
   "id": "56efcbe5-988e-4a36-b4be-8f2465179856",
   "metadata": {
    "tags": []
   },
   "source": [
    "### Code for solving the tasks"
   ]
  },
  {
   "cell_type": "code",
   "execution_count": 84,
   "id": "05ef3e05-aff1-41e8-b81f-e8d3b33d80e8",
   "metadata": {},
   "outputs": [],
   "source": [
    "# Both are necessary whenever the charging station should be in a specified radius \n",
    "\n",
    "def compute_distance(loc1, loc2):\n",
    "    \"\"\"Calculating the Euclidean distance between a district and a charging station\"\"\"\n",
    "    dx = loc1[0] - loc2[0]\n",
    "    dy = loc1[1] - loc2[1]\n",
    "    return sqrt(dx*dx + dy*dy)\n",
    "\n",
    "def get_coords(name):\n",
    "    \"\"\"Return Coordinate pair of location\"\"\"\n",
    "    if name.startswith(\"Stadtteil\"):\n",
    "        return df_dis[df_dis.Name == name][[\"x\",\"y\"]].values[0]\n",
    "    elif name.startswith(\"Ladestation\"):\n",
    "        return df_cs[df_cs.Name == name][[\"x\",\"y\"]].values[0]\n",
    "    else:\n",
    "        return np.array([0,0])"
   ]
  },
  {
   "cell_type": "code",
   "execution_count": 87,
   "id": "e2594e48-40f5-4154-81a3-94487719f31b",
   "metadata": {},
   "outputs": [],
   "source": [
    "def solve_location(radius=None, budget=None):\n",
    "    \"\"\"Solve optimization problem using Gurobi\"\"\"\n",
    "    \n",
    "    #####################################################\n",
    "    #                    Data \n",
    "    #####################################################\n",
    "    \n",
    "    # Read identifyer of charging stations and their coordinates into dictionary\n",
    "    cs  = {x[0]:tuple(x[1][[\"x\", \"y\"]]) for x in df_cs.iterrows()}\n",
    "    \n",
    "    # Read identifyer of districts and their coordinates into dictionary\n",
    "    dis = {x[0]:tuple(x[1][[\"x\", \"y\"]]) for x in df_dis.iterrows()}\n",
    "    \n",
    "    # Read identifyer of districts and their demand into dictionary\n",
    "    dis_demand = {x[0]:x[1][[\"Bedarf\"]][0] for x in df_dis.iterrows()}\n",
    "\n",
    "    # Coordinates of possible locations for charging stations\n",
    "    cs_c = list(cs.values())\n",
    "    \n",
    "    # Identifyer of charging stations\n",
    "    cs_idx = list(cs.keys())\n",
    "    \n",
    "    # Unique identifyer for charging stations of every type\n",
    "    num_cs = len(cs_idx)\n",
    "    cs_idx_s = cs_idx\n",
    "    cs_idx_m = list(map(lambda x: x+num_cs, cs_idx))\n",
    "    cs_idx_l = list(map(lambda x: x+2*num_cs, cs_idx))\n",
    "    \n",
    "    # Coordinates of districts\n",
    "    dis_c = list(dis.values())\n",
    "    \n",
    "    # Identifyer of districts\n",
    "    dis_idx = list(dis.keys())\n",
    "\n",
    "    # Costs\n",
    "    costS = 100000\n",
    "    costM = 170000\n",
    "    costL = 200000\n",
    "\n",
    "    # Capacities\n",
    "    capS = 10\n",
    "    capM = 30\n",
    "    capL = 40\n",
    "\n",
    "    # Calculation of the distances between the districts and the locations of the charging stations\n",
    "    dist_dict = {}    \n",
    "    for d_k, d_v in dis.items():\n",
    "        for cs_k, cs_v in cs.items():\n",
    "            dist_dict[(cs_k, d_k)] = compute_distance(d_v, cs_v)\n",
    "\n",
    "    #####################################################\n",
    "    #                    MILP Model Formulation\n",
    "    #####################################################\n",
    "    \n",
    "    # Model\n",
    "    m = gp.Model('electric_charging_station_location')\n",
    "\n",
    "    # Decision variables\n",
    "    ys = m.addVars(cs_idx_s, vtype=GRB.BINARY, name='small')\n",
    "    ym = m.addVars(cs_idx_m, vtype=GRB.BINARY, name='medium')\n",
    "    yl = m.addVars(cs_idx_l, vtype=GRB.BINARY, name='large')\n",
    "\n",
    "    # Parameter\n",
    "    x = m.addVars(list(dist_dict.keys()), vtype=GRB.CONTINUOUS, name='Assign', lb=0)\n",
    "    \n",
    "    # Objective functions\n",
    "    if budget:\n",
    "        m.setObjective(\n",
    "            gp.quicksum(dis_demand[d_i] for d_i in dis_idx)-gp.quicksum(x[cs_i,d_i] for cs_i in cs_idx for d_i in dis_idx),\n",
    "            GRB.MINIMIZE\n",
    "        )\n",
    "        budgetConstr = m.addConstr(\n",
    "            (costS * gp.quicksum(ys[cs] for cs in cs_idx_s)+\n",
    "            costM * gp.quicksum(ym[cs] for cs in cs_idx_m)+\n",
    "            costL * gp.quicksum(yl[cs] for cs in cs_idx_l)\n",
    "            <= budget), name=\"budgetConstr\")\n",
    "        demandConstrs = m.addConstrs((gp.quicksum(x[cs_i,d_i] for cs_i in cs_idx) <= dis_demand[d_i] for d_i in dis_idx), name='demandConstrs')\n",
    "    else:\n",
    "        m.setObjective(\n",
    "            costS * gp.quicksum(ys[cs] for cs in cs_idx_s)+ \n",
    "            costM * gp.quicksum(ym[cs] for cs in cs_idx_m)+\n",
    "            costL * gp.quicksum(yl[cs] for cs in cs_idx_l), \n",
    "            GRB.MINIMIZE\n",
    "        )\n",
    "        # Counties demand constraints\n",
    "        demandConstrs = m.addConstrs((gp.quicksum(x[cs_i,d_i] for cs_i in cs_idx) == dis_demand[d_i] for d_i in dis_idx), name='demandConstrs')\n",
    "\n",
    "    \n",
    "    # Capacity constraints\n",
    "    CapConstrs = m.addConstrs((gp.quicksum(x[cs_i,d_i]  for d_i in dis_idx) <= ys[cs_i]*capS + ym[cs_i+num_cs]*capM + yl[cs_i+2*num_cs]*capL for cs_i in cs_idx), name='CapConstrs')\n",
    "    # Location constraints\n",
    "    LocConstrs = m.addConstrs((ys[cs_i]+ym[cs_i+num_cs]+yl[cs_i+2*num_cs] <= 1 for cs_i in cs_idx),name='LocConstrs')\n",
    "    bigM = 40\n",
    "    if radius:\n",
    "        radConstrs = m.addConstrs((x[cs_i, d_i] <= bigM*(dist_dict[(cs_i, d_i)] <= 2) for cs_i in cs_idx for d_i in dis_idx), name='RadConstr')\n",
    "        \n",
    "    # Run optimization engine\n",
    "    m.optimize()\n",
    "    \n",
    "    \n",
    "    #####################################################\n",
    "    #                    Output Reports\n",
    "    #####################################################\n",
    "\n",
    "\n",
    "    # all stations built \n",
    "    # filter dicts to stations with 1 i.e. built, then append all to new list\n",
    "    built = list({k: v.X for k, v in ys.items() if v.X >0}.keys())+list({k: v.X for k, v in ym.items() if v.X >0}.keys())+list({k: v.X for k, v in yl.items() if v.X >0}.keys())\n",
    "    # track position and type\n",
    "    # station 1 has indices 1,51 and 101. Revert this with mod 50 and compute type with floor 50 (medium on location 1 corresponds to 51. 51 // 50 = 1)\n",
    "    # small: 0\n",
    "    # medium: 1\n",
    "    # large: 2\n",
    "    built = {i%50:i//50 for i in built}\n",
    "    # track flow\n",
    "    # filter dict to positive flow\n",
    "    flow = {k: v.X for k, v in x.items() if v.X >0}\n",
    "    # create dataframe with built chargin stations\n",
    "    df_built = pd.DataFrame({\"Location\":built.keys(), \"Type\":built.values()}, index=range(len(built)))\n",
    "    # format name\n",
    "    df_built[\"Location\"]  = df_built[\"Location\"].apply(lambda x: \"Ladestation Standort  \"+str(x+1))\n",
    "    # format type\n",
    "    df_built[\"Type\"] = df_built[\"Type\"].map({0:\"Small\", 1:\"Medium\", 2:\"Large\"})\n",
    "    # create dataframe with flow from charging station to city district\n",
    "    df_flow = pd.DataFrame({\"Charging Station\":[x[0] for x in flow.keys()], \"City District\":[x[1] for x in flow.keys()], \"Flow\":flow.values()}, index=range(len(flow)))\n",
    "    # format names\n",
    "    df_flow[\"City District\"]  = df_flow[\"City District\"].apply(lambda x: \"Stadtteil \"+str(x+1))\n",
    "    df_flow[\"Charging Station\"]  = df_flow[\"Charging Station\"].apply(lambda x: \"Ladestation Standort \"+str(x+1))\n",
    "    \n",
    "    # create dataframe of nodes in graph\n",
    "    nodes_cs = df_cs[[\"Name\", \"x\",\"y\"]].assign(Type=pd.Series(df_cs.index).apply(lambda x: built[x] if x in built.keys() else -1).map({\n",
    "        -1:\"Nichts gebaut\",\n",
    "        0: \"Klein gebaut\",\n",
    "        1: \"Mittel gebaut\",\n",
    "        2: \"Groß gebaut\"\n",
    "    }))\n",
    "    nodes_dis = df_dis[[\"Name\", \"x\",\"y\"]].assign(Type=\"Stadtteil\")\n",
    "    nodetable = pd.concat([nodes_cs, nodes_dis])\n",
    "    # create scatter trace for nodes\n",
    "    t1 = px.scatter(nodetable, x=\"x\", y=\"y\", color=\"Type\",color_discrete_map={\n",
    "                \"Nichts gebaut\": \"grey\",\n",
    "                \"Klein gebaut\": \"lightgreen\",\n",
    "                \"Mittel gebaut\": \"green\",\n",
    "                \"Groß gebaut\": \"darkgreen\",\n",
    "                \"Stadtteil\": \"blue\"}).data\n",
    "    \n",
    "    # create line traces for flow\n",
    "    line_traces = ()\n",
    "    for idx, row in df_flow.iterrows():\n",
    "        source, sink, flow = row\n",
    "        from_x, from_y = get_coords(source)\n",
    "        to_x, to_y = get_coords(sink)\n",
    "        t = px.line(x=[from_x, to_x], y=[from_y, to_y])\n",
    "        t.update_traces(line={\"width\": flow/10, \"color\": \"goldenrod\"})\n",
    "        line_traces += t.data\n",
    "    # combine traces\n",
    "    fig = go.Figure(data=t1 + line_traces)\n",
    "    \n",
    "    # if radius specified draw circles\n",
    "    if radius:\n",
    "        cs_only = nodetable[nodetable[\"Type\"].isin([\"Klein gebaut\",\"Mittel gebaut\",\"Groß gebaut\"])]\n",
    "        for x, y in zip(cs_only[\"x\"], cs_only[\"y\"]):\n",
    "            fig.add_shape(type=\"circle\",\n",
    "            xref=\"x\", yref=\"y\",\n",
    "            x0=x+radius, y0=y+radius, x1=x-radius, y1=y-radius,\n",
    "            line_color=\"blue\",\n",
    "            line_width=0.5)\n",
    "    fig.update_layout(autosize=False, width=600,height=600)\n",
    "    fig.show()\n",
    "    \n",
    "    investment_cost = 0\n",
    "    investment_cost_s = 0\n",
    "    investment_cost_m = 0 \n",
    "    investment_cost_l = 0 \n",
    "    \n",
    "    df_output = df_built.groupby(\"Type\", as_index=False).count()\n",
    "    df_output = df_output.rename(columns={\"Location\":\"Count\"})\n",
    "    \n",
    "    print(f\"\\n\\n___Optimal costs___\")\n",
    "    \n",
    "    for s in cs_idx_s:\n",
    "        if (ys[s].x > 0.5):\n",
    "            investment_cost_s += costS*round(ys[s].x)\n",
    "                \n",
    "    for i in cs_idx_m:\n",
    "        if (ym[i].x > 0.5):\n",
    "            investment_cost_m += costM*round(ym[i].x)\n",
    "            \n",
    "    for l in cs_idx_l:\n",
    "        if (yl[l].x > 0.5):\n",
    "            investment_cost_l += costL*round(yl[l].x)\n",
    "    \n",
    "    investment_cost = investment_cost_s + investment_cost_m + investment_cost_l\n",
    "\n",
    "    print(f\"The total cost of building {[df_output.Count.sum()]} charging stations is ${investment_cost:,}.\")    \n",
    "    print(f\"The total cost of building {df_output.loc[df_output['Type']=='Small'].Count.values} small charging stations is ${investment_cost_s:,}.\") \n",
    "    print(f\"The total cost of building {df_output.loc[df_output['Type']=='Medium'].Count.values} medium-size charging stations is ${investment_cost_m:,}.\") \n",
    "    print(f\"The total cost of building {df_output.loc[df_output['Type']=='Large'].Count.values} large charging stations is ${investment_cost_l:,}.\") "
   ]
  },
  {
   "cell_type": "markdown",
   "id": "ffc3e993-fc13-4d09-b218-0fc986a55ce3",
   "metadata": {
    "tags": []
   },
   "source": [
    "## Solution"
   ]
  },
  {
   "cell_type": "markdown",
   "id": "ca40e549-684b-4cb4-bac9-8377e15f5d43",
   "metadata": {
    "tags": []
   },
   "source": [
    "### Task 1"
   ]
  },
  {
   "cell_type": "code",
   "execution_count": 88,
   "id": "cebac45f-ec9c-40a3-94c0-768d35395a29",
   "metadata": {
    "tags": []
   },
   "outputs": [
    {
     "name": "stdout",
     "output_type": "stream",
     "text": [
      "Gurobi Optimizer version 9.5.1 build v9.5.1rc2 (mac64[x86])\n",
      "Thread count: 4 physical cores, 8 logical processors, using up to 8 threads\n",
      "Optimize a model with 130 rows, 1650 columns and 3300 nonzeros\n",
      "Model fingerprint: 0xd1f534f2\n",
      "Variable types: 1500 continuous, 150 integer (150 binary)\n",
      "Coefficient statistics:\n",
      "  Matrix range     [1e+00, 4e+01]\n",
      "  Objective range  [1e+05, 2e+05]\n",
      "  Bounds range     [1e+00, 1e+00]\n",
      "  RHS range        [1e+00, 2e+01]\n",
      "Found heuristic solution: objective 4230000.0000\n",
      "Presolve time: 0.00s\n",
      "Presolved: 130 rows, 1650 columns, 3300 nonzeros\n",
      "Variable types: 1500 continuous, 150 integer (150 binary)\n",
      "Found heuristic solution: objective 3730000.0000\n",
      "\n",
      "Root relaxation: objective 1.557450e+06, 171 iterations, 0.00 seconds (0.00 work units)\n",
      "\n",
      "    Nodes    |    Current Node    |     Objective Bounds      |     Work\n",
      " Expl Unexpl |  Obj  Depth IntInf | Incumbent    BestBd   Gap | It/Node Time\n",
      "\n",
      "     0     0 1557450.00    0    7 3730000.00 1557450.00  58.2%     -    0s\n",
      "H    0     0                    2050000.0000 1557450.00  24.0%     -    0s\n",
      "H    0     0                    1740000.0000 1557450.00  10.5%     -    0s\n",
      "H    0     0                    1670000.0000 1557450.00  6.74%     -    0s\n",
      "H    0     0                    1600000.0000 1557450.00  2.66%     -    0s\n",
      "     0     0 1557450.00    0    2 1600000.00 1557450.00  2.66%     -    0s\n",
      "     0     0 1557450.00    0    2 1600000.00 1557450.00  2.66%     -    0s\n",
      "     0     0 1557450.00    0    2 1600000.00 1557450.00  2.66%     -    0s\n",
      "     0     0 1557450.00    0    3 1600000.00 1557450.00  2.66%     -    0s\n",
      "     0     0 1557450.00    0    4 1600000.00 1557450.00  2.66%     -    0s\n",
      "     0     0 1557450.00    0    3 1600000.00 1557450.00  2.66%     -    0s\n",
      "     0     0 1557450.00    0    1 1600000.00 1557450.00  2.66%     -    0s\n",
      "     0     0 1557450.00    0    1 1600000.00 1557450.00  2.66%     -    0s\n",
      "     0     0 1557450.00    0    1 1600000.00 1557450.00  2.66%     -    0s\n",
      "     0     0 1557450.00    0    1 1600000.00 1557450.00  2.66%     -    0s\n",
      "     0     2 1557450.00    0    1 1600000.00 1557450.00  2.66%     -    0s\n",
      "\n",
      "Cutting planes:\n",
      "  Implied bound: 10\n",
      "  MIR: 5\n",
      "\n",
      "Explored 19 nodes (561 simplex iterations) in 0.12 seconds (0.06 work units)\n",
      "Thread count was 8 (of 8 available processors)\n",
      "\n",
      "Solution count 6: 1.6e+06 1.67e+06 1.74e+06 ... 4.23e+06\n",
      "\n",
      "Optimal solution found (tolerance 1.00e-04)\n",
      "Best objective 1.600000000000e+06, best bound 1.600000000000e+06, gap 0.0000%\n"
     ]
    },
    {
     "data": {
      "application/vnd.plotly.v1+json": {
       "config": {
        "plotlyServerURL": "https://plot.ly"
       },
       "data": [
        {
         "hovertemplate": "Type=Groß gebaut<br>x=%{x}<br>y=%{y}<extra></extra>",
         "legendgroup": "Groß gebaut",
         "marker": {
          "color": "darkgreen",
          "symbol": "circle"
         },
         "mode": "markers",
         "name": "Groß gebaut",
         "orientation": "v",
         "showlegend": true,
         "type": "scatter",
         "x": [
          -1.8091319324683977,
          1.795575068551585,
          -10.23962094774063,
          -1.528028332774784,
          -10.17086526982914,
          2.720724990736545,
          3.718416695688463,
          -5.665559470514851
         ],
         "xaxis": "x",
         "y": [
          2.853719781969376,
          3.774831900938844,
          3.678194864876825,
          -5.703624861431083,
          -3.819249045718005,
          1.2410528256477422,
          -0.2878902478785006,
          5.644232044245448
         ],
         "yaxis": "y"
        },
        {
         "hovertemplate": "Type=Nichts gebaut<br>x=%{x}<br>y=%{y}<extra></extra>",
         "legendgroup": "Nichts gebaut",
         "marker": {
          "color": "grey",
          "symbol": "circle"
         },
         "mode": "markers",
         "name": "Nichts gebaut",
         "orientation": "v",
         "showlegend": true,
         "type": "scatter",
         "x": [
          7.16798487034364,
          -4.556355115803766,
          -8.525442177370545,
          3.446520328819933,
          3.1447262264886504,
          6.048780717515781,
          3.462633043379101,
          -7.101846628907806,
          -6.998474210378397,
          -6.311425341000192,
          8.565524433910793,
          -8.809340390055578,
          10.105989531246632,
          -1.197639613684797,
          -2.7696529005738064,
          0.4694108179328375,
          -6.616157175448263,
          8.152452021936224,
          8.326019727518302,
          -9.471327050033745,
          -8.538081194991275,
          -0.2864407232133547,
          -3.770384399165288,
          -5.874311522268608,
          -7.314993538730524,
          4.72087244288382,
          8.57474962601013,
          -2.5475370397857784,
          -0.8121369708510815,
          9.608322894869726,
          6.113093527622288,
          8.675579172250451,
          -2.1971077960089653,
          6.873814289066839,
          -9.610587746576762,
          5.725327052268948,
          -5.157648877658801,
          -10.57093671178287,
          3.976385389046945,
          -7.161120329013925,
          0.7909722226057314,
          -6.95440485568572
         ],
         "xaxis": "x",
         "y": [
          1.176478843259178,
          -6.108396489260648,
          3.921165249197613,
          7.854972091371471,
          -5.94959030046699,
          6.53468713390113,
          -2.134908262857944,
          0.1878155912393983,
          6.698196483268343,
          -7.059795575502531,
          -4.720665625585216,
          -1.388234760523893,
          5.057353363239005,
          4.678594556101104,
          8.147580925421302,
          -9.42494120227329,
          -5.016342936296504,
          2.9421526887453937,
          8.42230604631836,
          1.2969384370813923,
          -8.207792710600934,
          0.3189138807057668,
          3.9081099894288607,
          -3.150021186588372,
          8.812606521626213,
          3.761148791658832,
          -8.256638890070827,
          -7.5442464964564175,
          9.640119992663449,
          1.188989721969656,
          -3.21533816537094,
          -2.1696906382234884,
          0.5537450555629219,
          -6.610241193702287,
          6.334545018606549,
          9.519738392030982,
          7.609907627183155,
          -11.247280887038992,
          -3.785101886253399,
          -9.350109289043074,
          -6.537170661040974,
          -1.5750087052689477
         ],
         "yaxis": "y"
        },
        {
         "hovertemplate": "Type=Stadtteil<br>x=%{x}<br>y=%{y}<extra></extra>",
         "legendgroup": "Stadtteil",
         "marker": {
          "color": "blue",
          "symbol": "circle"
         },
         "mode": "markers",
         "name": "Stadtteil",
         "orientation": "v",
         "showlegend": true,
         "type": "scatter",
         "x": [
          -2.617840157776385,
          9.65306638123296,
          -5.671189748744199,
          -9.361196097890147,
          3.5400249473088787,
          -1.5448943603027705,
          -7.986294289641393,
          1.319128230042547,
          5.957451212991796,
          -5.585214509723528,
          8.071228351273826,
          -8.075068857279016,
          -4.021647637503319,
          9.230502065874434,
          1.845050423166444,
          -9.87172731595614,
          3.507239224556322,
          -3.700565566845107,
          -6.292097260027692,
          -10.059521427160908,
          -0.0254444972172649,
          7.379701182132219,
          -1.6919893283655745,
          -9.190364739165467,
          -7.044002426746738,
          -6.830418616925616,
          -7.2604337634774385,
          -4.4019191982581205,
          -1.594715992069604,
          -1.719519304353873
         ],
         "xaxis": "x",
         "y": [
          1.1988524543522276,
          5.069990630892894,
          -4.435683034912494,
          5.234105285493201,
          -3.451380988212498,
          4.949029812352362,
          -1.3219135850635109,
          -7.134205762142999,
          9.318825818978738,
          7.39824151186475,
          -4.100717587582418,
          -9.402149773910192,
          -7.302849330565328,
          0.6219632851819383,
          3.885980643894202,
          -3.906247959697773,
          6.737987412380432,
          3.997637802606329,
          -3.145107694302765,
          3.819182505242558,
          -8.872196774548843,
          8.025290852149771,
          1.8956791741121943,
          3.3565299947047897,
          -8.112592784114948,
          7.539849762699349,
          -5.858999074588611,
          5.857643843741266,
          3.8767505164391167,
          0.5909584184653083
         ],
         "yaxis": "y"
        },
        {
         "hovertemplate": "x=%{x}<br>y=%{y}<extra></extra>",
         "legendgroup": "",
         "line": {
          "color": "goldenrod",
          "dash": "solid",
          "width": 1.478
         },
         "marker": {
          "symbol": "circle"
         },
         "mode": "lines",
         "name": "",
         "orientation": "v",
         "showlegend": false,
         "type": "scatter",
         "x": [
          -10.23962094774063,
          -2.617840157776385
         ],
         "xaxis": "x",
         "y": [
          3.678194864876825,
          1.1988524543522276
         ],
         "yaxis": "y"
        },
        {
         "hovertemplate": "x=%{x}<br>y=%{y}<extra></extra>",
         "legendgroup": "",
         "line": {
          "color": "goldenrod",
          "dash": "solid",
          "width": 0.1790000000000001
         },
         "marker": {
          "symbol": "circle"
         },
         "mode": "lines",
         "name": "",
         "orientation": "v",
         "showlegend": false,
         "type": "scatter",
         "x": [
          2.720724990736545,
          -2.617840157776385
         ],
         "xaxis": "x",
         "y": [
          1.2410528256477422,
          1.1988524543522276
         ],
         "yaxis": "y"
        },
        {
         "hovertemplate": "x=%{x}<br>y=%{y}<extra></extra>",
         "legendgroup": "",
         "line": {
          "color": "goldenrod",
          "dash": "solid",
          "width": 1.426
         },
         "marker": {
          "symbol": "circle"
         },
         "mode": "lines",
         "name": "",
         "orientation": "v",
         "showlegend": false,
         "type": "scatter",
         "x": [
          -1.8091319324683977,
          9.65306638123296
         ],
         "xaxis": "x",
         "y": [
          2.853719781969376,
          5.069990630892894
         ],
         "yaxis": "y"
        },
        {
         "hovertemplate": "x=%{x}<br>y=%{y}<extra></extra>",
         "legendgroup": "",
         "line": {
          "color": "goldenrod",
          "dash": "solid",
          "width": 1.393
         },
         "marker": {
          "symbol": "circle"
         },
         "mode": "lines",
         "name": "",
         "orientation": "v",
         "showlegend": false,
         "type": "scatter",
         "x": [
          1.795575068551585,
          -5.671189748744199
         ],
         "xaxis": "x",
         "y": [
          3.774831900938844,
          -4.435683034912494
         ],
         "yaxis": "y"
        },
        {
         "hovertemplate": "x=%{x}<br>y=%{y}<extra></extra>",
         "legendgroup": "",
         "line": {
          "color": "goldenrod",
          "dash": "solid",
          "width": 0.649
         },
         "marker": {
          "symbol": "circle"
         },
         "mode": "lines",
         "name": "",
         "orientation": "v",
         "showlegend": false,
         "type": "scatter",
         "x": [
          -5.665559470514851,
          -9.361196097890147
         ],
         "xaxis": "x",
         "y": [
          5.644232044245448,
          5.234105285493201
         ],
         "yaxis": "y"
        },
        {
         "hovertemplate": "x=%{x}<br>y=%{y}<extra></extra>",
         "legendgroup": "",
         "line": {
          "color": "goldenrod",
          "dash": "solid",
          "width": 0.46799999999999997
         },
         "marker": {
          "symbol": "circle"
         },
         "mode": "lines",
         "name": "",
         "orientation": "v",
         "showlegend": false,
         "type": "scatter",
         "x": [
          -1.8091319324683977,
          3.5400249473088787
         ],
         "xaxis": "x",
         "y": [
          2.853719781969376,
          -3.451380988212498
         ],
         "yaxis": "y"
        },
        {
         "hovertemplate": "x=%{x}<br>y=%{y}<extra></extra>",
         "legendgroup": "",
         "line": {
          "color": "goldenrod",
          "dash": "solid",
          "width": 0.422
         },
         "marker": {
          "symbol": "circle"
         },
         "mode": "lines",
         "name": "",
         "orientation": "v",
         "showlegend": false,
         "type": "scatter",
         "x": [
          -10.17086526982914,
          -1.5448943603027705
         ],
         "xaxis": "x",
         "y": [
          -3.819249045718005,
          4.949029812352362
         ],
         "yaxis": "y"
        },
        {
         "hovertemplate": "x=%{x}<br>y=%{y}<extra></extra>",
         "legendgroup": "",
         "line": {
          "color": "goldenrod",
          "dash": "solid",
          "width": 1.4739999999999998
         },
         "marker": {
          "symbol": "circle"
         },
         "mode": "lines",
         "name": "",
         "orientation": "v",
         "showlegend": false,
         "type": "scatter",
         "x": [
          1.795575068551585,
          -7.986294289641393
         ],
         "xaxis": "x",
         "y": [
          3.774831900938844,
          -1.3219135850635109
         ],
         "yaxis": "y"
        },
        {
         "hovertemplate": "x=%{x}<br>y=%{y}<extra></extra>",
         "legendgroup": "",
         "line": {
          "color": "goldenrod",
          "dash": "solid",
          "width": 0.2400000000000002
         },
         "marker": {
          "symbol": "circle"
         },
         "mode": "lines",
         "name": "",
         "orientation": "v",
         "showlegend": false,
         "type": "scatter",
         "x": [
          -10.17086526982914,
          -7.986294289641393
         ],
         "xaxis": "x",
         "y": [
          -3.819249045718005,
          -1.3219135850635109
         ],
         "yaxis": "y"
        },
        {
         "hovertemplate": "x=%{x}<br>y=%{y}<extra></extra>",
         "legendgroup": "",
         "line": {
          "color": "goldenrod",
          "dash": "solid",
          "width": 1.641
         },
         "marker": {
          "symbol": "circle"
         },
         "mode": "lines",
         "name": "",
         "orientation": "v",
         "showlegend": false,
         "type": "scatter",
         "x": [
          -10.23962094774063,
          1.319128230042547
         ],
         "xaxis": "x",
         "y": [
          3.678194864876825,
          -7.134205762142999
         ],
         "yaxis": "y"
        },
        {
         "hovertemplate": "x=%{x}<br>y=%{y}<extra></extra>",
         "legendgroup": "",
         "line": {
          "color": "goldenrod",
          "dash": "solid",
          "width": 0.881
         },
         "marker": {
          "symbol": "circle"
         },
         "mode": "lines",
         "name": "",
         "orientation": "v",
         "showlegend": false,
         "type": "scatter",
         "x": [
          -10.23962094774063,
          5.957451212991796
         ],
         "xaxis": "x",
         "y": [
          3.678194864876825,
          9.318825818978738
         ],
         "yaxis": "y"
        },
        {
         "hovertemplate": "x=%{x}<br>y=%{y}<extra></extra>",
         "legendgroup": "",
         "line": {
          "color": "goldenrod",
          "dash": "solid",
          "width": 0.265
         },
         "marker": {
          "symbol": "circle"
         },
         "mode": "lines",
         "name": "",
         "orientation": "v",
         "showlegend": false,
         "type": "scatter",
         "x": [
          -1.8091319324683977,
          -5.585214509723528
         ],
         "xaxis": "x",
         "y": [
          2.853719781969376,
          7.39824151186475
         ],
         "yaxis": "y"
        },
        {
         "hovertemplate": "x=%{x}<br>y=%{y}<extra></extra>",
         "legendgroup": "",
         "line": {
          "color": "goldenrod",
          "dash": "solid",
          "width": 0.765
         },
         "marker": {
          "symbol": "circle"
         },
         "mode": "lines",
         "name": "",
         "orientation": "v",
         "showlegend": false,
         "type": "scatter",
         "x": [
          -1.8091319324683977,
          8.071228351273826
         ],
         "xaxis": "x",
         "y": [
          2.853719781969376,
          -4.100717587582418
         ],
         "yaxis": "y"
        },
        {
         "hovertemplate": "x=%{x}<br>y=%{y}<extra></extra>",
         "legendgroup": "",
         "line": {
          "color": "goldenrod",
          "dash": "solid",
          "width": 1.239
         },
         "marker": {
          "symbol": "circle"
         },
         "mode": "lines",
         "name": "",
         "orientation": "v",
         "showlegend": false,
         "type": "scatter",
         "x": [
          -10.17086526982914,
          -8.075068857279016
         ],
         "xaxis": "x",
         "y": [
          -3.819249045718005,
          -9.402149773910192
         ],
         "yaxis": "y"
        },
        {
         "hovertemplate": "x=%{x}<br>y=%{y}<extra></extra>",
         "legendgroup": "",
         "line": {
          "color": "goldenrod",
          "dash": "solid",
          "width": 0.909
         },
         "marker": {
          "symbol": "circle"
         },
         "mode": "lines",
         "name": "",
         "orientation": "v",
         "showlegend": false,
         "type": "scatter",
         "x": [
          3.718416695688463,
          -4.021647637503319
         ],
         "xaxis": "x",
         "y": [
          -0.2878902478785006,
          -7.302849330565328
         ],
         "yaxis": "y"
        },
        {
         "hovertemplate": "x=%{x}<br>y=%{y}<extra></extra>",
         "legendgroup": "",
         "line": {
          "color": "goldenrod",
          "dash": "solid",
          "width": 1.56
         },
         "marker": {
          "symbol": "circle"
         },
         "mode": "lines",
         "name": "",
         "orientation": "v",
         "showlegend": false,
         "type": "scatter",
         "x": [
          -1.528028332774784,
          9.230502065874434
         ],
         "xaxis": "x",
         "y": [
          -5.703624861431083,
          0.6219632851819383
         ],
         "yaxis": "y"
        },
        {
         "hovertemplate": "x=%{x}<br>y=%{y}<extra></extra>",
         "legendgroup": "",
         "line": {
          "color": "goldenrod",
          "dash": "solid",
          "width": 1.9949999999999999
         },
         "marker": {
          "symbol": "circle"
         },
         "mode": "lines",
         "name": "",
         "orientation": "v",
         "showlegend": false,
         "type": "scatter",
         "x": [
          -10.17086526982914,
          1.845050423166444
         ],
         "xaxis": "x",
         "y": [
          -3.819249045718005,
          3.885980643894202
         ],
         "yaxis": "y"
        },
        {
         "hovertemplate": "x=%{x}<br>y=%{y}<extra></extra>",
         "legendgroup": "",
         "line": {
          "color": "goldenrod",
          "dash": "solid",
          "width": 0.382
         },
         "marker": {
          "symbol": "circle"
         },
         "mode": "lines",
         "name": "",
         "orientation": "v",
         "showlegend": false,
         "type": "scatter",
         "x": [
          -1.528028332774784,
          -9.87172731595614
         ],
         "xaxis": "x",
         "y": [
          -5.703624861431083,
          -3.906247959697773
         ],
         "yaxis": "y"
        },
        {
         "hovertemplate": "x=%{x}<br>y=%{y}<extra></extra>",
         "legendgroup": "",
         "line": {
          "color": "goldenrod",
          "dash": "solid",
          "width": 0.9189999999999999
         },
         "marker": {
          "symbol": "circle"
         },
         "mode": "lines",
         "name": "",
         "orientation": "v",
         "showlegend": false,
         "type": "scatter",
         "x": [
          2.720724990736545,
          3.507239224556322
         ],
         "xaxis": "x",
         "y": [
          1.2410528256477422,
          6.737987412380432
         ],
         "yaxis": "y"
        },
        {
         "hovertemplate": "x=%{x}<br>y=%{y}<extra></extra>",
         "legendgroup": "",
         "line": {
          "color": "goldenrod",
          "dash": "solid",
          "width": 0.8619999999999999
         },
         "marker": {
          "symbol": "circle"
         },
         "mode": "lines",
         "name": "",
         "orientation": "v",
         "showlegend": false,
         "type": "scatter",
         "x": [
          2.720724990736545,
          -3.700565566845107
         ],
         "xaxis": "x",
         "y": [
          1.2410528256477422,
          3.997637802606329
         ],
         "yaxis": "y"
        },
        {
         "hovertemplate": "x=%{x}<br>y=%{y}<extra></extra>",
         "legendgroup": "",
         "line": {
          "color": "goldenrod",
          "dash": "solid",
          "width": 0.609
         },
         "marker": {
          "symbol": "circle"
         },
         "mode": "lines",
         "name": "",
         "orientation": "v",
         "showlegend": false,
         "type": "scatter",
         "x": [
          -1.528028332774784,
          -6.292097260027692
         ],
         "xaxis": "x",
         "y": [
          -5.703624861431083,
          -3.145107694302765
         ],
         "yaxis": "y"
        },
        {
         "hovertemplate": "x=%{x}<br>y=%{y}<extra></extra>",
         "legendgroup": "",
         "line": {
          "color": "goldenrod",
          "dash": "solid",
          "width": 0.396
         },
         "marker": {
          "symbol": "circle"
         },
         "mode": "lines",
         "name": "",
         "orientation": "v",
         "showlegend": false,
         "type": "scatter",
         "x": [
          -1.8091319324683977,
          -10.059521427160908
         ],
         "xaxis": "x",
         "y": [
          2.853719781969376,
          3.819182505242558
         ],
         "yaxis": "y"
        },
        {
         "hovertemplate": "x=%{x}<br>y=%{y}<extra></extra>",
         "legendgroup": "",
         "line": {
          "color": "goldenrod",
          "dash": "solid",
          "width": 0.131
         },
         "marker": {
          "symbol": "circle"
         },
         "mode": "lines",
         "name": "",
         "orientation": "v",
         "showlegend": false,
         "type": "scatter",
         "x": [
          -1.8091319324683977,
          -0.0254444972172649
         ],
         "xaxis": "x",
         "y": [
          2.853719781969376,
          -8.872196774548843
         ],
         "yaxis": "y"
        },
        {
         "hovertemplate": "x=%{x}<br>y=%{y}<extra></extra>",
         "legendgroup": "",
         "line": {
          "color": "goldenrod",
          "dash": "solid",
          "width": 0.28800000000000014
         },
         "marker": {
          "symbol": "circle"
         },
         "mode": "lines",
         "name": "",
         "orientation": "v",
         "showlegend": false,
         "type": "scatter",
         "x": [
          -1.8091319324683977,
          7.379701182132219
         ],
         "xaxis": "x",
         "y": [
          2.853719781969376,
          8.025290852149771
         ],
         "yaxis": "y"
        },
        {
         "hovertemplate": "x=%{x}<br>y=%{y}<extra></extra>",
         "legendgroup": "",
         "line": {
          "color": "goldenrod",
          "dash": "solid",
          "width": 0.28200000000000003
         },
         "marker": {
          "symbol": "circle"
         },
         "mode": "lines",
         "name": "",
         "orientation": "v",
         "showlegend": false,
         "type": "scatter",
         "x": [
          1.795575068551585,
          7.379701182132219
         ],
         "xaxis": "x",
         "y": [
          3.774831900938844,
          8.025290852149771
         ],
         "yaxis": "y"
        },
        {
         "hovertemplate": "x=%{x}<br>y=%{y}<extra></extra>",
         "legendgroup": "",
         "line": {
          "color": "goldenrod",
          "dash": "solid",
          "width": 0.8630000000000001
         },
         "marker": {
          "symbol": "circle"
         },
         "mode": "lines",
         "name": "",
         "orientation": "v",
         "showlegend": false,
         "type": "scatter",
         "x": [
          3.718416695688463,
          7.379701182132219
         ],
         "xaxis": "x",
         "y": [
          -0.2878902478785006,
          8.025290852149771
         ],
         "yaxis": "y"
        },
        {
         "hovertemplate": "x=%{x}<br>y=%{y}<extra></extra>",
         "legendgroup": "",
         "line": {
          "color": "goldenrod",
          "dash": "solid",
          "width": 0.34099999999999964
         },
         "marker": {
          "symbol": "circle"
         },
         "mode": "lines",
         "name": "",
         "orientation": "v",
         "showlegend": false,
         "type": "scatter",
         "x": [
          -5.665559470514851,
          7.379701182132219
         ],
         "xaxis": "x",
         "y": [
          5.644232044245448,
          8.025290852149771
         ],
         "yaxis": "y"
        },
        {
         "hovertemplate": "x=%{x}<br>y=%{y}<extra></extra>",
         "legendgroup": "",
         "line": {
          "color": "goldenrod",
          "dash": "solid",
          "width": 0.8400000000000001
         },
         "marker": {
          "symbol": "circle"
         },
         "mode": "lines",
         "name": "",
         "orientation": "v",
         "showlegend": false,
         "type": "scatter",
         "x": [
          3.718416695688463,
          -1.6919893283655745
         ],
         "xaxis": "x",
         "y": [
          -0.2878902478785006,
          1.8956791741121943
         ],
         "yaxis": "y"
        },
        {
         "hovertemplate": "x=%{x}<br>y=%{y}<extra></extra>",
         "legendgroup": "",
         "line": {
          "color": "goldenrod",
          "dash": "solid",
          "width": 0.994
         },
         "marker": {
          "symbol": "circle"
         },
         "mode": "lines",
         "name": "",
         "orientation": "v",
         "showlegend": false,
         "type": "scatter",
         "x": [
          -5.665559470514851,
          -9.190364739165467
         ],
         "xaxis": "x",
         "y": [
          5.644232044245448,
          3.3565299947047897
         ],
         "yaxis": "y"
        },
        {
         "hovertemplate": "x=%{x}<br>y=%{y}<extra></extra>",
         "legendgroup": "",
         "line": {
          "color": "goldenrod",
          "dash": "solid",
          "width": 0.4460000000000003
         },
         "marker": {
          "symbol": "circle"
         },
         "mode": "lines",
         "name": "",
         "orientation": "v",
         "showlegend": false,
         "type": "scatter",
         "x": [
          2.720724990736545,
          -7.044002426746738
         ],
         "xaxis": "x",
         "y": [
          1.2410528256477422,
          -8.112592784114948
         ],
         "yaxis": "y"
        },
        {
         "hovertemplate": "x=%{x}<br>y=%{y}<extra></extra>",
         "legendgroup": "",
         "line": {
          "color": "goldenrod",
          "dash": "solid",
          "width": 1.3879999999999997
         },
         "marker": {
          "symbol": "circle"
         },
         "mode": "lines",
         "name": "",
         "orientation": "v",
         "showlegend": false,
         "type": "scatter",
         "x": [
          3.718416695688463,
          -7.044002426746738
         ],
         "xaxis": "x",
         "y": [
          -0.2878902478785006,
          -8.112592784114948
         ],
         "yaxis": "y"
        },
        {
         "hovertemplate": "x=%{x}<br>y=%{y}<extra></extra>",
         "legendgroup": "",
         "line": {
          "color": "goldenrod",
          "dash": "solid",
          "width": 1.449
         },
         "marker": {
          "symbol": "circle"
         },
         "mode": "lines",
         "name": "",
         "orientation": "v",
         "showlegend": false,
         "type": "scatter",
         "x": [
          -1.528028332774784,
          -6.830418616925616
         ],
         "xaxis": "x",
         "y": [
          -5.703624861431083,
          7.539849762699349
         ],
         "yaxis": "y"
        },
        {
         "hovertemplate": "x=%{x}<br>y=%{y}<extra></extra>",
         "legendgroup": "",
         "line": {
          "color": "goldenrod",
          "dash": "solid",
          "width": 0.10399999999999991
         },
         "marker": {
          "symbol": "circle"
         },
         "mode": "lines",
         "name": "",
         "orientation": "v",
         "showlegend": false,
         "type": "scatter",
         "x": [
          -10.17086526982914,
          -6.830418616925616
         ],
         "xaxis": "x",
         "y": [
          -3.819249045718005,
          7.539849762699349
         ],
         "yaxis": "y"
        },
        {
         "hovertemplate": "x=%{x}<br>y=%{y}<extra></extra>",
         "legendgroup": "",
         "line": {
          "color": "goldenrod",
          "dash": "solid",
          "width": 0.261
         },
         "marker": {
          "symbol": "circle"
         },
         "mode": "lines",
         "name": "",
         "orientation": "v",
         "showlegend": false,
         "type": "scatter",
         "x": [
          -1.8091319324683977,
          -7.2604337634774385
         ],
         "xaxis": "x",
         "y": [
          2.853719781969376,
          -5.858999074588611
         ],
         "yaxis": "y"
        },
        {
         "hovertemplate": "x=%{x}<br>y=%{y}<extra></extra>",
         "legendgroup": "",
         "line": {
          "color": "goldenrod",
          "dash": "solid",
          "width": 1.131
         },
         "marker": {
          "symbol": "circle"
         },
         "mode": "lines",
         "name": "",
         "orientation": "v",
         "showlegend": false,
         "type": "scatter",
         "x": [
          -5.665559470514851,
          -4.4019191982581205
         ],
         "xaxis": "x",
         "y": [
          5.644232044245448,
          5.857643843741266
         ],
         "yaxis": "y"
        },
        {
         "hovertemplate": "x=%{x}<br>y=%{y}<extra></extra>",
         "legendgroup": "",
         "line": {
          "color": "goldenrod",
          "dash": "solid",
          "width": 0.885
         },
         "marker": {
          "symbol": "circle"
         },
         "mode": "lines",
         "name": "",
         "orientation": "v",
         "showlegend": false,
         "type": "scatter",
         "x": [
          -5.665559470514851,
          -1.594715992069604
         ],
         "xaxis": "x",
         "y": [
          5.644232044245448,
          3.8767505164391167
         ],
         "yaxis": "y"
        },
        {
         "hovertemplate": "x=%{x}<br>y=%{y}<extra></extra>",
         "legendgroup": "",
         "line": {
          "color": "goldenrod",
          "dash": "solid",
          "width": 1.5939999999999999
         },
         "marker": {
          "symbol": "circle"
         },
         "mode": "lines",
         "name": "",
         "orientation": "v",
         "showlegend": false,
         "type": "scatter",
         "x": [
          2.720724990736545,
          -1.719519304353873
         ],
         "xaxis": "x",
         "y": [
          1.2410528256477422,
          0.5909584184653083
         ],
         "yaxis": "y"
        }
       ],
       "layout": {
        "autosize": false,
        "height": 600,
        "template": {
         "data": {
          "bar": [
           {
            "error_x": {
             "color": "#2a3f5f"
            },
            "error_y": {
             "color": "#2a3f5f"
            },
            "marker": {
             "line": {
              "color": "#E5ECF6",
              "width": 0.5
             },
             "pattern": {
              "fillmode": "overlay",
              "size": 10,
              "solidity": 0.2
             }
            },
            "type": "bar"
           }
          ],
          "barpolar": [
           {
            "marker": {
             "line": {
              "color": "#E5ECF6",
              "width": 0.5
             },
             "pattern": {
              "fillmode": "overlay",
              "size": 10,
              "solidity": 0.2
             }
            },
            "type": "barpolar"
           }
          ],
          "carpet": [
           {
            "aaxis": {
             "endlinecolor": "#2a3f5f",
             "gridcolor": "white",
             "linecolor": "white",
             "minorgridcolor": "white",
             "startlinecolor": "#2a3f5f"
            },
            "baxis": {
             "endlinecolor": "#2a3f5f",
             "gridcolor": "white",
             "linecolor": "white",
             "minorgridcolor": "white",
             "startlinecolor": "#2a3f5f"
            },
            "type": "carpet"
           }
          ],
          "choropleth": [
           {
            "colorbar": {
             "outlinewidth": 0,
             "ticks": ""
            },
            "type": "choropleth"
           }
          ],
          "contour": [
           {
            "colorbar": {
             "outlinewidth": 0,
             "ticks": ""
            },
            "colorscale": [
             [
              0,
              "#0d0887"
             ],
             [
              0.1111111111111111,
              "#46039f"
             ],
             [
              0.2222222222222222,
              "#7201a8"
             ],
             [
              0.3333333333333333,
              "#9c179e"
             ],
             [
              0.4444444444444444,
              "#bd3786"
             ],
             [
              0.5555555555555556,
              "#d8576b"
             ],
             [
              0.6666666666666666,
              "#ed7953"
             ],
             [
              0.7777777777777778,
              "#fb9f3a"
             ],
             [
              0.8888888888888888,
              "#fdca26"
             ],
             [
              1,
              "#f0f921"
             ]
            ],
            "type": "contour"
           }
          ],
          "contourcarpet": [
           {
            "colorbar": {
             "outlinewidth": 0,
             "ticks": ""
            },
            "type": "contourcarpet"
           }
          ],
          "heatmap": [
           {
            "colorbar": {
             "outlinewidth": 0,
             "ticks": ""
            },
            "colorscale": [
             [
              0,
              "#0d0887"
             ],
             [
              0.1111111111111111,
              "#46039f"
             ],
             [
              0.2222222222222222,
              "#7201a8"
             ],
             [
              0.3333333333333333,
              "#9c179e"
             ],
             [
              0.4444444444444444,
              "#bd3786"
             ],
             [
              0.5555555555555556,
              "#d8576b"
             ],
             [
              0.6666666666666666,
              "#ed7953"
             ],
             [
              0.7777777777777778,
              "#fb9f3a"
             ],
             [
              0.8888888888888888,
              "#fdca26"
             ],
             [
              1,
              "#f0f921"
             ]
            ],
            "type": "heatmap"
           }
          ],
          "heatmapgl": [
           {
            "colorbar": {
             "outlinewidth": 0,
             "ticks": ""
            },
            "colorscale": [
             [
              0,
              "#0d0887"
             ],
             [
              0.1111111111111111,
              "#46039f"
             ],
             [
              0.2222222222222222,
              "#7201a8"
             ],
             [
              0.3333333333333333,
              "#9c179e"
             ],
             [
              0.4444444444444444,
              "#bd3786"
             ],
             [
              0.5555555555555556,
              "#d8576b"
             ],
             [
              0.6666666666666666,
              "#ed7953"
             ],
             [
              0.7777777777777778,
              "#fb9f3a"
             ],
             [
              0.8888888888888888,
              "#fdca26"
             ],
             [
              1,
              "#f0f921"
             ]
            ],
            "type": "heatmapgl"
           }
          ],
          "histogram": [
           {
            "marker": {
             "pattern": {
              "fillmode": "overlay",
              "size": 10,
              "solidity": 0.2
             }
            },
            "type": "histogram"
           }
          ],
          "histogram2d": [
           {
            "colorbar": {
             "outlinewidth": 0,
             "ticks": ""
            },
            "colorscale": [
             [
              0,
              "#0d0887"
             ],
             [
              0.1111111111111111,
              "#46039f"
             ],
             [
              0.2222222222222222,
              "#7201a8"
             ],
             [
              0.3333333333333333,
              "#9c179e"
             ],
             [
              0.4444444444444444,
              "#bd3786"
             ],
             [
              0.5555555555555556,
              "#d8576b"
             ],
             [
              0.6666666666666666,
              "#ed7953"
             ],
             [
              0.7777777777777778,
              "#fb9f3a"
             ],
             [
              0.8888888888888888,
              "#fdca26"
             ],
             [
              1,
              "#f0f921"
             ]
            ],
            "type": "histogram2d"
           }
          ],
          "histogram2dcontour": [
           {
            "colorbar": {
             "outlinewidth": 0,
             "ticks": ""
            },
            "colorscale": [
             [
              0,
              "#0d0887"
             ],
             [
              0.1111111111111111,
              "#46039f"
             ],
             [
              0.2222222222222222,
              "#7201a8"
             ],
             [
              0.3333333333333333,
              "#9c179e"
             ],
             [
              0.4444444444444444,
              "#bd3786"
             ],
             [
              0.5555555555555556,
              "#d8576b"
             ],
             [
              0.6666666666666666,
              "#ed7953"
             ],
             [
              0.7777777777777778,
              "#fb9f3a"
             ],
             [
              0.8888888888888888,
              "#fdca26"
             ],
             [
              1,
              "#f0f921"
             ]
            ],
            "type": "histogram2dcontour"
           }
          ],
          "mesh3d": [
           {
            "colorbar": {
             "outlinewidth": 0,
             "ticks": ""
            },
            "type": "mesh3d"
           }
          ],
          "parcoords": [
           {
            "line": {
             "colorbar": {
              "outlinewidth": 0,
              "ticks": ""
             }
            },
            "type": "parcoords"
           }
          ],
          "pie": [
           {
            "automargin": true,
            "type": "pie"
           }
          ],
          "scatter": [
           {
            "marker": {
             "colorbar": {
              "outlinewidth": 0,
              "ticks": ""
             }
            },
            "type": "scatter"
           }
          ],
          "scatter3d": [
           {
            "line": {
             "colorbar": {
              "outlinewidth": 0,
              "ticks": ""
             }
            },
            "marker": {
             "colorbar": {
              "outlinewidth": 0,
              "ticks": ""
             }
            },
            "type": "scatter3d"
           }
          ],
          "scattercarpet": [
           {
            "marker": {
             "colorbar": {
              "outlinewidth": 0,
              "ticks": ""
             }
            },
            "type": "scattercarpet"
           }
          ],
          "scattergeo": [
           {
            "marker": {
             "colorbar": {
              "outlinewidth": 0,
              "ticks": ""
             }
            },
            "type": "scattergeo"
           }
          ],
          "scattergl": [
           {
            "marker": {
             "colorbar": {
              "outlinewidth": 0,
              "ticks": ""
             }
            },
            "type": "scattergl"
           }
          ],
          "scattermapbox": [
           {
            "marker": {
             "colorbar": {
              "outlinewidth": 0,
              "ticks": ""
             }
            },
            "type": "scattermapbox"
           }
          ],
          "scatterpolar": [
           {
            "marker": {
             "colorbar": {
              "outlinewidth": 0,
              "ticks": ""
             }
            },
            "type": "scatterpolar"
           }
          ],
          "scatterpolargl": [
           {
            "marker": {
             "colorbar": {
              "outlinewidth": 0,
              "ticks": ""
             }
            },
            "type": "scatterpolargl"
           }
          ],
          "scatterternary": [
           {
            "marker": {
             "colorbar": {
              "outlinewidth": 0,
              "ticks": ""
             }
            },
            "type": "scatterternary"
           }
          ],
          "surface": [
           {
            "colorbar": {
             "outlinewidth": 0,
             "ticks": ""
            },
            "colorscale": [
             [
              0,
              "#0d0887"
             ],
             [
              0.1111111111111111,
              "#46039f"
             ],
             [
              0.2222222222222222,
              "#7201a8"
             ],
             [
              0.3333333333333333,
              "#9c179e"
             ],
             [
              0.4444444444444444,
              "#bd3786"
             ],
             [
              0.5555555555555556,
              "#d8576b"
             ],
             [
              0.6666666666666666,
              "#ed7953"
             ],
             [
              0.7777777777777778,
              "#fb9f3a"
             ],
             [
              0.8888888888888888,
              "#fdca26"
             ],
             [
              1,
              "#f0f921"
             ]
            ],
            "type": "surface"
           }
          ],
          "table": [
           {
            "cells": {
             "fill": {
              "color": "#EBF0F8"
             },
             "line": {
              "color": "white"
             }
            },
            "header": {
             "fill": {
              "color": "#C8D4E3"
             },
             "line": {
              "color": "white"
             }
            },
            "type": "table"
           }
          ]
         },
         "layout": {
          "annotationdefaults": {
           "arrowcolor": "#2a3f5f",
           "arrowhead": 0,
           "arrowwidth": 1
          },
          "autotypenumbers": "strict",
          "coloraxis": {
           "colorbar": {
            "outlinewidth": 0,
            "ticks": ""
           }
          },
          "colorscale": {
           "diverging": [
            [
             0,
             "#8e0152"
            ],
            [
             0.1,
             "#c51b7d"
            ],
            [
             0.2,
             "#de77ae"
            ],
            [
             0.3,
             "#f1b6da"
            ],
            [
             0.4,
             "#fde0ef"
            ],
            [
             0.5,
             "#f7f7f7"
            ],
            [
             0.6,
             "#e6f5d0"
            ],
            [
             0.7,
             "#b8e186"
            ],
            [
             0.8,
             "#7fbc41"
            ],
            [
             0.9,
             "#4d9221"
            ],
            [
             1,
             "#276419"
            ]
           ],
           "sequential": [
            [
             0,
             "#0d0887"
            ],
            [
             0.1111111111111111,
             "#46039f"
            ],
            [
             0.2222222222222222,
             "#7201a8"
            ],
            [
             0.3333333333333333,
             "#9c179e"
            ],
            [
             0.4444444444444444,
             "#bd3786"
            ],
            [
             0.5555555555555556,
             "#d8576b"
            ],
            [
             0.6666666666666666,
             "#ed7953"
            ],
            [
             0.7777777777777778,
             "#fb9f3a"
            ],
            [
             0.8888888888888888,
             "#fdca26"
            ],
            [
             1,
             "#f0f921"
            ]
           ],
           "sequentialminus": [
            [
             0,
             "#0d0887"
            ],
            [
             0.1111111111111111,
             "#46039f"
            ],
            [
             0.2222222222222222,
             "#7201a8"
            ],
            [
             0.3333333333333333,
             "#9c179e"
            ],
            [
             0.4444444444444444,
             "#bd3786"
            ],
            [
             0.5555555555555556,
             "#d8576b"
            ],
            [
             0.6666666666666666,
             "#ed7953"
            ],
            [
             0.7777777777777778,
             "#fb9f3a"
            ],
            [
             0.8888888888888888,
             "#fdca26"
            ],
            [
             1,
             "#f0f921"
            ]
           ]
          },
          "colorway": [
           "#636efa",
           "#EF553B",
           "#00cc96",
           "#ab63fa",
           "#FFA15A",
           "#19d3f3",
           "#FF6692",
           "#B6E880",
           "#FF97FF",
           "#FECB52"
          ],
          "font": {
           "color": "#2a3f5f"
          },
          "geo": {
           "bgcolor": "white",
           "lakecolor": "white",
           "landcolor": "#E5ECF6",
           "showlakes": true,
           "showland": true,
           "subunitcolor": "white"
          },
          "hoverlabel": {
           "align": "left"
          },
          "hovermode": "closest",
          "mapbox": {
           "style": "light"
          },
          "paper_bgcolor": "white",
          "plot_bgcolor": "#E5ECF6",
          "polar": {
           "angularaxis": {
            "gridcolor": "white",
            "linecolor": "white",
            "ticks": ""
           },
           "bgcolor": "#E5ECF6",
           "radialaxis": {
            "gridcolor": "white",
            "linecolor": "white",
            "ticks": ""
           }
          },
          "scene": {
           "xaxis": {
            "backgroundcolor": "#E5ECF6",
            "gridcolor": "white",
            "gridwidth": 2,
            "linecolor": "white",
            "showbackground": true,
            "ticks": "",
            "zerolinecolor": "white"
           },
           "yaxis": {
            "backgroundcolor": "#E5ECF6",
            "gridcolor": "white",
            "gridwidth": 2,
            "linecolor": "white",
            "showbackground": true,
            "ticks": "",
            "zerolinecolor": "white"
           },
           "zaxis": {
            "backgroundcolor": "#E5ECF6",
            "gridcolor": "white",
            "gridwidth": 2,
            "linecolor": "white",
            "showbackground": true,
            "ticks": "",
            "zerolinecolor": "white"
           }
          },
          "shapedefaults": {
           "line": {
            "color": "#2a3f5f"
           }
          },
          "ternary": {
           "aaxis": {
            "gridcolor": "white",
            "linecolor": "white",
            "ticks": ""
           },
           "baxis": {
            "gridcolor": "white",
            "linecolor": "white",
            "ticks": ""
           },
           "bgcolor": "#E5ECF6",
           "caxis": {
            "gridcolor": "white",
            "linecolor": "white",
            "ticks": ""
           }
          },
          "title": {
           "x": 0.05
          },
          "xaxis": {
           "automargin": true,
           "gridcolor": "white",
           "linecolor": "white",
           "ticks": "",
           "title": {
            "standoff": 15
           },
           "zerolinecolor": "white",
           "zerolinewidth": 2
          },
          "yaxis": {
           "automargin": true,
           "gridcolor": "white",
           "linecolor": "white",
           "ticks": "",
           "title": {
            "standoff": 15
           },
           "zerolinecolor": "white",
           "zerolinewidth": 2
          }
         }
        },
        "width": 600,
        "xaxis": {
         "autorange": true,
         "range": [
          -11.985070299568623,
          11.520123119032384
         ],
         "type": "linear"
        },
        "yaxis": {
         "autorange": true,
         "range": [
          -12.642593091553527,
          11.035432197177984
         ],
         "type": "linear"
        }
       }
      },
      "image/png": "[encoded data removed]",
      "text/html": [
       "<div>                            <div id=\"7c50b037-5fc5-4b99-be0b-95acb1b12a5b\" class=\"plotly-graph-div\" style=\"height:600px; width:600px;\"></div>            <script type=\"text/javascript\">                require([\"plotly\"], function(Plotly) {                    window.PLOTLYENV=window.PLOTLYENV || {};                                    if (document.getElementById(\"7c50b037-5fc5-4b99-be0b-95acb1b12a5b\")) {                    Plotly.newPlot(                        \"7c50b037-5fc5-4b99-be0b-95acb1b12a5b\",                        [{\"hovertemplate\":\"Type=Gro\\u00df gebaut<br>x=%{x}<br>y=%{y}<extra></extra>\",\"legendgroup\":\"Gro\\u00df gebaut\",\"marker\":{\"color\":\"darkgreen\",\"symbol\":\"circle\"},\"mode\":\"markers\",\"name\":\"Gro\\u00df gebaut\",\"orientation\":\"v\",\"showlegend\":true,\"x\":[-1.8091319324683977,1.795575068551585,-10.23962094774063,-1.528028332774784,-10.17086526982914,2.720724990736545,3.718416695688463,-5.665559470514851],\"xaxis\":\"x\",\"y\":[2.853719781969376,3.774831900938844,3.678194864876825,-5.703624861431083,-3.819249045718005,1.2410528256477422,-0.2878902478785006,5.644232044245448],\"yaxis\":\"y\",\"type\":\"scatter\"},{\"hovertemplate\":\"Type=Nichts gebaut<br>x=%{x}<br>y=%{y}<extra></extra>\",\"legendgroup\":\"Nichts gebaut\",\"marker\":{\"color\":\"grey\",\"symbol\":\"circle\"},\"mode\":\"markers\",\"name\":\"Nichts gebaut\",\"orientation\":\"v\",\"showlegend\":true,\"x\":[7.16798487034364,-4.556355115803766,-8.525442177370545,3.446520328819933,3.1447262264886504,6.048780717515781,3.462633043379101,-7.101846628907806,-6.998474210378397,-6.311425341000192,8.565524433910793,-8.809340390055578,10.105989531246632,-1.197639613684797,-2.7696529005738064,0.4694108179328375,-6.616157175448263,8.152452021936224,8.326019727518302,-9.471327050033745,-8.538081194991275,-0.2864407232133547,-3.770384399165288,-5.874311522268608,-7.314993538730524,4.72087244288382,8.57474962601013,-2.5475370397857784,-0.8121369708510815,9.608322894869726,6.113093527622288,8.675579172250451,-2.1971077960089653,6.873814289066839,-9.610587746576762,5.725327052268948,-5.157648877658801,-10.57093671178287,3.976385389046945,-7.161120329013925,0.7909722226057314,-6.95440485568572],\"xaxis\":\"x\",\"y\":[1.176478843259178,-6.108396489260648,3.921165249197613,7.854972091371471,-5.94959030046699,6.53468713390113,-2.134908262857944,0.1878155912393983,6.698196483268343,-7.059795575502531,-4.720665625585216,-1.388234760523893,5.057353363239005,4.678594556101104,8.147580925421302,-9.42494120227329,-5.016342936296504,2.9421526887453937,8.42230604631836,1.2969384370813923,-8.207792710600934,0.3189138807057668,3.9081099894288607,-3.150021186588372,8.812606521626213,3.761148791658832,-8.256638890070827,-7.5442464964564175,9.640119992663449,1.188989721969656,-3.21533816537094,-2.1696906382234884,0.5537450555629219,-6.610241193702287,6.334545018606549,9.519738392030982,7.609907627183155,-11.247280887038992,-3.785101886253399,-9.350109289043074,-6.537170661040974,-1.5750087052689477],\"yaxis\":\"y\",\"type\":\"scatter\"},{\"hovertemplate\":\"Type=Stadtteil<br>x=%{x}<br>y=%{y}<extra></extra>\",\"legendgroup\":\"Stadtteil\",\"marker\":{\"color\":\"blue\",\"symbol\":\"circle\"},\"mode\":\"markers\",\"name\":\"Stadtteil\",\"orientation\":\"v\",\"showlegend\":true,\"x\":[-2.617840157776385,9.65306638123296,-5.671189748744199,-9.361196097890147,3.5400249473088787,-1.5448943603027705,-7.986294289641393,1.319128230042547,5.957451212991796,-5.585214509723528,8.071228351273826,-8.075068857279016,-4.021647637503319,9.230502065874434,1.845050423166444,-9.87172731595614,3.507239224556322,-3.700565566845107,-6.292097260027692,-10.059521427160908,-0.0254444972172649,7.379701182132219,-1.6919893283655745,-9.190364739165467,-7.044002426746738,-6.830418616925616,-7.2604337634774385,-4.4019191982581205,-1.594715992069604,-1.719519304353873],\"xaxis\":\"x\",\"y\":[1.1988524543522276,5.069990630892894,-4.435683034912494,5.234105285493201,-3.451380988212498,4.949029812352362,-1.3219135850635109,-7.134205762142999,9.318825818978738,7.39824151186475,-4.100717587582418,-9.402149773910192,-7.302849330565328,0.6219632851819383,3.885980643894202,-3.906247959697773,6.737987412380432,3.997637802606329,-3.145107694302765,3.819182505242558,-8.872196774548843,8.025290852149771,1.8956791741121943,3.3565299947047897,-8.112592784114948,7.539849762699349,-5.858999074588611,5.857643843741266,3.8767505164391167,0.5909584184653083],\"yaxis\":\"y\",\"type\":\"scatter\"},{\"hovertemplate\":\"x=%{x}<br>y=%{y}<extra></extra>\",\"legendgroup\":\"\",\"line\":{\"color\":\"goldenrod\",\"dash\":\"solid\",\"width\":1.478},\"marker\":{\"symbol\":\"circle\"},\"mode\":\"lines\",\"name\":\"\",\"orientation\":\"v\",\"showlegend\":false,\"x\":[-10.23962094774063,-2.617840157776385],\"xaxis\":\"x\",\"y\":[3.678194864876825,1.1988524543522276],\"yaxis\":\"y\",\"type\":\"scatter\"},{\"hovertemplate\":\"x=%{x}<br>y=%{y}<extra></extra>\",\"legendgroup\":\"\",\"line\":{\"color\":\"goldenrod\",\"dash\":\"solid\",\"width\":0.1790000000000001},\"marker\":{\"symbol\":\"circle\"},\"mode\":\"lines\",\"name\":\"\",\"orientation\":\"v\",\"showlegend\":false,\"x\":[2.720724990736545,-2.617840157776385],\"xaxis\":\"x\",\"y\":[1.2410528256477422,1.1988524543522276],\"yaxis\":\"y\",\"type\":\"scatter\"},{\"hovertemplate\":\"x=%{x}<br>y=%{y}<extra></extra>\",\"legendgroup\":\"\",\"line\":{\"color\":\"goldenrod\",\"dash\":\"solid\",\"width\":1.426},\"marker\":{\"symbol\":\"circle\"},\"mode\":\"lines\",\"name\":\"\",\"orientation\":\"v\",\"showlegend\":false,\"x\":[-1.8091319324683977,9.65306638123296],\"xaxis\":\"x\",\"y\":[2.853719781969376,5.069990630892894],\"yaxis\":\"y\",\"type\":\"scatter\"},{\"hovertemplate\":\"x=%{x}<br>y=%{y}<extra></extra>\",\"legendgroup\":\"\",\"line\":{\"color\":\"goldenrod\",\"dash\":\"solid\",\"width\":1.393},\"marker\":{\"symbol\":\"circle\"},\"mode\":\"lines\",\"name\":\"\",\"orientation\":\"v\",\"showlegend\":false,\"x\":[1.795575068551585,-5.671189748744199],\"xaxis\":\"x\",\"y\":[3.774831900938844,-4.435683034912494],\"yaxis\":\"y\",\"type\":\"scatter\"},{\"hovertemplate\":\"x=%{x}<br>y=%{y}<extra></extra>\",\"legendgroup\":\"\",\"line\":{\"color\":\"goldenrod\",\"dash\":\"solid\",\"width\":0.649},\"marker\":{\"symbol\":\"circle\"},\"mode\":\"lines\",\"name\":\"\",\"orientation\":\"v\",\"showlegend\":false,\"x\":[-5.665559470514851,-9.361196097890147],\"xaxis\":\"x\",\"y\":[5.644232044245448,5.234105285493201],\"yaxis\":\"y\",\"type\":\"scatter\"},{\"hovertemplate\":\"x=%{x}<br>y=%{y}<extra></extra>\",\"legendgroup\":\"\",\"line\":{\"color\":\"goldenrod\",\"dash\":\"solid\",\"width\":0.46799999999999997},\"marker\":{\"symbol\":\"circle\"},\"mode\":\"lines\",\"name\":\"\",\"orientation\":\"v\",\"showlegend\":false,\"x\":[-1.8091319324683977,3.5400249473088787],\"xaxis\":\"x\",\"y\":[2.853719781969376,-3.451380988212498],\"yaxis\":\"y\",\"type\":\"scatter\"},{\"hovertemplate\":\"x=%{x}<br>y=%{y}<extra></extra>\",\"legendgroup\":\"\",\"line\":{\"color\":\"goldenrod\",\"dash\":\"solid\",\"width\":0.422},\"marker\":{\"symbol\":\"circle\"},\"mode\":\"lines\",\"name\":\"\",\"orientation\":\"v\",\"showlegend\":false,\"x\":[-10.17086526982914,-1.5448943603027705],\"xaxis\":\"x\",\"y\":[-3.819249045718005,4.949029812352362],\"yaxis\":\"y\",\"type\":\"scatter\"},{\"hovertemplate\":\"x=%{x}<br>y=%{y}<extra></extra>\",\"legendgroup\":\"\",\"line\":{\"color\":\"goldenrod\",\"dash\":\"solid\",\"width\":1.4739999999999998},\"marker\":{\"symbol\":\"circle\"},\"mode\":\"lines\",\"name\":\"\",\"orientation\":\"v\",\"showlegend\":false,\"x\":[1.795575068551585,-7.986294289641393],\"xaxis\":\"x\",\"y\":[3.774831900938844,-1.3219135850635109],\"yaxis\":\"y\",\"type\":\"scatter\"},{\"hovertemplate\":\"x=%{x}<br>y=%{y}<extra></extra>\",\"legendgroup\":\"\",\"line\":{\"color\":\"goldenrod\",\"dash\":\"solid\",\"width\":0.2400000000000002},\"marker\":{\"symbol\":\"circle\"},\"mode\":\"lines\",\"name\":\"\",\"orientation\":\"v\",\"showlegend\":false,\"x\":[-10.17086526982914,-7.986294289641393],\"xaxis\":\"x\",\"y\":[-3.819249045718005,-1.3219135850635109],\"yaxis\":\"y\",\"type\":\"scatter\"},{\"hovertemplate\":\"x=%{x}<br>y=%{y}<extra></extra>\",\"legendgroup\":\"\",\"line\":{\"color\":\"goldenrod\",\"dash\":\"solid\",\"width\":1.641},\"marker\":{\"symbol\":\"circle\"},\"mode\":\"lines\",\"name\":\"\",\"orientation\":\"v\",\"showlegend\":false,\"x\":[-10.23962094774063,1.319128230042547],\"xaxis\":\"x\",\"y\":[3.678194864876825,-7.134205762142999],\"yaxis\":\"y\",\"type\":\"scatter\"},{\"hovertemplate\":\"x=%{x}<br>y=%{y}<extra></extra>\",\"legendgroup\":\"\",\"line\":{\"color\":\"goldenrod\",\"dash\":\"solid\",\"width\":0.881},\"marker\":{\"symbol\":\"circle\"},\"mode\":\"lines\",\"name\":\"\",\"orientation\":\"v\",\"showlegend\":false,\"x\":[-10.23962094774063,5.957451212991796],\"xaxis\":\"x\",\"y\":[3.678194864876825,9.318825818978738],\"yaxis\":\"y\",\"type\":\"scatter\"},{\"hovertemplate\":\"x=%{x}<br>y=%{y}<extra></extra>\",\"legendgroup\":\"\",\"line\":{\"color\":\"goldenrod\",\"dash\":\"solid\",\"width\":0.265},\"marker\":{\"symbol\":\"circle\"},\"mode\":\"lines\",\"name\":\"\",\"orientation\":\"v\",\"showlegend\":false,\"x\":[-1.8091319324683977,-5.585214509723528],\"xaxis\":\"x\",\"y\":[2.853719781969376,7.39824151186475],\"yaxis\":\"y\",\"type\":\"scatter\"},{\"hovertemplate\":\"x=%{x}<br>y=%{y}<extra></extra>\",\"legendgroup\":\"\",\"line\":{\"color\":\"goldenrod\",\"dash\":\"solid\",\"width\":0.765},\"marker\":{\"symbol\":\"circle\"},\"mode\":\"lines\",\"name\":\"\",\"orientation\":\"v\",\"showlegend\":false,\"x\":[-1.8091319324683977,8.071228351273826],\"xaxis\":\"x\",\"y\":[2.853719781969376,-4.100717587582418],\"yaxis\":\"y\",\"type\":\"scatter\"},{\"hovertemplate\":\"x=%{x}<br>y=%{y}<extra></extra>\",\"legendgroup\":\"\",\"line\":{\"color\":\"goldenrod\",\"dash\":\"solid\",\"width\":1.239},\"marker\":{\"symbol\":\"circle\"},\"mode\":\"lines\",\"name\":\"\",\"orientation\":\"v\",\"showlegend\":false,\"x\":[-10.17086526982914,-8.075068857279016],\"xaxis\":\"x\",\"y\":[-3.819249045718005,-9.402149773910192],\"yaxis\":\"y\",\"type\":\"scatter\"},{\"hovertemplate\":\"x=%{x}<br>y=%{y}<extra></extra>\",\"legendgroup\":\"\",\"line\":{\"color\":\"goldenrod\",\"dash\":\"solid\",\"width\":0.909},\"marker\":{\"symbol\":\"circle\"},\"mode\":\"lines\",\"name\":\"\",\"orientation\":\"v\",\"showlegend\":false,\"x\":[3.718416695688463,-4.021647637503319],\"xaxis\":\"x\",\"y\":[-0.2878902478785006,-7.302849330565328],\"yaxis\":\"y\",\"type\":\"scatter\"},{\"hovertemplate\":\"x=%{x}<br>y=%{y}<extra></extra>\",\"legendgroup\":\"\",\"line\":{\"color\":\"goldenrod\",\"dash\":\"solid\",\"width\":1.56},\"marker\":{\"symbol\":\"circle\"},\"mode\":\"lines\",\"name\":\"\",\"orientation\":\"v\",\"showlegend\":false,\"x\":[-1.528028332774784,9.230502065874434],\"xaxis\":\"x\",\"y\":[-5.703624861431083,0.6219632851819383],\"yaxis\":\"y\",\"type\":\"scatter\"},{\"hovertemplate\":\"x=%{x}<br>y=%{y}<extra></extra>\",\"legendgroup\":\"\",\"line\":{\"color\":\"goldenrod\",\"dash\":\"solid\",\"width\":1.9949999999999999},\"marker\":{\"symbol\":\"circle\"},\"mode\":\"lines\",\"name\":\"\",\"orientation\":\"v\",\"showlegend\":false,\"x\":[-10.17086526982914,1.845050423166444],\"xaxis\":\"x\",\"y\":[-3.819249045718005,3.885980643894202],\"yaxis\":\"y\",\"type\":\"scatter\"},{\"hovertemplate\":\"x=%{x}<br>y=%{y}<extra></extra>\",\"legendgroup\":\"\",\"line\":{\"color\":\"goldenrod\",\"dash\":\"solid\",\"width\":0.382},\"marker\":{\"symbol\":\"circle\"},\"mode\":\"lines\",\"name\":\"\",\"orientation\":\"v\",\"showlegend\":false,\"x\":[-1.528028332774784,-9.87172731595614],\"xaxis\":\"x\",\"y\":[-5.703624861431083,-3.906247959697773],\"yaxis\":\"y\",\"type\":\"scatter\"},{\"hovertemplate\":\"x=%{x}<br>y=%{y}<extra></extra>\",\"legendgroup\":\"\",\"line\":{\"color\":\"goldenrod\",\"dash\":\"solid\",\"width\":0.9189999999999999},\"marker\":{\"symbol\":\"circle\"},\"mode\":\"lines\",\"name\":\"\",\"orientation\":\"v\",\"showlegend\":false,\"x\":[2.720724990736545,3.507239224556322],\"xaxis\":\"x\",\"y\":[1.2410528256477422,6.737987412380432],\"yaxis\":\"y\",\"type\":\"scatter\"},{\"hovertemplate\":\"x=%{x}<br>y=%{y}<extra></extra>\",\"legendgroup\":\"\",\"line\":{\"color\":\"goldenrod\",\"dash\":\"solid\",\"width\":0.8619999999999999},\"marker\":{\"symbol\":\"circle\"},\"mode\":\"lines\",\"name\":\"\",\"orientation\":\"v\",\"showlegend\":false,\"x\":[2.720724990736545,-3.700565566845107],\"xaxis\":\"x\",\"y\":[1.2410528256477422,3.997637802606329],\"yaxis\":\"y\",\"type\":\"scatter\"},{\"hovertemplate\":\"x=%{x}<br>y=%{y}<extra></extra>\",\"legendgroup\":\"\",\"line\":{\"color\":\"goldenrod\",\"dash\":\"solid\",\"width\":0.609},\"marker\":{\"symbol\":\"circle\"},\"mode\":\"lines\",\"name\":\"\",\"orientation\":\"v\",\"showlegend\":false,\"x\":[-1.528028332774784,-6.292097260027692],\"xaxis\":\"x\",\"y\":[-5.703624861431083,-3.145107694302765],\"yaxis\":\"y\",\"type\":\"scatter\"},{\"hovertemplate\":\"x=%{x}<br>y=%{y}<extra></extra>\",\"legendgroup\":\"\",\"line\":{\"color\":\"goldenrod\",\"dash\":\"solid\",\"width\":0.396},\"marker\":{\"symbol\":\"circle\"},\"mode\":\"lines\",\"name\":\"\",\"orientation\":\"v\",\"showlegend\":false,\"x\":[-1.8091319324683977,-10.059521427160908],\"xaxis\":\"x\",\"y\":[2.853719781969376,3.819182505242558],\"yaxis\":\"y\",\"type\":\"scatter\"},{\"hovertemplate\":\"x=%{x}<br>y=%{y}<extra></extra>\",\"legendgroup\":\"\",\"line\":{\"color\":\"goldenrod\",\"dash\":\"solid\",\"width\":0.131},\"marker\":{\"symbol\":\"circle\"},\"mode\":\"lines\",\"name\":\"\",\"orientation\":\"v\",\"showlegend\":false,\"x\":[-1.8091319324683977,-0.0254444972172649],\"xaxis\":\"x\",\"y\":[2.853719781969376,-8.872196774548843],\"yaxis\":\"y\",\"type\":\"scatter\"},{\"hovertemplate\":\"x=%{x}<br>y=%{y}<extra></extra>\",\"legendgroup\":\"\",\"line\":{\"color\":\"goldenrod\",\"dash\":\"solid\",\"width\":0.28800000000000014},\"marker\":{\"symbol\":\"circle\"},\"mode\":\"lines\",\"name\":\"\",\"orientation\":\"v\",\"showlegend\":false,\"x\":[-1.8091319324683977,7.379701182132219],\"xaxis\":\"x\",\"y\":[2.853719781969376,8.025290852149771],\"yaxis\":\"y\",\"type\":\"scatter\"},{\"hovertemplate\":\"x=%{x}<br>y=%{y}<extra></extra>\",\"legendgroup\":\"\",\"line\":{\"color\":\"goldenrod\",\"dash\":\"solid\",\"width\":0.28200000000000003},\"marker\":{\"symbol\":\"circle\"},\"mode\":\"lines\",\"name\":\"\",\"orientation\":\"v\",\"showlegend\":false,\"x\":[1.795575068551585,7.379701182132219],\"xaxis\":\"x\",\"y\":[3.774831900938844,8.025290852149771],\"yaxis\":\"y\",\"type\":\"scatter\"},{\"hovertemplate\":\"x=%{x}<br>y=%{y}<extra></extra>\",\"legendgroup\":\"\",\"line\":{\"color\":\"goldenrod\",\"dash\":\"solid\",\"width\":0.8630000000000001},\"marker\":{\"symbol\":\"circle\"},\"mode\":\"lines\",\"name\":\"\",\"orientation\":\"v\",\"showlegend\":false,\"x\":[3.718416695688463,7.379701182132219],\"xaxis\":\"x\",\"y\":[-0.2878902478785006,8.025290852149771],\"yaxis\":\"y\",\"type\":\"scatter\"},{\"hovertemplate\":\"x=%{x}<br>y=%{y}<extra></extra>\",\"legendgroup\":\"\",\"line\":{\"color\":\"goldenrod\",\"dash\":\"solid\",\"width\":0.34099999999999964},\"marker\":{\"symbol\":\"circle\"},\"mode\":\"lines\",\"name\":\"\",\"orientation\":\"v\",\"showlegend\":false,\"x\":[-5.665559470514851,7.379701182132219],\"xaxis\":\"x\",\"y\":[5.644232044245448,8.025290852149771],\"yaxis\":\"y\",\"type\":\"scatter\"},{\"hovertemplate\":\"x=%{x}<br>y=%{y}<extra></extra>\",\"legendgroup\":\"\",\"line\":{\"color\":\"goldenrod\",\"dash\":\"solid\",\"width\":0.8400000000000001},\"marker\":{\"symbol\":\"circle\"},\"mode\":\"lines\",\"name\":\"\",\"orientation\":\"v\",\"showlegend\":false,\"x\":[3.718416695688463,-1.6919893283655745],\"xaxis\":\"x\",\"y\":[-0.2878902478785006,1.8956791741121943],\"yaxis\":\"y\",\"type\":\"scatter\"},{\"hovertemplate\":\"x=%{x}<br>y=%{y}<extra></extra>\",\"legendgroup\":\"\",\"line\":{\"color\":\"goldenrod\",\"dash\":\"solid\",\"width\":0.994},\"marker\":{\"symbol\":\"circle\"},\"mode\":\"lines\",\"name\":\"\",\"orientation\":\"v\",\"showlegend\":false,\"x\":[-5.665559470514851,-9.190364739165467],\"xaxis\":\"x\",\"y\":[5.644232044245448,3.3565299947047897],\"yaxis\":\"y\",\"type\":\"scatter\"},{\"hovertemplate\":\"x=%{x}<br>y=%{y}<extra></extra>\",\"legendgroup\":\"\",\"line\":{\"color\":\"goldenrod\",\"dash\":\"solid\",\"width\":0.4460000000000003},\"marker\":{\"symbol\":\"circle\"},\"mode\":\"lines\",\"name\":\"\",\"orientation\":\"v\",\"showlegend\":false,\"x\":[2.720724990736545,-7.044002426746738],\"xaxis\":\"x\",\"y\":[1.2410528256477422,-8.112592784114948],\"yaxis\":\"y\",\"type\":\"scatter\"},{\"hovertemplate\":\"x=%{x}<br>y=%{y}<extra></extra>\",\"legendgroup\":\"\",\"line\":{\"color\":\"goldenrod\",\"dash\":\"solid\",\"width\":1.3879999999999997},\"marker\":{\"symbol\":\"circle\"},\"mode\":\"lines\",\"name\":\"\",\"orientation\":\"v\",\"showlegend\":false,\"x\":[3.718416695688463,-7.044002426746738],\"xaxis\":\"x\",\"y\":[-0.2878902478785006,-8.112592784114948],\"yaxis\":\"y\",\"type\":\"scatter\"},{\"hovertemplate\":\"x=%{x}<br>y=%{y}<extra></extra>\",\"legendgroup\":\"\",\"line\":{\"color\":\"goldenrod\",\"dash\":\"solid\",\"width\":1.449},\"marker\":{\"symbol\":\"circle\"},\"mode\":\"lines\",\"name\":\"\",\"orientation\":\"v\",\"showlegend\":false,\"x\":[-1.528028332774784,-6.830418616925616],\"xaxis\":\"x\",\"y\":[-5.703624861431083,7.539849762699349],\"yaxis\":\"y\",\"type\":\"scatter\"},{\"hovertemplate\":\"x=%{x}<br>y=%{y}<extra></extra>\",\"legendgroup\":\"\",\"line\":{\"color\":\"goldenrod\",\"dash\":\"solid\",\"width\":0.10399999999999991},\"marker\":{\"symbol\":\"circle\"},\"mode\":\"lines\",\"name\":\"\",\"orientation\":\"v\",\"showlegend\":false,\"x\":[-10.17086526982914,-6.830418616925616],\"xaxis\":\"x\",\"y\":[-3.819249045718005,7.539849762699349],\"yaxis\":\"y\",\"type\":\"scatter\"},{\"hovertemplate\":\"x=%{x}<br>y=%{y}<extra></extra>\",\"legendgroup\":\"\",\"line\":{\"color\":\"goldenrod\",\"dash\":\"solid\",\"width\":0.261},\"marker\":{\"symbol\":\"circle\"},\"mode\":\"lines\",\"name\":\"\",\"orientation\":\"v\",\"showlegend\":false,\"x\":[-1.8091319324683977,-7.2604337634774385],\"xaxis\":\"x\",\"y\":[2.853719781969376,-5.858999074588611],\"yaxis\":\"y\",\"type\":\"scatter\"},{\"hovertemplate\":\"x=%{x}<br>y=%{y}<extra></extra>\",\"legendgroup\":\"\",\"line\":{\"color\":\"goldenrod\",\"dash\":\"solid\",\"width\":1.131},\"marker\":{\"symbol\":\"circle\"},\"mode\":\"lines\",\"name\":\"\",\"orientation\":\"v\",\"showlegend\":false,\"x\":[-5.665559470514851,-4.4019191982581205],\"xaxis\":\"x\",\"y\":[5.644232044245448,5.857643843741266],\"yaxis\":\"y\",\"type\":\"scatter\"},{\"hovertemplate\":\"x=%{x}<br>y=%{y}<extra></extra>\",\"legendgroup\":\"\",\"line\":{\"color\":\"goldenrod\",\"dash\":\"solid\",\"width\":0.885},\"marker\":{\"symbol\":\"circle\"},\"mode\":\"lines\",\"name\":\"\",\"orientation\":\"v\",\"showlegend\":false,\"x\":[-5.665559470514851,-1.594715992069604],\"xaxis\":\"x\",\"y\":[5.644232044245448,3.8767505164391167],\"yaxis\":\"y\",\"type\":\"scatter\"},{\"hovertemplate\":\"x=%{x}<br>y=%{y}<extra></extra>\",\"legendgroup\":\"\",\"line\":{\"color\":\"goldenrod\",\"dash\":\"solid\",\"width\":1.5939999999999999},\"marker\":{\"symbol\":\"circle\"},\"mode\":\"lines\",\"name\":\"\",\"orientation\":\"v\",\"showlegend\":false,\"x\":[2.720724990736545,-1.719519304353873],\"xaxis\":\"x\",\"y\":[1.2410528256477422,0.5909584184653083],\"yaxis\":\"y\",\"type\":\"scatter\"}],                        {\"template\":{\"data\":{\"bar\":[{\"error_x\":{\"color\":\"#2a3f5f\"},\"error_y\":{\"color\":\"#2a3f5f\"},\"marker\":{\"line\":{\"color\":\"#E5ECF6\",\"width\":0.5},\"pattern\":{\"fillmode\":\"overlay\",\"size\":10,\"solidity\":0.2}},\"type\":\"bar\"}],\"barpolar\":[{\"marker\":{\"line\":{\"color\":\"#E5ECF6\",\"width\":0.5},\"pattern\":{\"fillmode\":\"overlay\",\"size\":10,\"solidity\":0.2}},\"type\":\"barpolar\"}],\"carpet\":[{\"aaxis\":{\"endlinecolor\":\"#2a3f5f\",\"gridcolor\":\"white\",\"linecolor\":\"white\",\"minorgridcolor\":\"white\",\"startlinecolor\":\"#2a3f5f\"},\"baxis\":{\"endlinecolor\":\"#2a3f5f\",\"gridcolor\":\"white\",\"linecolor\":\"white\",\"minorgridcolor\":\"white\",\"startlinecolor\":\"#2a3f5f\"},\"type\":\"carpet\"}],\"choropleth\":[{\"colorbar\":{\"outlinewidth\":0,\"ticks\":\"\"},\"type\":\"choropleth\"}],\"contour\":[{\"colorbar\":{\"outlinewidth\":0,\"ticks\":\"\"},\"colorscale\":[[0.0,\"#0d0887\"],[0.1111111111111111,\"#46039f\"],[0.2222222222222222,\"#7201a8\"],[0.3333333333333333,\"#9c179e\"],[0.4444444444444444,\"#bd3786\"],[0.5555555555555556,\"#d8576b\"],[0.6666666666666666,\"#ed7953\"],[0.7777777777777778,\"#fb9f3a\"],[0.8888888888888888,\"#fdca26\"],[1.0,\"#f0f921\"]],\"type\":\"contour\"}],\"contourcarpet\":[{\"colorbar\":{\"outlinewidth\":0,\"ticks\":\"\"},\"type\":\"contourcarpet\"}],\"heatmap\":[{\"colorbar\":{\"outlinewidth\":0,\"ticks\":\"\"},\"colorscale\":[[0.0,\"#0d0887\"],[0.1111111111111111,\"#46039f\"],[0.2222222222222222,\"#7201a8\"],[0.3333333333333333,\"#9c179e\"],[0.4444444444444444,\"#bd3786\"],[0.5555555555555556,\"#d8576b\"],[0.6666666666666666,\"#ed7953\"],[0.7777777777777778,\"#fb9f3a\"],[0.8888888888888888,\"#fdca26\"],[1.0,\"#f0f921\"]],\"type\":\"heatmap\"}],\"heatmapgl\":[{\"colorbar\":{\"outlinewidth\":0,\"ticks\":\"\"},\"colorscale\":[[0.0,\"#0d0887\"],[0.1111111111111111,\"#46039f\"],[0.2222222222222222,\"#7201a8\"],[0.3333333333333333,\"#9c179e\"],[0.4444444444444444,\"#bd3786\"],[0.5555555555555556,\"#d8576b\"],[0.6666666666666666,\"#ed7953\"],[0.7777777777777778,\"#fb9f3a\"],[0.8888888888888888,\"#fdca26\"],[1.0,\"#f0f921\"]],\"type\":\"heatmapgl\"}],\"histogram\":[{\"marker\":{\"pattern\":{\"fillmode\":\"overlay\",\"size\":10,\"solidity\":0.2}},\"type\":\"histogram\"}],\"histogram2d\":[{\"colorbar\":{\"outlinewidth\":0,\"ticks\":\"\"},\"colorscale\":[[0.0,\"#0d0887\"],[0.1111111111111111,\"#46039f\"],[0.2222222222222222,\"#7201a8\"],[0.3333333333333333,\"#9c179e\"],[0.4444444444444444,\"#bd3786\"],[0.5555555555555556,\"#d8576b\"],[0.6666666666666666,\"#ed7953\"],[0.7777777777777778,\"#fb9f3a\"],[0.8888888888888888,\"#fdca26\"],[1.0,\"#f0f921\"]],\"type\":\"histogram2d\"}],\"histogram2dcontour\":[{\"colorbar\":{\"outlinewidth\":0,\"ticks\":\"\"},\"colorscale\":[[0.0,\"#0d0887\"],[0.1111111111111111,\"#46039f\"],[0.2222222222222222,\"#7201a8\"],[0.3333333333333333,\"#9c179e\"],[0.4444444444444444,\"#bd3786\"],[0.5555555555555556,\"#d8576b\"],[0.6666666666666666,\"#ed7953\"],[0.7777777777777778,\"#fb9f3a\"],[0.8888888888888888,\"#fdca26\"],[1.0,\"#f0f921\"]],\"type\":\"histogram2dcontour\"}],\"mesh3d\":[{\"colorbar\":{\"outlinewidth\":0,\"ticks\":\"\"},\"type\":\"mesh3d\"}],\"parcoords\":[{\"line\":{\"colorbar\":{\"outlinewidth\":0,\"ticks\":\"\"}},\"type\":\"parcoords\"}],\"pie\":[{\"automargin\":true,\"type\":\"pie\"}],\"scatter\":[{\"marker\":{\"colorbar\":{\"outlinewidth\":0,\"ticks\":\"\"}},\"type\":\"scatter\"}],\"scatter3d\":[{\"line\":{\"colorbar\":{\"outlinewidth\":0,\"ticks\":\"\"}},\"marker\":{\"colorbar\":{\"outlinewidth\":0,\"ticks\":\"\"}},\"type\":\"scatter3d\"}],\"scattercarpet\":[{\"marker\":{\"colorbar\":{\"outlinewidth\":0,\"ticks\":\"\"}},\"type\":\"scattercarpet\"}],\"scattergeo\":[{\"marker\":{\"colorbar\":{\"outlinewidth\":0,\"ticks\":\"\"}},\"type\":\"scattergeo\"}],\"scattergl\":[{\"marker\":{\"colorbar\":{\"outlinewidth\":0,\"ticks\":\"\"}},\"type\":\"scattergl\"}],\"scattermapbox\":[{\"marker\":{\"colorbar\":{\"outlinewidth\":0,\"ticks\":\"\"}},\"type\":\"scattermapbox\"}],\"scatterpolar\":[{\"marker\":{\"colorbar\":{\"outlinewidth\":0,\"ticks\":\"\"}},\"type\":\"scatterpolar\"}],\"scatterpolargl\":[{\"marker\":{\"colorbar\":{\"outlinewidth\":0,\"ticks\":\"\"}},\"type\":\"scatterpolargl\"}],\"scatterternary\":[{\"marker\":{\"colorbar\":{\"outlinewidth\":0,\"ticks\":\"\"}},\"type\":\"scatterternary\"}],\"surface\":[{\"colorbar\":{\"outlinewidth\":0,\"ticks\":\"\"},\"colorscale\":[[0.0,\"#0d0887\"],[0.1111111111111111,\"#46039f\"],[0.2222222222222222,\"#7201a8\"],[0.3333333333333333,\"#9c179e\"],[0.4444444444444444,\"#bd3786\"],[0.5555555555555556,\"#d8576b\"],[0.6666666666666666,\"#ed7953\"],[0.7777777777777778,\"#fb9f3a\"],[0.8888888888888888,\"#fdca26\"],[1.0,\"#f0f921\"]],\"type\":\"surface\"}],\"table\":[{\"cells\":{\"fill\":{\"color\":\"#EBF0F8\"},\"line\":{\"color\":\"white\"}},\"header\":{\"fill\":{\"color\":\"#C8D4E3\"},\"line\":{\"color\":\"white\"}},\"type\":\"table\"}]},\"layout\":{\"annotationdefaults\":{\"arrowcolor\":\"#2a3f5f\",\"arrowhead\":0,\"arrowwidth\":1},\"autotypenumbers\":\"strict\",\"coloraxis\":{\"colorbar\":{\"outlinewidth\":0,\"ticks\":\"\"}},\"colorscale\":{\"diverging\":[[0,\"#8e0152\"],[0.1,\"#c51b7d\"],[0.2,\"#de77ae\"],[0.3,\"#f1b6da\"],[0.4,\"#fde0ef\"],[0.5,\"#f7f7f7\"],[0.6,\"#e6f5d0\"],[0.7,\"#b8e186\"],[0.8,\"#7fbc41\"],[0.9,\"#4d9221\"],[1,\"#276419\"]],\"sequential\":[[0.0,\"#0d0887\"],[0.1111111111111111,\"#46039f\"],[0.2222222222222222,\"#7201a8\"],[0.3333333333333333,\"#9c179e\"],[0.4444444444444444,\"#bd3786\"],[0.5555555555555556,\"#d8576b\"],[0.6666666666666666,\"#ed7953\"],[0.7777777777777778,\"#fb9f3a\"],[0.8888888888888888,\"#fdca26\"],[1.0,\"#f0f921\"]],\"sequentialminus\":[[0.0,\"#0d0887\"],[0.1111111111111111,\"#46039f\"],[0.2222222222222222,\"#7201a8\"],[0.3333333333333333,\"#9c179e\"],[0.4444444444444444,\"#bd3786\"],[0.5555555555555556,\"#d8576b\"],[0.6666666666666666,\"#ed7953\"],[0.7777777777777778,\"#fb9f3a\"],[0.8888888888888888,\"#fdca26\"],[1.0,\"#f0f921\"]]},\"colorway\":[\"#636efa\",\"#EF553B\",\"#00cc96\",\"#ab63fa\",\"#FFA15A\",\"#19d3f3\",\"#FF6692\",\"#B6E880\",\"#FF97FF\",\"#FECB52\"],\"font\":{\"color\":\"#2a3f5f\"},\"geo\":{\"bgcolor\":\"white\",\"lakecolor\":\"white\",\"landcolor\":\"#E5ECF6\",\"showlakes\":true,\"showland\":true,\"subunitcolor\":\"white\"},\"hoverlabel\":{\"align\":\"left\"},\"hovermode\":\"closest\",\"mapbox\":{\"style\":\"light\"},\"paper_bgcolor\":\"white\",\"plot_bgcolor\":\"#E5ECF6\",\"polar\":{\"angularaxis\":{\"gridcolor\":\"white\",\"linecolor\":\"white\",\"ticks\":\"\"},\"bgcolor\":\"#E5ECF6\",\"radialaxis\":{\"gridcolor\":\"white\",\"linecolor\":\"white\",\"ticks\":\"\"}},\"scene\":{\"xaxis\":{\"backgroundcolor\":\"#E5ECF6\",\"gridcolor\":\"white\",\"gridwidth\":2,\"linecolor\":\"white\",\"showbackground\":true,\"ticks\":\"\",\"zerolinecolor\":\"white\"},\"yaxis\":{\"backgroundcolor\":\"#E5ECF6\",\"gridcolor\":\"white\",\"gridwidth\":2,\"linecolor\":\"white\",\"showbackground\":true,\"ticks\":\"\",\"zerolinecolor\":\"white\"},\"zaxis\":{\"backgroundcolor\":\"#E5ECF6\",\"gridcolor\":\"white\",\"gridwidth\":2,\"linecolor\":\"white\",\"showbackground\":true,\"ticks\":\"\",\"zerolinecolor\":\"white\"}},\"shapedefaults\":{\"line\":{\"color\":\"#2a3f5f\"}},\"ternary\":{\"aaxis\":{\"gridcolor\":\"white\",\"linecolor\":\"white\",\"ticks\":\"\"},\"baxis\":{\"gridcolor\":\"white\",\"linecolor\":\"white\",\"ticks\":\"\"},\"bgcolor\":\"#E5ECF6\",\"caxis\":{\"gridcolor\":\"white\",\"linecolor\":\"white\",\"ticks\":\"\"}},\"title\":{\"x\":0.05},\"xaxis\":{\"automargin\":true,\"gridcolor\":\"white\",\"linecolor\":\"white\",\"ticks\":\"\",\"title\":{\"standoff\":15},\"zerolinecolor\":\"white\",\"zerolinewidth\":2},\"yaxis\":{\"automargin\":true,\"gridcolor\":\"white\",\"linecolor\":\"white\",\"ticks\":\"\",\"title\":{\"standoff\":15},\"zerolinecolor\":\"white\",\"zerolinewidth\":2}}},\"autosize\":false,\"width\":600,\"height\":600},                        {\"responsive\": true}                    ).then(function(){\n",
       "                            \n",
       "var gd = document.getElementById('7c50b037-5fc5-4b99-be0b-95acb1b12a5b');\n",
       "var x = new MutationObserver(function (mutations, observer) {{\n",
       "        var display = window.getComputedStyle(gd).display;\n",
       "        if (!display || display === 'none') {{\n",
       "            console.log([gd, 'removed!']);\n",
       "            Plotly.purge(gd);\n",
       "            observer.disconnect();\n",
       "        }}\n",
       "}});\n",
       "\n",
       "// Listen for the removal of the full notebook cells\n",
       "var notebookContainer = gd.closest('#notebook-container');\n",
       "if (notebookContainer) {{\n",
       "    x.observe(notebookContainer, {childList: true});\n",
       "}}\n",
       "\n",
       "// Listen for the clearing of the current output cell\n",
       "var outputEl = gd.closest('.output');\n",
       "if (outputEl) {{\n",
       "    x.observe(outputEl, {childList: true});\n",
       "}}\n",
       "\n",
       "                        })                };                });            </script>        </div>"
      ]
     },
     "metadata": {},
     "output_type": "display_data"
    },
    {
     "name": "stdout",
     "output_type": "stream",
     "text": [
      "\n",
      "\n",
      "___Optimal costs___\n",
      "The total cost of building [8] charging stations is $1,600,000.\n",
      "The total cost of building [] small charging stations is $0.\n",
      "The total cost of building [] medium-size charging stations is $0.\n",
      "The total cost of building [8] large charging stations is $1,600,000.\n"
     ]
    }
   ],
   "source": [
    "# solve task 1\n",
    "solve_location()"
   ]
  },
  {
   "cell_type": "markdown",
   "id": "aa46b152-1744-436c-9b2a-37515cb37966",
   "metadata": {
    "tags": []
   },
   "source": [
    "### Task 2"
   ]
  },
  {
   "cell_type": "code",
   "execution_count": 89,
   "id": "f4dbe6f9-ddd4-4dce-95d0-2ec5b4665708",
   "metadata": {},
   "outputs": [
    {
     "name": "stdout",
     "output_type": "stream",
     "text": [
      "Gurobi Optimizer version 9.5.1 build v9.5.1rc2 (mac64[x86])\n",
      "Thread count: 4 physical cores, 8 logical processors, using up to 8 threads\n",
      "Optimize a model with 1630 rows, 1650 columns and 4800 nonzeros\n",
      "Model fingerprint: 0x6e874236\n",
      "Variable types: 1500 continuous, 150 integer (150 binary)\n",
      "Coefficient statistics:\n",
      "  Matrix range     [1e+00, 4e+01]\n",
      "  Objective range  [1e+05, 2e+05]\n",
      "  Bounds range     [1e+00, 1e+00]\n",
      "  RHS range        [1e+00, 4e+01]\n",
      "Presolve removed 1611 rows and 1620 columns\n",
      "Presolve time: 0.01s\n",
      "Presolved: 19 rows, 30 columns, 60 nonzeros\n",
      "Variable types: 12 continuous, 18 integer (18 binary)\n",
      "Found heuristic solution: objective 3160000.0000\n",
      "\n",
      "Root relaxation: objective 2.858388e+06, 10 iterations, 0.00 seconds (0.00 work units)\n",
      "\n",
      "    Nodes    |    Current Node    |     Objective Bounds      |     Work\n",
      " Expl Unexpl |  Obj  Depth IntInf | Incumbent    BestBd   Gap | It/Node Time\n",
      "\n",
      "     0     0 2858387.66    0    2 3160000.00 2858387.66  9.54%     -    0s\n",
      "H    0     0                    3000000.0000 2858387.66  4.72%     -    0s\n",
      "H    0     0                    2930000.0000 2858387.66  2.44%     -    0s\n",
      "     0     0 2878669.60    0    4 2930000.00 2878669.60  1.75%     -    0s\n",
      "     0     0 2905923.63    0    7 2930000.00 2905923.63  0.82%     -    0s\n",
      "     0     0 infeasible    0      2930000.00 2930000.00  0.00%     -    0s\n",
      "\n",
      "Cutting planes:\n",
      "  Gomory: 1\n",
      "  MIR: 3\n",
      "  GUB cover: 3\n",
      "  RLT: 1\n",
      "  Relax-and-lift: 1\n",
      "\n",
      "Explored 1 nodes (33 simplex iterations) in 0.03 seconds (0.00 work units)\n",
      "Thread count was 8 (of 8 available processors)\n",
      "\n",
      "Solution count 3: 2.93e+06 3e+06 3.16e+06 \n",
      "\n",
      "Optimal solution found (tolerance 1.00e-04)\n",
      "Best objective 2.930000000000e+06, best bound 2.930000000000e+06, gap 0.0000%\n"
     ]
    },
    {
     "data": {
      "application/vnd.plotly.v1+json": {
       "config": {
        "plotlyServerURL": "https://plot.ly"
       },
       "data": [
        {
         "hovertemplate": "Type=Klein gebaut<br>x=%{x}<br>y=%{y}<extra></extra>",
         "legendgroup": "Klein gebaut",
         "marker": {
          "color": "lightgreen",
          "symbol": "circle"
         },
         "mode": "markers",
         "name": "Klein gebaut",
         "orientation": "v",
         "showlegend": true,
         "type": "scatter",
         "x": [
          -1.8091319324683977,
          3.446520328819933,
          8.565524433910793,
          -1.197639613684797,
          0.4694108179328375,
          -3.770384399165288,
          -2.5475370397857784,
          -10.17086526982914,
          5.725327052268948,
          3.976385389046945
         ],
         "xaxis": "x",
         "y": [
          2.853719781969376,
          7.854972091371471,
          -4.720665625585216,
          4.678594556101104,
          -9.42494120227329,
          3.9081099894288607,
          -7.5442464964564175,
          -3.819249045718005,
          9.519738392030982,
          -3.785101886253399
         ],
         "yaxis": "y"
        },
        {
         "hovertemplate": "Type=Nichts gebaut<br>x=%{x}<br>y=%{y}<extra></extra>",
         "legendgroup": "Nichts gebaut",
         "marker": {
          "color": "grey",
          "symbol": "circle"
         },
         "mode": "markers",
         "name": "Nichts gebaut",
         "orientation": "v",
         "showlegend": true,
         "type": "scatter",
         "x": [
          7.16798487034364,
          -4.556355115803766,
          3.1447262264886504,
          3.462633043379101,
          -7.101846628907806,
          -6.998474210378397,
          -6.311425341000192,
          -8.809340390055578,
          -2.7696529005738064,
          8.152452021936224,
          8.326019727518302,
          -9.471327050033745,
          -8.538081194991275,
          -0.2864407232133547,
          -5.874311522268608,
          -7.314993538730524,
          -10.23962094774063,
          4.72087244288382,
          8.57474962601013,
          -0.8121369708510815,
          6.113093527622288,
          -1.528028332774784,
          2.720724990736545,
          8.675579172250451,
          6.873814289066839,
          -9.610587746576762,
          3.718416695688463,
          -10.57093671178287,
          -5.665559470514851
         ],
         "xaxis": "x",
         "y": [
          1.176478843259178,
          -6.108396489260648,
          -5.94959030046699,
          -2.134908262857944,
          0.1878155912393983,
          6.698196483268343,
          -7.059795575502531,
          -1.388234760523893,
          8.147580925421302,
          2.9421526887453937,
          8.42230604631836,
          1.2969384370813923,
          -8.207792710600934,
          0.3189138807057668,
          -3.150021186588372,
          8.812606521626213,
          3.678194864876825,
          3.761148791658832,
          -8.256638890070827,
          9.640119992663449,
          -3.21533816537094,
          -5.703624861431083,
          1.2410528256477422,
          -2.1696906382234884,
          -6.610241193702287,
          6.334545018606549,
          -0.2878902478785006,
          -11.247280887038992,
          5.644232044245448
         ],
         "yaxis": "y"
        },
        {
         "hovertemplate": "Type=Mittel gebaut<br>x=%{x}<br>y=%{y}<extra></extra>",
         "legendgroup": "Mittel gebaut",
         "marker": {
          "color": "green",
          "symbol": "circle"
         },
         "mode": "markers",
         "name": "Mittel gebaut",
         "orientation": "v",
         "showlegend": true,
         "type": "scatter",
         "x": [
          -8.525442177370545,
          6.048780717515781,
          10.105989531246632,
          1.795575068551585,
          -6.616157175448263,
          9.608322894869726,
          -5.157648877658801,
          0.7909722226057314,
          -6.95440485568572
         ],
         "xaxis": "x",
         "y": [
          3.921165249197613,
          6.53468713390113,
          5.057353363239005,
          3.774831900938844,
          -5.016342936296504,
          1.188989721969656,
          7.609907627183155,
          -6.537170661040974,
          -1.5750087052689477
         ],
         "yaxis": "y"
        },
        {
         "hovertemplate": "Type=Groß gebaut<br>x=%{x}<br>y=%{y}<extra></extra>",
         "legendgroup": "Groß gebaut",
         "marker": {
          "color": "darkgreen",
          "symbol": "circle"
         },
         "mode": "markers",
         "name": "Groß gebaut",
         "orientation": "v",
         "showlegend": true,
         "type": "scatter",
         "x": [
          -2.1971077960089653,
          -7.161120329013925
         ],
         "xaxis": "x",
         "y": [
          0.5537450555629219,
          -9.350109289043074
         ],
         "yaxis": "y"
        },
        {
         "hovertemplate": "Type=Stadtteil<br>x=%{x}<br>y=%{y}<extra></extra>",
         "legendgroup": "Stadtteil",
         "marker": {
          "color": "blue",
          "symbol": "circle"
         },
         "mode": "markers",
         "name": "Stadtteil",
         "orientation": "v",
         "showlegend": true,
         "type": "scatter",
         "x": [
          -2.617840157776385,
          9.65306638123296,
          -5.671189748744199,
          -9.361196097890147,
          3.5400249473088787,
          -1.5448943603027705,
          -7.986294289641393,
          1.319128230042547,
          5.957451212991796,
          -5.585214509723528,
          8.071228351273826,
          -8.075068857279016,
          -4.021647637503319,
          9.230502065874434,
          1.845050423166444,
          -9.87172731595614,
          3.507239224556322,
          -3.700565566845107,
          -6.292097260027692,
          -10.059521427160908,
          -0.0254444972172649,
          7.379701182132219,
          -1.6919893283655745,
          -9.190364739165467,
          -7.044002426746738,
          -6.830418616925616,
          -7.2604337634774385,
          -4.4019191982581205,
          -1.594715992069604,
          -1.719519304353873
         ],
         "xaxis": "x",
         "y": [
          1.1988524543522276,
          5.069990630892894,
          -4.435683034912494,
          5.234105285493201,
          -3.451380988212498,
          4.949029812352362,
          -1.3219135850635109,
          -7.134205762142999,
          9.318825818978738,
          7.39824151186475,
          -4.100717587582418,
          -9.402149773910192,
          -7.302849330565328,
          0.6219632851819383,
          3.885980643894202,
          -3.906247959697773,
          6.737987412380432,
          3.997637802606329,
          -3.145107694302765,
          3.819182505242558,
          -8.872196774548843,
          8.025290852149771,
          1.8956791741121943,
          3.3565299947047897,
          -8.112592784114948,
          7.539849762699349,
          -5.858999074588611,
          5.857643843741266,
          3.8767505164391167,
          0.5909584184653083
         ],
         "yaxis": "y"
        },
        {
         "hovertemplate": "x=%{x}<br>y=%{y}<extra></extra>",
         "legendgroup": "",
         "line": {
          "color": "goldenrod",
          "dash": "solid",
          "width": 0.09099999999999966
         },
         "marker": {
          "symbol": "circle"
         },
         "mode": "lines",
         "name": "",
         "orientation": "v",
         "showlegend": false,
         "type": "scatter",
         "x": [
          -1.8091319324683977,
          -2.617840157776385
         ],
         "xaxis": "x",
         "y": [
          2.853719781969376,
          1.1988524543522276
         ],
         "yaxis": "y"
        },
        {
         "hovertemplate": "x=%{x}<br>y=%{y}<extra></extra>",
         "legendgroup": "",
         "line": {
          "color": "goldenrod",
          "dash": "solid",
          "width": 1.5660000000000003
         },
         "marker": {
          "symbol": "circle"
         },
         "mode": "lines",
         "name": "",
         "orientation": "v",
         "showlegend": false,
         "type": "scatter",
         "x": [
          -2.1971077960089653,
          -2.617840157776385
         ],
         "xaxis": "x",
         "y": [
          0.5537450555629219,
          1.1988524543522276
         ],
         "yaxis": "y"
        },
        {
         "hovertemplate": "x=%{x}<br>y=%{y}<extra></extra>",
         "legendgroup": "",
         "line": {
          "color": "goldenrod",
          "dash": "solid",
          "width": 1.426
         },
         "marker": {
          "symbol": "circle"
         },
         "mode": "lines",
         "name": "",
         "orientation": "v",
         "showlegend": false,
         "type": "scatter",
         "x": [
          10.105989531246632,
          9.65306638123296
         ],
         "xaxis": "x",
         "y": [
          5.057353363239005,
          5.069990630892894
         ],
         "yaxis": "y"
        },
        {
         "hovertemplate": "x=%{x}<br>y=%{y}<extra></extra>",
         "legendgroup": "",
         "line": {
          "color": "goldenrod",
          "dash": "solid",
          "width": 1.393
         },
         "marker": {
          "symbol": "circle"
         },
         "mode": "lines",
         "name": "",
         "orientation": "v",
         "showlegend": false,
         "type": "scatter",
         "x": [
          -6.616157175448263,
          -5.671189748744199
         ],
         "xaxis": "x",
         "y": [
          -5.016342936296504,
          -4.435683034912494
         ],
         "yaxis": "y"
        },
        {
         "hovertemplate": "x=%{x}<br>y=%{y}<extra></extra>",
         "legendgroup": "",
         "line": {
          "color": "goldenrod",
          "dash": "solid",
          "width": 0.649
         },
         "marker": {
          "symbol": "circle"
         },
         "mode": "lines",
         "name": "",
         "orientation": "v",
         "showlegend": false,
         "type": "scatter",
         "x": [
          -8.525442177370545,
          -9.361196097890147
         ],
         "xaxis": "x",
         "y": [
          3.921165249197613,
          5.234105285493201
         ],
         "yaxis": "y"
        },
        {
         "hovertemplate": "x=%{x}<br>y=%{y}<extra></extra>",
         "legendgroup": "",
         "line": {
          "color": "goldenrod",
          "dash": "solid",
          "width": 0.46799999999999997
         },
         "marker": {
          "symbol": "circle"
         },
         "mode": "lines",
         "name": "",
         "orientation": "v",
         "showlegend": false,
         "type": "scatter",
         "x": [
          3.976385389046945,
          3.5400249473088787
         ],
         "xaxis": "x",
         "y": [
          -3.785101886253399,
          -3.451380988212498
         ],
         "yaxis": "y"
        },
        {
         "hovertemplate": "x=%{x}<br>y=%{y}<extra></extra>",
         "legendgroup": "",
         "line": {
          "color": "goldenrod",
          "dash": "solid",
          "width": 0.422
         },
         "marker": {
          "symbol": "circle"
         },
         "mode": "lines",
         "name": "",
         "orientation": "v",
         "showlegend": false,
         "type": "scatter",
         "x": [
          -1.197639613684797,
          -1.5448943603027705
         ],
         "xaxis": "x",
         "y": [
          4.678594556101104,
          4.949029812352362
         ],
         "yaxis": "y"
        },
        {
         "hovertemplate": "x=%{x}<br>y=%{y}<extra></extra>",
         "legendgroup": "",
         "line": {
          "color": "goldenrod",
          "dash": "solid",
          "width": 1.714
         },
         "marker": {
          "symbol": "circle"
         },
         "mode": "lines",
         "name": "",
         "orientation": "v",
         "showlegend": false,
         "type": "scatter",
         "x": [
          -6.95440485568572,
          -7.986294289641393
         ],
         "xaxis": "x",
         "y": [
          -1.5750087052689477,
          -1.3219135850635109
         ],
         "yaxis": "y"
        },
        {
         "hovertemplate": "x=%{x}<br>y=%{y}<extra></extra>",
         "legendgroup": "",
         "line": {
          "color": "goldenrod",
          "dash": "solid",
          "width": 1.641
         },
         "marker": {
          "symbol": "circle"
         },
         "mode": "lines",
         "name": "",
         "orientation": "v",
         "showlegend": false,
         "type": "scatter",
         "x": [
          0.7909722226057314,
          1.319128230042547
         ],
         "xaxis": "x",
         "y": [
          -6.537170661040974,
          -7.134205762142999
         ],
         "yaxis": "y"
        },
        {
         "hovertemplate": "x=%{x}<br>y=%{y}<extra></extra>",
         "legendgroup": "",
         "line": {
          "color": "goldenrod",
          "dash": "solid",
          "width": 0.881
         },
         "marker": {
          "symbol": "circle"
         },
         "mode": "lines",
         "name": "",
         "orientation": "v",
         "showlegend": false,
         "type": "scatter",
         "x": [
          5.725327052268948,
          5.957451212991796
         ],
         "xaxis": "x",
         "y": [
          9.519738392030982,
          9.318825818978738
         ],
         "yaxis": "y"
        },
        {
         "hovertemplate": "x=%{x}<br>y=%{y}<extra></extra>",
         "legendgroup": "",
         "line": {
          "color": "goldenrod",
          "dash": "solid",
          "width": 0.265
         },
         "marker": {
          "symbol": "circle"
         },
         "mode": "lines",
         "name": "",
         "orientation": "v",
         "showlegend": false,
         "type": "scatter",
         "x": [
          -5.157648877658801,
          -5.585214509723528
         ],
         "xaxis": "x",
         "y": [
          7.609907627183155,
          7.39824151186475
         ],
         "yaxis": "y"
        },
        {
         "hovertemplate": "x=%{x}<br>y=%{y}<extra></extra>",
         "legendgroup": "",
         "line": {
          "color": "goldenrod",
          "dash": "solid",
          "width": 0.765
         },
         "marker": {
          "symbol": "circle"
         },
         "mode": "lines",
         "name": "",
         "orientation": "v",
         "showlegend": false,
         "type": "scatter",
         "x": [
          8.565524433910793,
          8.071228351273826
         ],
         "xaxis": "x",
         "y": [
          -4.720665625585216,
          -4.100717587582418
         ],
         "yaxis": "y"
        },
        {
         "hovertemplate": "x=%{x}<br>y=%{y}<extra></extra>",
         "legendgroup": "",
         "line": {
          "color": "goldenrod",
          "dash": "solid",
          "width": 1.239
         },
         "marker": {
          "symbol": "circle"
         },
         "mode": "lines",
         "name": "",
         "orientation": "v",
         "showlegend": false,
         "type": "scatter",
         "x": [
          -7.161120329013925,
          -8.075068857279016
         ],
         "xaxis": "x",
         "y": [
          -9.350109289043074,
          -9.402149773910192
         ],
         "yaxis": "y"
        },
        {
         "hovertemplate": "x=%{x}<br>y=%{y}<extra></extra>",
         "legendgroup": "",
         "line": {
          "color": "goldenrod",
          "dash": "solid",
          "width": 0.909
         },
         "marker": {
          "symbol": "circle"
         },
         "mode": "lines",
         "name": "",
         "orientation": "v",
         "showlegend": false,
         "type": "scatter",
         "x": [
          -2.5475370397857784,
          -4.021647637503319
         ],
         "xaxis": "x",
         "y": [
          -7.5442464964564175,
          -7.302849330565328
         ],
         "yaxis": "y"
        },
        {
         "hovertemplate": "x=%{x}<br>y=%{y}<extra></extra>",
         "legendgroup": "",
         "line": {
          "color": "goldenrod",
          "dash": "solid",
          "width": 1.56
         },
         "marker": {
          "symbol": "circle"
         },
         "mode": "lines",
         "name": "",
         "orientation": "v",
         "showlegend": false,
         "type": "scatter",
         "x": [
          9.608322894869726,
          9.230502065874434
         ],
         "xaxis": "x",
         "y": [
          1.188989721969656,
          0.6219632851819383
         ],
         "yaxis": "y"
        },
        {
         "hovertemplate": "x=%{x}<br>y=%{y}<extra></extra>",
         "legendgroup": "",
         "line": {
          "color": "goldenrod",
          "dash": "solid",
          "width": 1.9949999999999999
         },
         "marker": {
          "symbol": "circle"
         },
         "mode": "lines",
         "name": "",
         "orientation": "v",
         "showlegend": false,
         "type": "scatter",
         "x": [
          1.795575068551585,
          1.845050423166444
         ],
         "xaxis": "x",
         "y": [
          3.774831900938844,
          3.885980643894202
         ],
         "yaxis": "y"
        },
        {
         "hovertemplate": "x=%{x}<br>y=%{y}<extra></extra>",
         "legendgroup": "",
         "line": {
          "color": "goldenrod",
          "dash": "solid",
          "width": 0.382
         },
         "marker": {
          "symbol": "circle"
         },
         "mode": "lines",
         "name": "",
         "orientation": "v",
         "showlegend": false,
         "type": "scatter",
         "x": [
          -10.17086526982914,
          -9.87172731595614
         ],
         "xaxis": "x",
         "y": [
          -3.819249045718005,
          -3.906247959697773
         ],
         "yaxis": "y"
        },
        {
         "hovertemplate": "x=%{x}<br>y=%{y}<extra></extra>",
         "legendgroup": "",
         "line": {
          "color": "goldenrod",
          "dash": "solid",
          "width": 0.9189999999999999
         },
         "marker": {
          "symbol": "circle"
         },
         "mode": "lines",
         "name": "",
         "orientation": "v",
         "showlegend": false,
         "type": "scatter",
         "x": [
          3.446520328819933,
          3.507239224556322
         ],
         "xaxis": "x",
         "y": [
          7.854972091371471,
          6.737987412380432
         ],
         "yaxis": "y"
        },
        {
         "hovertemplate": "x=%{x}<br>y=%{y}<extra></extra>",
         "legendgroup": "",
         "line": {
          "color": "goldenrod",
          "dash": "solid",
          "width": 0.8619999999999999
         },
         "marker": {
          "symbol": "circle"
         },
         "mode": "lines",
         "name": "",
         "orientation": "v",
         "showlegend": false,
         "type": "scatter",
         "x": [
          -3.770384399165288,
          -3.700565566845107
         ],
         "xaxis": "x",
         "y": [
          3.9081099894288607,
          3.997637802606329
         ],
         "yaxis": "y"
        },
        {
         "hovertemplate": "x=%{x}<br>y=%{y}<extra></extra>",
         "legendgroup": "",
         "line": {
          "color": "goldenrod",
          "dash": "solid",
          "width": 0.609
         },
         "marker": {
          "symbol": "circle"
         },
         "mode": "lines",
         "name": "",
         "orientation": "v",
         "showlegend": false,
         "type": "scatter",
         "x": [
          -6.616157175448263,
          -6.292097260027692
         ],
         "xaxis": "x",
         "y": [
          -5.016342936296504,
          -3.145107694302765
         ],
         "yaxis": "y"
        },
        {
         "hovertemplate": "x=%{x}<br>y=%{y}<extra></extra>",
         "legendgroup": "",
         "line": {
          "color": "goldenrod",
          "dash": "solid",
          "width": 0.3959999999999999
         },
         "marker": {
          "symbol": "circle"
         },
         "mode": "lines",
         "name": "",
         "orientation": "v",
         "showlegend": false,
         "type": "scatter",
         "x": [
          -8.525442177370545,
          -10.059521427160908
         ],
         "xaxis": "x",
         "y": [
          3.921165249197613,
          3.819182505242558
         ],
         "yaxis": "y"
        },
        {
         "hovertemplate": "x=%{x}<br>y=%{y}<extra></extra>",
         "legendgroup": "",
         "line": {
          "color": "goldenrod",
          "dash": "solid",
          "width": 8.881784197001253e-17
         },
         "marker": {
          "symbol": "circle"
         },
         "mode": "lines",
         "name": "",
         "orientation": "v",
         "showlegend": false,
         "type": "scatter",
         "x": [
          -10.23962094774063,
          -10.059521427160908
         ],
         "xaxis": "x",
         "y": [
          3.678194864876825,
          3.819182505242558
         ],
         "yaxis": "y"
        },
        {
         "hovertemplate": "x=%{x}<br>y=%{y}<extra></extra>",
         "legendgroup": "",
         "line": {
          "color": "goldenrod",
          "dash": "solid",
          "width": 0.131
         },
         "marker": {
          "symbol": "circle"
         },
         "mode": "lines",
         "name": "",
         "orientation": "v",
         "showlegend": false,
         "type": "scatter",
         "x": [
          0.4694108179328375,
          -0.0254444972172649
         ],
         "xaxis": "x",
         "y": [
          -9.42494120227329,
          -8.872196774548843
         ],
         "yaxis": "y"
        },
        {
         "hovertemplate": "x=%{x}<br>y=%{y}<extra></extra>",
         "legendgroup": "",
         "line": {
          "color": "goldenrod",
          "dash": "solid",
          "width": 1.7739999999999998
         },
         "marker": {
          "symbol": "circle"
         },
         "mode": "lines",
         "name": "",
         "orientation": "v",
         "showlegend": false,
         "type": "scatter",
         "x": [
          6.048780717515781,
          7.379701182132219
         ],
         "xaxis": "x",
         "y": [
          6.53468713390113,
          8.025290852149771
         ],
         "yaxis": "y"
        },
        {
         "hovertemplate": "x=%{x}<br>y=%{y}<extra></extra>",
         "legendgroup": "",
         "line": {
          "color": "goldenrod",
          "dash": "solid",
          "width": 0.8400000000000001
         },
         "marker": {
          "symbol": "circle"
         },
         "mode": "lines",
         "name": "",
         "orientation": "v",
         "showlegend": false,
         "type": "scatter",
         "x": [
          -2.1971077960089653,
          -1.6919893283655745
         ],
         "xaxis": "x",
         "y": [
          0.5537450555629219,
          1.8956791741121943
         ],
         "yaxis": "y"
        },
        {
         "hovertemplate": "x=%{x}<br>y=%{y}<extra></extra>",
         "legendgroup": "",
         "line": {
          "color": "goldenrod",
          "dash": "solid",
          "width": 0.994
         },
         "marker": {
          "symbol": "circle"
         },
         "mode": "lines",
         "name": "",
         "orientation": "v",
         "showlegend": false,
         "type": "scatter",
         "x": [
          -8.525442177370545,
          -9.190364739165467
         ],
         "xaxis": "x",
         "y": [
          3.921165249197613,
          3.3565299947047897
         ],
         "yaxis": "y"
        },
        {
         "hovertemplate": "x=%{x}<br>y=%{y}<extra></extra>",
         "legendgroup": "",
         "line": {
          "color": "goldenrod",
          "dash": "solid",
          "width": 1.8340000000001957
         },
         "marker": {
          "symbol": "circle"
         },
         "mode": "lines",
         "name": "",
         "orientation": "v",
         "showlegend": false,
         "type": "scatter",
         "x": [
          -7.161120329013925,
          -7.044002426746738
         ],
         "xaxis": "x",
         "y": [
          -9.350109289043074,
          -8.112592784114948
         ],
         "yaxis": "y"
        },
        {
         "hovertemplate": "x=%{x}<br>y=%{y}<extra></extra>",
         "legendgroup": "",
         "line": {
          "color": "goldenrod",
          "dash": "solid",
          "width": 1.553
         },
         "marker": {
          "symbol": "circle"
         },
         "mode": "lines",
         "name": "",
         "orientation": "v",
         "showlegend": false,
         "type": "scatter",
         "x": [
          -5.157648877658801,
          -6.830418616925616
         ],
         "xaxis": "x",
         "y": [
          7.609907627183155,
          7.539849762699349
         ],
         "yaxis": "y"
        },
        {
         "hovertemplate": "x=%{x}<br>y=%{y}<extra></extra>",
         "legendgroup": "",
         "line": {
          "color": "goldenrod",
          "dash": "solid",
          "width": 1.957545237019076e-13
         },
         "marker": {
          "symbol": "circle"
         },
         "mode": "lines",
         "name": "",
         "orientation": "v",
         "showlegend": false,
         "type": "scatter",
         "x": [
          -6.311425341000192,
          -7.2604337634774385
         ],
         "xaxis": "x",
         "y": [
          -7.059795575502531,
          -5.858999074588611
         ],
         "yaxis": "y"
        },
        {
         "hovertemplate": "x=%{x}<br>y=%{y}<extra></extra>",
         "legendgroup": "",
         "line": {
          "color": "goldenrod",
          "dash": "solid",
          "width": 0.2609999999998042
         },
         "marker": {
          "symbol": "circle"
         },
         "mode": "lines",
         "name": "",
         "orientation": "v",
         "showlegend": false,
         "type": "scatter",
         "x": [
          -6.616157175448263,
          -7.2604337634774385
         ],
         "xaxis": "x",
         "y": [
          -5.016342936296504,
          -5.858999074588611
         ],
         "yaxis": "y"
        },
        {
         "hovertemplate": "x=%{x}<br>y=%{y}<extra></extra>",
         "legendgroup": "",
         "line": {
          "color": "goldenrod",
          "dash": "solid",
          "width": 1.131
         },
         "marker": {
          "symbol": "circle"
         },
         "mode": "lines",
         "name": "",
         "orientation": "v",
         "showlegend": false,
         "type": "scatter",
         "x": [
          -5.157648877658801,
          -4.4019191982581205
         ],
         "xaxis": "x",
         "y": [
          7.609907627183155,
          5.857643843741266
         ],
         "yaxis": "y"
        },
        {
         "hovertemplate": "x=%{x}<br>y=%{y}<extra></extra>",
         "legendgroup": "",
         "line": {
          "color": "goldenrod",
          "dash": "solid",
          "width": 0.30700000000000005
         },
         "marker": {
          "symbol": "circle"
         },
         "mode": "lines",
         "name": "",
         "orientation": "v",
         "showlegend": false,
         "type": "scatter",
         "x": [
          -1.8091319324683977,
          -1.594715992069604
         ],
         "xaxis": "x",
         "y": [
          2.853719781969376,
          3.8767505164391167
         ],
         "yaxis": "y"
        },
        {
         "hovertemplate": "x=%{x}<br>y=%{y}<extra></extra>",
         "legendgroup": "",
         "line": {
          "color": "goldenrod",
          "dash": "solid",
          "width": 0.578
         },
         "marker": {
          "symbol": "circle"
         },
         "mode": "lines",
         "name": "",
         "orientation": "v",
         "showlegend": false,
         "type": "scatter",
         "x": [
          -1.197639613684797,
          -1.594715992069604
         ],
         "xaxis": "x",
         "y": [
          4.678594556101104,
          3.8767505164391167
         ],
         "yaxis": "y"
        },
        {
         "hovertemplate": "x=%{x}<br>y=%{y}<extra></extra>",
         "legendgroup": "",
         "line": {
          "color": "goldenrod",
          "dash": "solid",
          "width": 1.5939999999999999
         },
         "marker": {
          "symbol": "circle"
         },
         "mode": "lines",
         "name": "",
         "orientation": "v",
         "showlegend": false,
         "type": "scatter",
         "x": [
          -2.1971077960089653,
          -1.719519304353873
         ],
         "xaxis": "x",
         "y": [
          0.5537450555629219,
          0.5909584184653083
         ],
         "yaxis": "y"
        }
       ],
       "layout": {
        "autosize": false,
        "height": 600,
        "shapes": [
         {
          "line": {
           "color": "blue",
           "width": 0.5
          },
          "type": "circle",
          "x0": 0.19086806753160235,
          "x1": -3.8091319324683974,
          "xref": "x",
          "y0": 4.853719781969376,
          "y1": 0.8537197819693758,
          "yref": "y"
         },
         {
          "line": {
           "color": "blue",
           "width": 0.5
          },
          "type": "circle",
          "x0": -6.525442177370545,
          "x1": -10.525442177370545,
          "xref": "x",
          "y0": 5.921165249197613,
          "y1": 1.921165249197613,
          "yref": "y"
         },
         {
          "line": {
           "color": "blue",
           "width": 0.5
          },
          "type": "circle",
          "x0": 5.446520328819933,
          "x1": 1.446520328819933,
          "xref": "x",
          "y0": 9.854972091371472,
          "y1": 5.854972091371471,
          "yref": "y"
         },
         {
          "line": {
           "color": "blue",
           "width": 0.5
          },
          "type": "circle",
          "x0": 8.04878071751578,
          "x1": 4.048780717515781,
          "xref": "x",
          "y0": 8.53468713390113,
          "y1": 4.53468713390113,
          "yref": "y"
         },
         {
          "line": {
           "color": "blue",
           "width": 0.5
          },
          "type": "circle",
          "x0": 10.565524433910793,
          "x1": 6.565524433910793,
          "xref": "x",
          "y0": -2.720665625585216,
          "y1": -6.720665625585216,
          "yref": "y"
         },
         {
          "line": {
           "color": "blue",
           "width": 0.5
          },
          "type": "circle",
          "x0": 12.105989531246632,
          "x1": 8.105989531246632,
          "xref": "x",
          "y0": 7.057353363239005,
          "y1": 3.057353363239005,
          "yref": "y"
         },
         {
          "line": {
           "color": "blue",
           "width": 0.5
          },
          "type": "circle",
          "x0": 3.795575068551585,
          "x1": -0.204424931448415,
          "xref": "x",
          "y0": 5.774831900938844,
          "y1": 1.7748319009388438,
          "yref": "y"
         },
         {
          "line": {
           "color": "blue",
           "width": 0.5
          },
          "type": "circle",
          "x0": 0.8023603863152029,
          "x1": -3.197639613684797,
          "xref": "x",
          "y0": 6.678594556101104,
          "y1": 2.678594556101104,
          "yref": "y"
         },
         {
          "line": {
           "color": "blue",
           "width": 0.5
          },
          "type": "circle",
          "x0": 2.4694108179328373,
          "x1": -1.5305891820671624,
          "xref": "x",
          "y0": -7.42494120227329,
          "y1": -11.42494120227329,
          "yref": "y"
         },
         {
          "line": {
           "color": "blue",
           "width": 0.5
          },
          "type": "circle",
          "x0": -4.616157175448263,
          "x1": -8.616157175448263,
          "xref": "x",
          "y0": -3.016342936296504,
          "y1": -7.016342936296504,
          "yref": "y"
         },
         {
          "line": {
           "color": "blue",
           "width": 0.5
          },
          "type": "circle",
          "x0": -1.770384399165288,
          "x1": -5.7703843991652874,
          "xref": "x",
          "y0": 5.90810998942886,
          "y1": 1.9081099894288607,
          "yref": "y"
         },
         {
          "line": {
           "color": "blue",
           "width": 0.5
          },
          "type": "circle",
          "x0": -0.5475370397857784,
          "x1": -4.547537039785778,
          "xref": "x",
          "y0": -5.5442464964564175,
          "y1": -9.544246496456417,
          "yref": "y"
         },
         {
          "line": {
           "color": "blue",
           "width": 0.5
          },
          "type": "circle",
          "x0": 11.608322894869726,
          "x1": 7.608322894869726,
          "xref": "x",
          "y0": 3.188989721969656,
          "y1": -0.8110102780303441,
          "yref": "y"
         },
         {
          "line": {
           "color": "blue",
           "width": 0.5
          },
          "type": "circle",
          "x0": -8.17086526982914,
          "x1": -12.17086526982914,
          "xref": "x",
          "y0": -1.819249045718005,
          "y1": -5.819249045718005,
          "yref": "y"
         },
         {
          "line": {
           "color": "blue",
           "width": 0.5
          },
          "type": "circle",
          "x0": -0.19710779600896533,
          "x1": -4.197107796008965,
          "xref": "x",
          "y0": 2.553745055562922,
          "y1": -1.446254944437078,
          "yref": "y"
         },
         {
          "line": {
           "color": "blue",
           "width": 0.5
          },
          "type": "circle",
          "x0": 7.725327052268948,
          "x1": 3.7253270522689483,
          "xref": "x",
          "y0": 11.519738392030982,
          "y1": 7.519738392030982,
          "yref": "y"
         },
         {
          "line": {
           "color": "blue",
           "width": 0.5
          },
          "type": "circle",
          "x0": -3.1576488776588008,
          "x1": -7.157648877658801,
          "xref": "x",
          "y0": 9.609907627183155,
          "y1": 5.609907627183155,
          "yref": "y"
         },
         {
          "line": {
           "color": "blue",
           "width": 0.5
          },
          "type": "circle",
          "x0": 5.9763853890469445,
          "x1": 1.976385389046945,
          "xref": "x",
          "y0": -1.7851018862533992,
          "y1": -5.785101886253399,
          "yref": "y"
         },
         {
          "line": {
           "color": "blue",
           "width": 0.5
          },
          "type": "circle",
          "x0": -5.161120329013925,
          "x1": -9.161120329013926,
          "xref": "x",
          "y0": -7.350109289043074,
          "y1": -11.350109289043074,
          "yref": "y"
         },
         {
          "line": {
           "color": "blue",
           "width": 0.5
          },
          "type": "circle",
          "x0": 2.790972222605731,
          "x1": -1.2090277773942686,
          "xref": "x",
          "y0": -4.537170661040974,
          "y1": -8.537170661040975,
          "yref": "y"
         },
         {
          "line": {
           "color": "blue",
           "width": 0.5
          },
          "type": "circle",
          "x0": -4.95440485568572,
          "x1": -8.95440485568572,
          "xref": "x",
          "y0": 0.42499129473105235,
          "y1": -3.5750087052689477,
          "yref": "y"
         }
        ],
        "template": {
         "data": {
          "bar": [
           {
            "error_x": {
             "color": "#2a3f5f"
            },
            "error_y": {
             "color": "#2a3f5f"
            },
            "marker": {
             "line": {
              "color": "#E5ECF6",
              "width": 0.5
             },
             "pattern": {
              "fillmode": "overlay",
              "size": 10,
              "solidity": 0.2
             }
            },
            "type": "bar"
           }
          ],
          "barpolar": [
           {
            "marker": {
             "line": {
              "color": "#E5ECF6",
              "width": 0.5
             },
             "pattern": {
              "fillmode": "overlay",
              "size": 10,
              "solidity": 0.2
             }
            },
            "type": "barpolar"
           }
          ],
          "carpet": [
           {
            "aaxis": {
             "endlinecolor": "#2a3f5f",
             "gridcolor": "white",
             "linecolor": "white",
             "minorgridcolor": "white",
             "startlinecolor": "#2a3f5f"
            },
            "baxis": {
             "endlinecolor": "#2a3f5f",
             "gridcolor": "white",
             "linecolor": "white",
             "minorgridcolor": "white",
             "startlinecolor": "#2a3f5f"
            },
            "type": "carpet"
           }
          ],
          "choropleth": [
           {
            "colorbar": {
             "outlinewidth": 0,
             "ticks": ""
            },
            "type": "choropleth"
           }
          ],
          "contour": [
           {
            "colorbar": {
             "outlinewidth": 0,
             "ticks": ""
            },
            "colorscale": [
             [
              0,
              "#0d0887"
             ],
             [
              0.1111111111111111,
              "#46039f"
             ],
             [
              0.2222222222222222,
              "#7201a8"
             ],
             [
              0.3333333333333333,
              "#9c179e"
             ],
             [
              0.4444444444444444,
              "#bd3786"
             ],
             [
              0.5555555555555556,
              "#d8576b"
             ],
             [
              0.6666666666666666,
              "#ed7953"
             ],
             [
              0.7777777777777778,
              "#fb9f3a"
             ],
             [
              0.8888888888888888,
              "#fdca26"
             ],
             [
              1,
              "#f0f921"
             ]
            ],
            "type": "contour"
           }
          ],
          "contourcarpet": [
           {
            "colorbar": {
             "outlinewidth": 0,
             "ticks": ""
            },
            "type": "contourcarpet"
           }
          ],
          "heatmap": [
           {
            "colorbar": {
             "outlinewidth": 0,
             "ticks": ""
            },
            "colorscale": [
             [
              0,
              "#0d0887"
             ],
             [
              0.1111111111111111,
              "#46039f"
             ],
             [
              0.2222222222222222,
              "#7201a8"
             ],
             [
              0.3333333333333333,
              "#9c179e"
             ],
             [
              0.4444444444444444,
              "#bd3786"
             ],
             [
              0.5555555555555556,
              "#d8576b"
             ],
             [
              0.6666666666666666,
              "#ed7953"
             ],
             [
              0.7777777777777778,
              "#fb9f3a"
             ],
             [
              0.8888888888888888,
              "#fdca26"
             ],
             [
              1,
              "#f0f921"
             ]
            ],
            "type": "heatmap"
           }
          ],
          "heatmapgl": [
           {
            "colorbar": {
             "outlinewidth": 0,
             "ticks": ""
            },
            "colorscale": [
             [
              0,
              "#0d0887"
             ],
             [
              0.1111111111111111,
              "#46039f"
             ],
             [
              0.2222222222222222,
              "#7201a8"
             ],
             [
              0.3333333333333333,
              "#9c179e"
             ],
             [
              0.4444444444444444,
              "#bd3786"
             ],
             [
              0.5555555555555556,
              "#d8576b"
             ],
             [
              0.6666666666666666,
              "#ed7953"
             ],
             [
              0.7777777777777778,
              "#fb9f3a"
             ],
             [
              0.8888888888888888,
              "#fdca26"
             ],
             [
              1,
              "#f0f921"
             ]
            ],
            "type": "heatmapgl"
           }
          ],
          "histogram": [
           {
            "marker": {
             "pattern": {
              "fillmode": "overlay",
              "size": 10,
              "solidity": 0.2
             }
            },
            "type": "histogram"
           }
          ],
          "histogram2d": [
           {
            "colorbar": {
             "outlinewidth": 0,
             "ticks": ""
            },
            "colorscale": [
             [
              0,
              "#0d0887"
             ],
             [
              0.1111111111111111,
              "#46039f"
             ],
             [
              0.2222222222222222,
              "#7201a8"
             ],
             [
              0.3333333333333333,
              "#9c179e"
             ],
             [
              0.4444444444444444,
              "#bd3786"
             ],
             [
              0.5555555555555556,
              "#d8576b"
             ],
             [
              0.6666666666666666,
              "#ed7953"
             ],
             [
              0.7777777777777778,
              "#fb9f3a"
             ],
             [
              0.8888888888888888,
              "#fdca26"
             ],
             [
              1,
              "#f0f921"
             ]
            ],
            "type": "histogram2d"
           }
          ],
          "histogram2dcontour": [
           {
            "colorbar": {
             "outlinewidth": 0,
             "ticks": ""
            },
            "colorscale": [
             [
              0,
              "#0d0887"
             ],
             [
              0.1111111111111111,
              "#46039f"
             ],
             [
              0.2222222222222222,
              "#7201a8"
             ],
             [
              0.3333333333333333,
              "#9c179e"
             ],
             [
              0.4444444444444444,
              "#bd3786"
             ],
             [
              0.5555555555555556,
              "#d8576b"
             ],
             [
              0.6666666666666666,
              "#ed7953"
             ],
             [
              0.7777777777777778,
              "#fb9f3a"
             ],
             [
              0.8888888888888888,
              "#fdca26"
             ],
             [
              1,
              "#f0f921"
             ]
            ],
            "type": "histogram2dcontour"
           }
          ],
          "mesh3d": [
           {
            "colorbar": {
             "outlinewidth": 0,
             "ticks": ""
            },
            "type": "mesh3d"
           }
          ],
          "parcoords": [
           {
            "line": {
             "colorbar": {
              "outlinewidth": 0,
              "ticks": ""
             }
            },
            "type": "parcoords"
           }
          ],
          "pie": [
           {
            "automargin": true,
            "type": "pie"
           }
          ],
          "scatter": [
           {
            "marker": {
             "colorbar": {
              "outlinewidth": 0,
              "ticks": ""
             }
            },
            "type": "scatter"
           }
          ],
          "scatter3d": [
           {
            "line": {
             "colorbar": {
              "outlinewidth": 0,
              "ticks": ""
             }
            },
            "marker": {
             "colorbar": {
              "outlinewidth": 0,
              "ticks": ""
             }
            },
            "type": "scatter3d"
           }
          ],
          "scattercarpet": [
           {
            "marker": {
             "colorbar": {
              "outlinewidth": 0,
              "ticks": ""
             }
            },
            "type": "scattercarpet"
           }
          ],
          "scattergeo": [
           {
            "marker": {
             "colorbar": {
              "outlinewidth": 0,
              "ticks": ""
             }
            },
            "type": "scattergeo"
           }
          ],
          "scattergl": [
           {
            "marker": {
             "colorbar": {
              "outlinewidth": 0,
              "ticks": ""
             }
            },
            "type": "scattergl"
           }
          ],
          "scattermapbox": [
           {
            "marker": {
             "colorbar": {
              "outlinewidth": 0,
              "ticks": ""
             }
            },
            "type": "scattermapbox"
           }
          ],
          "scatterpolar": [
           {
            "marker": {
             "colorbar": {
              "outlinewidth": 0,
              "ticks": ""
             }
            },
            "type": "scatterpolar"
           }
          ],
          "scatterpolargl": [
           {
            "marker": {
             "colorbar": {
              "outlinewidth": 0,
              "ticks": ""
             }
            },
            "type": "scatterpolargl"
           }
          ],
          "scatterternary": [
           {
            "marker": {
             "colorbar": {
              "outlinewidth": 0,
              "ticks": ""
             }
            },
            "type": "scatterternary"
           }
          ],
          "surface": [
           {
            "colorbar": {
             "outlinewidth": 0,
             "ticks": ""
            },
            "colorscale": [
             [
              0,
              "#0d0887"
             ],
             [
              0.1111111111111111,
              "#46039f"
             ],
             [
              0.2222222222222222,
              "#7201a8"
             ],
             [
              0.3333333333333333,
              "#9c179e"
             ],
             [
              0.4444444444444444,
              "#bd3786"
             ],
             [
              0.5555555555555556,
              "#d8576b"
             ],
             [
              0.6666666666666666,
              "#ed7953"
             ],
             [
              0.7777777777777778,
              "#fb9f3a"
             ],
             [
              0.8888888888888888,
              "#fdca26"
             ],
             [
              1,
              "#f0f921"
             ]
            ],
            "type": "surface"
           }
          ],
          "table": [
           {
            "cells": {
             "fill": {
              "color": "#EBF0F8"
             },
             "line": {
              "color": "white"
             }
            },
            "header": {
             "fill": {
              "color": "#C8D4E3"
             },
             "line": {
              "color": "white"
             }
            },
            "type": "table"
           }
          ]
         },
         "layout": {
          "annotationdefaults": {
           "arrowcolor": "#2a3f5f",
           "arrowhead": 0,
           "arrowwidth": 1
          },
          "autotypenumbers": "strict",
          "coloraxis": {
           "colorbar": {
            "outlinewidth": 0,
            "ticks": ""
           }
          },
          "colorscale": {
           "diverging": [
            [
             0,
             "#8e0152"
            ],
            [
             0.1,
             "#c51b7d"
            ],
            [
             0.2,
             "#de77ae"
            ],
            [
             0.3,
             "#f1b6da"
            ],
            [
             0.4,
             "#fde0ef"
            ],
            [
             0.5,
             "#f7f7f7"
            ],
            [
             0.6,
             "#e6f5d0"
            ],
            [
             0.7,
             "#b8e186"
            ],
            [
             0.8,
             "#7fbc41"
            ],
            [
             0.9,
             "#4d9221"
            ],
            [
             1,
             "#276419"
            ]
           ],
           "sequential": [
            [
             0,
             "#0d0887"
            ],
            [
             0.1111111111111111,
             "#46039f"
            ],
            [
             0.2222222222222222,
             "#7201a8"
            ],
            [
             0.3333333333333333,
             "#9c179e"
            ],
            [
             0.4444444444444444,
             "#bd3786"
            ],
            [
             0.5555555555555556,
             "#d8576b"
            ],
            [
             0.6666666666666666,
             "#ed7953"
            ],
            [
             0.7777777777777778,
             "#fb9f3a"
            ],
            [
             0.8888888888888888,
             "#fdca26"
            ],
            [
             1,
             "#f0f921"
            ]
           ],
           "sequentialminus": [
            [
             0,
             "#0d0887"
            ],
            [
             0.1111111111111111,
             "#46039f"
            ],
            [
             0.2222222222222222,
             "#7201a8"
            ],
            [
             0.3333333333333333,
             "#9c179e"
            ],
            [
             0.4444444444444444,
             "#bd3786"
            ],
            [
             0.5555555555555556,
             "#d8576b"
            ],
            [
             0.6666666666666666,
             "#ed7953"
            ],
            [
             0.7777777777777778,
             "#fb9f3a"
            ],
            [
             0.8888888888888888,
             "#fdca26"
            ],
            [
             1,
             "#f0f921"
            ]
           ]
          },
          "colorway": [
           "#636efa",
           "#EF553B",
           "#00cc96",
           "#ab63fa",
           "#FFA15A",
           "#19d3f3",
           "#FF6692",
           "#B6E880",
           "#FF97FF",
           "#FECB52"
          ],
          "font": {
           "color": "#2a3f5f"
          },
          "geo": {
           "bgcolor": "white",
           "lakecolor": "white",
           "landcolor": "#E5ECF6",
           "showlakes": true,
           "showland": true,
           "subunitcolor": "white"
          },
          "hoverlabel": {
           "align": "left"
          },
          "hovermode": "closest",
          "mapbox": {
           "style": "light"
          },
          "paper_bgcolor": "white",
          "plot_bgcolor": "#E5ECF6",
          "polar": {
           "angularaxis": {
            "gridcolor": "white",
            "linecolor": "white",
            "ticks": ""
           },
           "bgcolor": "#E5ECF6",
           "radialaxis": {
            "gridcolor": "white",
            "linecolor": "white",
            "ticks": ""
           }
          },
          "scene": {
           "xaxis": {
            "backgroundcolor": "#E5ECF6",
            "gridcolor": "white",
            "gridwidth": 2,
            "linecolor": "white",
            "showbackground": true,
            "ticks": "",
            "zerolinecolor": "white"
           },
           "yaxis": {
            "backgroundcolor": "#E5ECF6",
            "gridcolor": "white",
            "gridwidth": 2,
            "linecolor": "white",
            "showbackground": true,
            "ticks": "",
            "zerolinecolor": "white"
           },
           "zaxis": {
            "backgroundcolor": "#E5ECF6",
            "gridcolor": "white",
            "gridwidth": 2,
            "linecolor": "white",
            "showbackground": true,
            "ticks": "",
            "zerolinecolor": "white"
           }
          },
          "shapedefaults": {
           "line": {
            "color": "#2a3f5f"
           }
          },
          "ternary": {
           "aaxis": {
            "gridcolor": "white",
            "linecolor": "white",
            "ticks": ""
           },
           "baxis": {
            "gridcolor": "white",
            "linecolor": "white",
            "ticks": ""
           },
           "bgcolor": "#E5ECF6",
           "caxis": {
            "gridcolor": "white",
            "linecolor": "white",
            "ticks": ""
           }
          },
          "title": {
           "x": 0.05
          },
          "xaxis": {
           "automargin": true,
           "gridcolor": "white",
           "linecolor": "white",
           "ticks": "",
           "title": {
            "standoff": 15
           },
           "zerolinecolor": "white",
           "zerolinewidth": 2
          },
          "yaxis": {
           "automargin": true,
           "gridcolor": "white",
           "linecolor": "white",
           "ticks": "",
           "title": {
            "standoff": 15
           },
           "zerolinecolor": "white",
           "zerolinewidth": 2
          }
         }
        },
        "width": 600,
        "xaxis": {
         "autorange": true,
         "range": [
          -12.187335320576137,
          12.12245958199363
         ],
         "type": "linear"
        },
        "yaxis": {
         "autorange": true,
         "range": [
          -12.673821968449072,
          11.53414789790381
         ],
         "type": "linear"
        }
       }
      },
      "image/png": "[encoded data removed]",
      "text/html": [
       "<div>                            <div id=\"20829c0e-493b-4de8-87b9-4f4bb7e18c92\" class=\"plotly-graph-div\" style=\"height:600px; width:600px;\"></div>            <script type=\"text/javascript\">                require([\"plotly\"], function(Plotly) {                    window.PLOTLYENV=window.PLOTLYENV || {};                                    if (document.getElementById(\"20829c0e-493b-4de8-87b9-4f4bb7e18c92\")) {                    Plotly.newPlot(                        \"20829c0e-493b-4de8-87b9-4f4bb7e18c92\",                        [{\"hovertemplate\":\"Type=Klein gebaut<br>x=%{x}<br>y=%{y}<extra></extra>\",\"legendgroup\":\"Klein gebaut\",\"marker\":{\"color\":\"lightgreen\",\"symbol\":\"circle\"},\"mode\":\"markers\",\"name\":\"Klein gebaut\",\"orientation\":\"v\",\"showlegend\":true,\"x\":[-1.8091319324683977,3.446520328819933,8.565524433910793,-1.197639613684797,0.4694108179328375,-3.770384399165288,-2.5475370397857784,-10.17086526982914,5.725327052268948,3.976385389046945],\"xaxis\":\"x\",\"y\":[2.853719781969376,7.854972091371471,-4.720665625585216,4.678594556101104,-9.42494120227329,3.9081099894288607,-7.5442464964564175,-3.819249045718005,9.519738392030982,-3.785101886253399],\"yaxis\":\"y\",\"type\":\"scatter\"},{\"hovertemplate\":\"Type=Nichts gebaut<br>x=%{x}<br>y=%{y}<extra></extra>\",\"legendgroup\":\"Nichts gebaut\",\"marker\":{\"color\":\"grey\",\"symbol\":\"circle\"},\"mode\":\"markers\",\"name\":\"Nichts gebaut\",\"orientation\":\"v\",\"showlegend\":true,\"x\":[7.16798487034364,-4.556355115803766,3.1447262264886504,3.462633043379101,-7.101846628907806,-6.998474210378397,-6.311425341000192,-8.809340390055578,-2.7696529005738064,8.152452021936224,8.326019727518302,-9.471327050033745,-8.538081194991275,-0.2864407232133547,-5.874311522268608,-7.314993538730524,-10.23962094774063,4.72087244288382,8.57474962601013,-0.8121369708510815,6.113093527622288,-1.528028332774784,2.720724990736545,8.675579172250451,6.873814289066839,-9.610587746576762,3.718416695688463,-10.57093671178287,-5.665559470514851],\"xaxis\":\"x\",\"y\":[1.176478843259178,-6.108396489260648,-5.94959030046699,-2.134908262857944,0.1878155912393983,6.698196483268343,-7.059795575502531,-1.388234760523893,8.147580925421302,2.9421526887453937,8.42230604631836,1.2969384370813923,-8.207792710600934,0.3189138807057668,-3.150021186588372,8.812606521626213,3.678194864876825,3.761148791658832,-8.256638890070827,9.640119992663449,-3.21533816537094,-5.703624861431083,1.2410528256477422,-2.1696906382234884,-6.610241193702287,6.334545018606549,-0.2878902478785006,-11.247280887038992,5.644232044245448],\"yaxis\":\"y\",\"type\":\"scatter\"},{\"hovertemplate\":\"Type=Mittel gebaut<br>x=%{x}<br>y=%{y}<extra></extra>\",\"legendgroup\":\"Mittel gebaut\",\"marker\":{\"color\":\"green\",\"symbol\":\"circle\"},\"mode\":\"markers\",\"name\":\"Mittel gebaut\",\"orientation\":\"v\",\"showlegend\":true,\"x\":[-8.525442177370545,6.048780717515781,10.105989531246632,1.795575068551585,-6.616157175448263,9.608322894869726,-5.157648877658801,0.7909722226057314,-6.95440485568572],\"xaxis\":\"x\",\"y\":[3.921165249197613,6.53468713390113,5.057353363239005,3.774831900938844,-5.016342936296504,1.188989721969656,7.609907627183155,-6.537170661040974,-1.5750087052689477],\"yaxis\":\"y\",\"type\":\"scatter\"},{\"hovertemplate\":\"Type=Gro\\u00df gebaut<br>x=%{x}<br>y=%{y}<extra></extra>\",\"legendgroup\":\"Gro\\u00df gebaut\",\"marker\":{\"color\":\"darkgreen\",\"symbol\":\"circle\"},\"mode\":\"markers\",\"name\":\"Gro\\u00df gebaut\",\"orientation\":\"v\",\"showlegend\":true,\"x\":[-2.1971077960089653,-7.161120329013925],\"xaxis\":\"x\",\"y\":[0.5537450555629219,-9.350109289043074],\"yaxis\":\"y\",\"type\":\"scatter\"},{\"hovertemplate\":\"Type=Stadtteil<br>x=%{x}<br>y=%{y}<extra></extra>\",\"legendgroup\":\"Stadtteil\",\"marker\":{\"color\":\"blue\",\"symbol\":\"circle\"},\"mode\":\"markers\",\"name\":\"Stadtteil\",\"orientation\":\"v\",\"showlegend\":true,\"x\":[-2.617840157776385,9.65306638123296,-5.671189748744199,-9.361196097890147,3.5400249473088787,-1.5448943603027705,-7.986294289641393,1.319128230042547,5.957451212991796,-5.585214509723528,8.071228351273826,-8.075068857279016,-4.021647637503319,9.230502065874434,1.845050423166444,-9.87172731595614,3.507239224556322,-3.700565566845107,-6.292097260027692,-10.059521427160908,-0.0254444972172649,7.379701182132219,-1.6919893283655745,-9.190364739165467,-7.044002426746738,-6.830418616925616,-7.2604337634774385,-4.4019191982581205,-1.594715992069604,-1.719519304353873],\"xaxis\":\"x\",\"y\":[1.1988524543522276,5.069990630892894,-4.435683034912494,5.234105285493201,-3.451380988212498,4.949029812352362,-1.3219135850635109,-7.134205762142999,9.318825818978738,7.39824151186475,-4.100717587582418,-9.402149773910192,-7.302849330565328,0.6219632851819383,3.885980643894202,-3.906247959697773,6.737987412380432,3.997637802606329,-3.145107694302765,3.819182505242558,-8.872196774548843,8.025290852149771,1.8956791741121943,3.3565299947047897,-8.112592784114948,7.539849762699349,-5.858999074588611,5.857643843741266,3.8767505164391167,0.5909584184653083],\"yaxis\":\"y\",\"type\":\"scatter\"},{\"hovertemplate\":\"x=%{x}<br>y=%{y}<extra></extra>\",\"legendgroup\":\"\",\"line\":{\"color\":\"goldenrod\",\"dash\":\"solid\",\"width\":0.09099999999999966},\"marker\":{\"symbol\":\"circle\"},\"mode\":\"lines\",\"name\":\"\",\"orientation\":\"v\",\"showlegend\":false,\"x\":[-1.8091319324683977,-2.617840157776385],\"xaxis\":\"x\",\"y\":[2.853719781969376,1.1988524543522276],\"yaxis\":\"y\",\"type\":\"scatter\"},{\"hovertemplate\":\"x=%{x}<br>y=%{y}<extra></extra>\",\"legendgroup\":\"\",\"line\":{\"color\":\"goldenrod\",\"dash\":\"solid\",\"width\":1.5660000000000003},\"marker\":{\"symbol\":\"circle\"},\"mode\":\"lines\",\"name\":\"\",\"orientation\":\"v\",\"showlegend\":false,\"x\":[-2.1971077960089653,-2.617840157776385],\"xaxis\":\"x\",\"y\":[0.5537450555629219,1.1988524543522276],\"yaxis\":\"y\",\"type\":\"scatter\"},{\"hovertemplate\":\"x=%{x}<br>y=%{y}<extra></extra>\",\"legendgroup\":\"\",\"line\":{\"color\":\"goldenrod\",\"dash\":\"solid\",\"width\":1.426},\"marker\":{\"symbol\":\"circle\"},\"mode\":\"lines\",\"name\":\"\",\"orientation\":\"v\",\"showlegend\":false,\"x\":[10.105989531246632,9.65306638123296],\"xaxis\":\"x\",\"y\":[5.057353363239005,5.069990630892894],\"yaxis\":\"y\",\"type\":\"scatter\"},{\"hovertemplate\":\"x=%{x}<br>y=%{y}<extra></extra>\",\"legendgroup\":\"\",\"line\":{\"color\":\"goldenrod\",\"dash\":\"solid\",\"width\":1.393},\"marker\":{\"symbol\":\"circle\"},\"mode\":\"lines\",\"name\":\"\",\"orientation\":\"v\",\"showlegend\":false,\"x\":[-6.616157175448263,-5.671189748744199],\"xaxis\":\"x\",\"y\":[-5.016342936296504,-4.435683034912494],\"yaxis\":\"y\",\"type\":\"scatter\"},{\"hovertemplate\":\"x=%{x}<br>y=%{y}<extra></extra>\",\"legendgroup\":\"\",\"line\":{\"color\":\"goldenrod\",\"dash\":\"solid\",\"width\":0.649},\"marker\":{\"symbol\":\"circle\"},\"mode\":\"lines\",\"name\":\"\",\"orientation\":\"v\",\"showlegend\":false,\"x\":[-8.525442177370545,-9.361196097890147],\"xaxis\":\"x\",\"y\":[3.921165249197613,5.234105285493201],\"yaxis\":\"y\",\"type\":\"scatter\"},{\"hovertemplate\":\"x=%{x}<br>y=%{y}<extra></extra>\",\"legendgroup\":\"\",\"line\":{\"color\":\"goldenrod\",\"dash\":\"solid\",\"width\":0.46799999999999997},\"marker\":{\"symbol\":\"circle\"},\"mode\":\"lines\",\"name\":\"\",\"orientation\":\"v\",\"showlegend\":false,\"x\":[3.976385389046945,3.5400249473088787],\"xaxis\":\"x\",\"y\":[-3.785101886253399,-3.451380988212498],\"yaxis\":\"y\",\"type\":\"scatter\"},{\"hovertemplate\":\"x=%{x}<br>y=%{y}<extra></extra>\",\"legendgroup\":\"\",\"line\":{\"color\":\"goldenrod\",\"dash\":\"solid\",\"width\":0.422},\"marker\":{\"symbol\":\"circle\"},\"mode\":\"lines\",\"name\":\"\",\"orientation\":\"v\",\"showlegend\":false,\"x\":[-1.197639613684797,-1.5448943603027705],\"xaxis\":\"x\",\"y\":[4.678594556101104,4.949029812352362],\"yaxis\":\"y\",\"type\":\"scatter\"},{\"hovertemplate\":\"x=%{x}<br>y=%{y}<extra></extra>\",\"legendgroup\":\"\",\"line\":{\"color\":\"goldenrod\",\"dash\":\"solid\",\"width\":1.714},\"marker\":{\"symbol\":\"circle\"},\"mode\":\"lines\",\"name\":\"\",\"orientation\":\"v\",\"showlegend\":false,\"x\":[-6.95440485568572,-7.986294289641393],\"xaxis\":\"x\",\"y\":[-1.5750087052689477,-1.3219135850635109],\"yaxis\":\"y\",\"type\":\"scatter\"},{\"hovertemplate\":\"x=%{x}<br>y=%{y}<extra></extra>\",\"legendgroup\":\"\",\"line\":{\"color\":\"goldenrod\",\"dash\":\"solid\",\"width\":1.641},\"marker\":{\"symbol\":\"circle\"},\"mode\":\"lines\",\"name\":\"\",\"orientation\":\"v\",\"showlegend\":false,\"x\":[0.7909722226057314,1.319128230042547],\"xaxis\":\"x\",\"y\":[-6.537170661040974,-7.134205762142999],\"yaxis\":\"y\",\"type\":\"scatter\"},{\"hovertemplate\":\"x=%{x}<br>y=%{y}<extra></extra>\",\"legendgroup\":\"\",\"line\":{\"color\":\"goldenrod\",\"dash\":\"solid\",\"width\":0.881},\"marker\":{\"symbol\":\"circle\"},\"mode\":\"lines\",\"name\":\"\",\"orientation\":\"v\",\"showlegend\":false,\"x\":[5.725327052268948,5.957451212991796],\"xaxis\":\"x\",\"y\":[9.519738392030982,9.318825818978738],\"yaxis\":\"y\",\"type\":\"scatter\"},{\"hovertemplate\":\"x=%{x}<br>y=%{y}<extra></extra>\",\"legendgroup\":\"\",\"line\":{\"color\":\"goldenrod\",\"dash\":\"solid\",\"width\":0.265},\"marker\":{\"symbol\":\"circle\"},\"mode\":\"lines\",\"name\":\"\",\"orientation\":\"v\",\"showlegend\":false,\"x\":[-5.157648877658801,-5.585214509723528],\"xaxis\":\"x\",\"y\":[7.609907627183155,7.39824151186475],\"yaxis\":\"y\",\"type\":\"scatter\"},{\"hovertemplate\":\"x=%{x}<br>y=%{y}<extra></extra>\",\"legendgroup\":\"\",\"line\":{\"color\":\"goldenrod\",\"dash\":\"solid\",\"width\":0.765},\"marker\":{\"symbol\":\"circle\"},\"mode\":\"lines\",\"name\":\"\",\"orientation\":\"v\",\"showlegend\":false,\"x\":[8.565524433910793,8.071228351273826],\"xaxis\":\"x\",\"y\":[-4.720665625585216,-4.100717587582418],\"yaxis\":\"y\",\"type\":\"scatter\"},{\"hovertemplate\":\"x=%{x}<br>y=%{y}<extra></extra>\",\"legendgroup\":\"\",\"line\":{\"color\":\"goldenrod\",\"dash\":\"solid\",\"width\":1.239},\"marker\":{\"symbol\":\"circle\"},\"mode\":\"lines\",\"name\":\"\",\"orientation\":\"v\",\"showlegend\":false,\"x\":[-7.161120329013925,-8.075068857279016],\"xaxis\":\"x\",\"y\":[-9.350109289043074,-9.402149773910192],\"yaxis\":\"y\",\"type\":\"scatter\"},{\"hovertemplate\":\"x=%{x}<br>y=%{y}<extra></extra>\",\"legendgroup\":\"\",\"line\":{\"color\":\"goldenrod\",\"dash\":\"solid\",\"width\":0.909},\"marker\":{\"symbol\":\"circle\"},\"mode\":\"lines\",\"name\":\"\",\"orientation\":\"v\",\"showlegend\":false,\"x\":[-2.5475370397857784,-4.021647637503319],\"xaxis\":\"x\",\"y\":[-7.5442464964564175,-7.302849330565328],\"yaxis\":\"y\",\"type\":\"scatter\"},{\"hovertemplate\":\"x=%{x}<br>y=%{y}<extra></extra>\",\"legendgroup\":\"\",\"line\":{\"color\":\"goldenrod\",\"dash\":\"solid\",\"width\":1.56},\"marker\":{\"symbol\":\"circle\"},\"mode\":\"lines\",\"name\":\"\",\"orientation\":\"v\",\"showlegend\":false,\"x\":[9.608322894869726,9.230502065874434],\"xaxis\":\"x\",\"y\":[1.188989721969656,0.6219632851819383],\"yaxis\":\"y\",\"type\":\"scatter\"},{\"hovertemplate\":\"x=%{x}<br>y=%{y}<extra></extra>\",\"legendgroup\":\"\",\"line\":{\"color\":\"goldenrod\",\"dash\":\"solid\",\"width\":1.9949999999999999},\"marker\":{\"symbol\":\"circle\"},\"mode\":\"lines\",\"name\":\"\",\"orientation\":\"v\",\"showlegend\":false,\"x\":[1.795575068551585,1.845050423166444],\"xaxis\":\"x\",\"y\":[3.774831900938844,3.885980643894202],\"yaxis\":\"y\",\"type\":\"scatter\"},{\"hovertemplate\":\"x=%{x}<br>y=%{y}<extra></extra>\",\"legendgroup\":\"\",\"line\":{\"color\":\"goldenrod\",\"dash\":\"solid\",\"width\":0.382},\"marker\":{\"symbol\":\"circle\"},\"mode\":\"lines\",\"name\":\"\",\"orientation\":\"v\",\"showlegend\":false,\"x\":[-10.17086526982914,-9.87172731595614],\"xaxis\":\"x\",\"y\":[-3.819249045718005,-3.906247959697773],\"yaxis\":\"y\",\"type\":\"scatter\"},{\"hovertemplate\":\"x=%{x}<br>y=%{y}<extra></extra>\",\"legendgroup\":\"\",\"line\":{\"color\":\"goldenrod\",\"dash\":\"solid\",\"width\":0.9189999999999999},\"marker\":{\"symbol\":\"circle\"},\"mode\":\"lines\",\"name\":\"\",\"orientation\":\"v\",\"showlegend\":false,\"x\":[3.446520328819933,3.507239224556322],\"xaxis\":\"x\",\"y\":[7.854972091371471,6.737987412380432],\"yaxis\":\"y\",\"type\":\"scatter\"},{\"hovertemplate\":\"x=%{x}<br>y=%{y}<extra></extra>\",\"legendgroup\":\"\",\"line\":{\"color\":\"goldenrod\",\"dash\":\"solid\",\"width\":0.8619999999999999},\"marker\":{\"symbol\":\"circle\"},\"mode\":\"lines\",\"name\":\"\",\"orientation\":\"v\",\"showlegend\":false,\"x\":[-3.770384399165288,-3.700565566845107],\"xaxis\":\"x\",\"y\":[3.9081099894288607,3.997637802606329],\"yaxis\":\"y\",\"type\":\"scatter\"},{\"hovertemplate\":\"x=%{x}<br>y=%{y}<extra></extra>\",\"legendgroup\":\"\",\"line\":{\"color\":\"goldenrod\",\"dash\":\"solid\",\"width\":0.609},\"marker\":{\"symbol\":\"circle\"},\"mode\":\"lines\",\"name\":\"\",\"orientation\":\"v\",\"showlegend\":false,\"x\":[-6.616157175448263,-6.292097260027692],\"xaxis\":\"x\",\"y\":[-5.016342936296504,-3.145107694302765],\"yaxis\":\"y\",\"type\":\"scatter\"},{\"hovertemplate\":\"x=%{x}<br>y=%{y}<extra></extra>\",\"legendgroup\":\"\",\"line\":{\"color\":\"goldenrod\",\"dash\":\"solid\",\"width\":0.3959999999999999},\"marker\":{\"symbol\":\"circle\"},\"mode\":\"lines\",\"name\":\"\",\"orientation\":\"v\",\"showlegend\":false,\"x\":[-8.525442177370545,-10.059521427160908],\"xaxis\":\"x\",\"y\":[3.921165249197613,3.819182505242558],\"yaxis\":\"y\",\"type\":\"scatter\"},{\"hovertemplate\":\"x=%{x}<br>y=%{y}<extra></extra>\",\"legendgroup\":\"\",\"line\":{\"color\":\"goldenrod\",\"dash\":\"solid\",\"width\":8.881784197001253e-17},\"marker\":{\"symbol\":\"circle\"},\"mode\":\"lines\",\"name\":\"\",\"orientation\":\"v\",\"showlegend\":false,\"x\":[-10.23962094774063,-10.059521427160908],\"xaxis\":\"x\",\"y\":[3.678194864876825,3.819182505242558],\"yaxis\":\"y\",\"type\":\"scatter\"},{\"hovertemplate\":\"x=%{x}<br>y=%{y}<extra></extra>\",\"legendgroup\":\"\",\"line\":{\"color\":\"goldenrod\",\"dash\":\"solid\",\"width\":0.131},\"marker\":{\"symbol\":\"circle\"},\"mode\":\"lines\",\"name\":\"\",\"orientation\":\"v\",\"showlegend\":false,\"x\":[0.4694108179328375,-0.0254444972172649],\"xaxis\":\"x\",\"y\":[-9.42494120227329,-8.872196774548843],\"yaxis\":\"y\",\"type\":\"scatter\"},{\"hovertemplate\":\"x=%{x}<br>y=%{y}<extra></extra>\",\"legendgroup\":\"\",\"line\":{\"color\":\"goldenrod\",\"dash\":\"solid\",\"width\":1.7739999999999998},\"marker\":{\"symbol\":\"circle\"},\"mode\":\"lines\",\"name\":\"\",\"orientation\":\"v\",\"showlegend\":false,\"x\":[6.048780717515781,7.379701182132219],\"xaxis\":\"x\",\"y\":[6.53468713390113,8.025290852149771],\"yaxis\":\"y\",\"type\":\"scatter\"},{\"hovertemplate\":\"x=%{x}<br>y=%{y}<extra></extra>\",\"legendgroup\":\"\",\"line\":{\"color\":\"goldenrod\",\"dash\":\"solid\",\"width\":0.8400000000000001},\"marker\":{\"symbol\":\"circle\"},\"mode\":\"lines\",\"name\":\"\",\"orientation\":\"v\",\"showlegend\":false,\"x\":[-2.1971077960089653,-1.6919893283655745],\"xaxis\":\"x\",\"y\":[0.5537450555629219,1.8956791741121943],\"yaxis\":\"y\",\"type\":\"scatter\"},{\"hovertemplate\":\"x=%{x}<br>y=%{y}<extra></extra>\",\"legendgroup\":\"\",\"line\":{\"color\":\"goldenrod\",\"dash\":\"solid\",\"width\":0.994},\"marker\":{\"symbol\":\"circle\"},\"mode\":\"lines\",\"name\":\"\",\"orientation\":\"v\",\"showlegend\":false,\"x\":[-8.525442177370545,-9.190364739165467],\"xaxis\":\"x\",\"y\":[3.921165249197613,3.3565299947047897],\"yaxis\":\"y\",\"type\":\"scatter\"},{\"hovertemplate\":\"x=%{x}<br>y=%{y}<extra></extra>\",\"legendgroup\":\"\",\"line\":{\"color\":\"goldenrod\",\"dash\":\"solid\",\"width\":1.8340000000001957},\"marker\":{\"symbol\":\"circle\"},\"mode\":\"lines\",\"name\":\"\",\"orientation\":\"v\",\"showlegend\":false,\"x\":[-7.161120329013925,-7.044002426746738],\"xaxis\":\"x\",\"y\":[-9.350109289043074,-8.112592784114948],\"yaxis\":\"y\",\"type\":\"scatter\"},{\"hovertemplate\":\"x=%{x}<br>y=%{y}<extra></extra>\",\"legendgroup\":\"\",\"line\":{\"color\":\"goldenrod\",\"dash\":\"solid\",\"width\":1.553},\"marker\":{\"symbol\":\"circle\"},\"mode\":\"lines\",\"name\":\"\",\"orientation\":\"v\",\"showlegend\":false,\"x\":[-5.157648877658801,-6.830418616925616],\"xaxis\":\"x\",\"y\":[7.609907627183155,7.539849762699349],\"yaxis\":\"y\",\"type\":\"scatter\"},{\"hovertemplate\":\"x=%{x}<br>y=%{y}<extra></extra>\",\"legendgroup\":\"\",\"line\":{\"color\":\"goldenrod\",\"dash\":\"solid\",\"width\":1.957545237019076e-13},\"marker\":{\"symbol\":\"circle\"},\"mode\":\"lines\",\"name\":\"\",\"orientation\":\"v\",\"showlegend\":false,\"x\":[-6.311425341000192,-7.2604337634774385],\"xaxis\":\"x\",\"y\":[-7.059795575502531,-5.858999074588611],\"yaxis\":\"y\",\"type\":\"scatter\"},{\"hovertemplate\":\"x=%{x}<br>y=%{y}<extra></extra>\",\"legendgroup\":\"\",\"line\":{\"color\":\"goldenrod\",\"dash\":\"solid\",\"width\":0.2609999999998042},\"marker\":{\"symbol\":\"circle\"},\"mode\":\"lines\",\"name\":\"\",\"orientation\":\"v\",\"showlegend\":false,\"x\":[-6.616157175448263,-7.2604337634774385],\"xaxis\":\"x\",\"y\":[-5.016342936296504,-5.858999074588611],\"yaxis\":\"y\",\"type\":\"scatter\"},{\"hovertemplate\":\"x=%{x}<br>y=%{y}<extra></extra>\",\"legendgroup\":\"\",\"line\":{\"color\":\"goldenrod\",\"dash\":\"solid\",\"width\":1.131},\"marker\":{\"symbol\":\"circle\"},\"mode\":\"lines\",\"name\":\"\",\"orientation\":\"v\",\"showlegend\":false,\"x\":[-5.157648877658801,-4.4019191982581205],\"xaxis\":\"x\",\"y\":[7.609907627183155,5.857643843741266],\"yaxis\":\"y\",\"type\":\"scatter\"},{\"hovertemplate\":\"x=%{x}<br>y=%{y}<extra></extra>\",\"legendgroup\":\"\",\"line\":{\"color\":\"goldenrod\",\"dash\":\"solid\",\"width\":0.30700000000000005},\"marker\":{\"symbol\":\"circle\"},\"mode\":\"lines\",\"name\":\"\",\"orientation\":\"v\",\"showlegend\":false,\"x\":[-1.8091319324683977,-1.594715992069604],\"xaxis\":\"x\",\"y\":[2.853719781969376,3.8767505164391167],\"yaxis\":\"y\",\"type\":\"scatter\"},{\"hovertemplate\":\"x=%{x}<br>y=%{y}<extra></extra>\",\"legendgroup\":\"\",\"line\":{\"color\":\"goldenrod\",\"dash\":\"solid\",\"width\":0.578},\"marker\":{\"symbol\":\"circle\"},\"mode\":\"lines\",\"name\":\"\",\"orientation\":\"v\",\"showlegend\":false,\"x\":[-1.197639613684797,-1.594715992069604],\"xaxis\":\"x\",\"y\":[4.678594556101104,3.8767505164391167],\"yaxis\":\"y\",\"type\":\"scatter\"},{\"hovertemplate\":\"x=%{x}<br>y=%{y}<extra></extra>\",\"legendgroup\":\"\",\"line\":{\"color\":\"goldenrod\",\"dash\":\"solid\",\"width\":1.5939999999999999},\"marker\":{\"symbol\":\"circle\"},\"mode\":\"lines\",\"name\":\"\",\"orientation\":\"v\",\"showlegend\":false,\"x\":[-2.1971077960089653,-1.719519304353873],\"xaxis\":\"x\",\"y\":[0.5537450555629219,0.5909584184653083],\"yaxis\":\"y\",\"type\":\"scatter\"}],                        {\"template\":{\"data\":{\"bar\":[{\"error_x\":{\"color\":\"#2a3f5f\"},\"error_y\":{\"color\":\"#2a3f5f\"},\"marker\":{\"line\":{\"color\":\"#E5ECF6\",\"width\":0.5},\"pattern\":{\"fillmode\":\"overlay\",\"size\":10,\"solidity\":0.2}},\"type\":\"bar\"}],\"barpolar\":[{\"marker\":{\"line\":{\"color\":\"#E5ECF6\",\"width\":0.5},\"pattern\":{\"fillmode\":\"overlay\",\"size\":10,\"solidity\":0.2}},\"type\":\"barpolar\"}],\"carpet\":[{\"aaxis\":{\"endlinecolor\":\"#2a3f5f\",\"gridcolor\":\"white\",\"linecolor\":\"white\",\"minorgridcolor\":\"white\",\"startlinecolor\":\"#2a3f5f\"},\"baxis\":{\"endlinecolor\":\"#2a3f5f\",\"gridcolor\":\"white\",\"linecolor\":\"white\",\"minorgridcolor\":\"white\",\"startlinecolor\":\"#2a3f5f\"},\"type\":\"carpet\"}],\"choropleth\":[{\"colorbar\":{\"outlinewidth\":0,\"ticks\":\"\"},\"type\":\"choropleth\"}],\"contour\":[{\"colorbar\":{\"outlinewidth\":0,\"ticks\":\"\"},\"colorscale\":[[0.0,\"#0d0887\"],[0.1111111111111111,\"#46039f\"],[0.2222222222222222,\"#7201a8\"],[0.3333333333333333,\"#9c179e\"],[0.4444444444444444,\"#bd3786\"],[0.5555555555555556,\"#d8576b\"],[0.6666666666666666,\"#ed7953\"],[0.7777777777777778,\"#fb9f3a\"],[0.8888888888888888,\"#fdca26\"],[1.0,\"#f0f921\"]],\"type\":\"contour\"}],\"contourcarpet\":[{\"colorbar\":{\"outlinewidth\":0,\"ticks\":\"\"},\"type\":\"contourcarpet\"}],\"heatmap\":[{\"colorbar\":{\"outlinewidth\":0,\"ticks\":\"\"},\"colorscale\":[[0.0,\"#0d0887\"],[0.1111111111111111,\"#46039f\"],[0.2222222222222222,\"#7201a8\"],[0.3333333333333333,\"#9c179e\"],[0.4444444444444444,\"#bd3786\"],[0.5555555555555556,\"#d8576b\"],[0.6666666666666666,\"#ed7953\"],[0.7777777777777778,\"#fb9f3a\"],[0.8888888888888888,\"#fdca26\"],[1.0,\"#f0f921\"]],\"type\":\"heatmap\"}],\"heatmapgl\":[{\"colorbar\":{\"outlinewidth\":0,\"ticks\":\"\"},\"colorscale\":[[0.0,\"#0d0887\"],[0.1111111111111111,\"#46039f\"],[0.2222222222222222,\"#7201a8\"],[0.3333333333333333,\"#9c179e\"],[0.4444444444444444,\"#bd3786\"],[0.5555555555555556,\"#d8576b\"],[0.6666666666666666,\"#ed7953\"],[0.7777777777777778,\"#fb9f3a\"],[0.8888888888888888,\"#fdca26\"],[1.0,\"#f0f921\"]],\"type\":\"heatmapgl\"}],\"histogram\":[{\"marker\":{\"pattern\":{\"fillmode\":\"overlay\",\"size\":10,\"solidity\":0.2}},\"type\":\"histogram\"}],\"histogram2d\":[{\"colorbar\":{\"outlinewidth\":0,\"ticks\":\"\"},\"colorscale\":[[0.0,\"#0d0887\"],[0.1111111111111111,\"#46039f\"],[0.2222222222222222,\"#7201a8\"],[0.3333333333333333,\"#9c179e\"],[0.4444444444444444,\"#bd3786\"],[0.5555555555555556,\"#d8576b\"],[0.6666666666666666,\"#ed7953\"],[0.7777777777777778,\"#fb9f3a\"],[0.8888888888888888,\"#fdca26\"],[1.0,\"#f0f921\"]],\"type\":\"histogram2d\"}],\"histogram2dcontour\":[{\"colorbar\":{\"outlinewidth\":0,\"ticks\":\"\"},\"colorscale\":[[0.0,\"#0d0887\"],[0.1111111111111111,\"#46039f\"],[0.2222222222222222,\"#7201a8\"],[0.3333333333333333,\"#9c179e\"],[0.4444444444444444,\"#bd3786\"],[0.5555555555555556,\"#d8576b\"],[0.6666666666666666,\"#ed7953\"],[0.7777777777777778,\"#fb9f3a\"],[0.8888888888888888,\"#fdca26\"],[1.0,\"#f0f921\"]],\"type\":\"histogram2dcontour\"}],\"mesh3d\":[{\"colorbar\":{\"outlinewidth\":0,\"ticks\":\"\"},\"type\":\"mesh3d\"}],\"parcoords\":[{\"line\":{\"colorbar\":{\"outlinewidth\":0,\"ticks\":\"\"}},\"type\":\"parcoords\"}],\"pie\":[{\"automargin\":true,\"type\":\"pie\"}],\"scatter\":[{\"marker\":{\"colorbar\":{\"outlinewidth\":0,\"ticks\":\"\"}},\"type\":\"scatter\"}],\"scatter3d\":[{\"line\":{\"colorbar\":{\"outlinewidth\":0,\"ticks\":\"\"}},\"marker\":{\"colorbar\":{\"outlinewidth\":0,\"ticks\":\"\"}},\"type\":\"scatter3d\"}],\"scattercarpet\":[{\"marker\":{\"colorbar\":{\"outlinewidth\":0,\"ticks\":\"\"}},\"type\":\"scattercarpet\"}],\"scattergeo\":[{\"marker\":{\"colorbar\":{\"outlinewidth\":0,\"ticks\":\"\"}},\"type\":\"scattergeo\"}],\"scattergl\":[{\"marker\":{\"colorbar\":{\"outlinewidth\":0,\"ticks\":\"\"}},\"type\":\"scattergl\"}],\"scattermapbox\":[{\"marker\":{\"colorbar\":{\"outlinewidth\":0,\"ticks\":\"\"}},\"type\":\"scattermapbox\"}],\"scatterpolar\":[{\"marker\":{\"colorbar\":{\"outlinewidth\":0,\"ticks\":\"\"}},\"type\":\"scatterpolar\"}],\"scatterpolargl\":[{\"marker\":{\"colorbar\":{\"outlinewidth\":0,\"ticks\":\"\"}},\"type\":\"scatterpolargl\"}],\"scatterternary\":[{\"marker\":{\"colorbar\":{\"outlinewidth\":0,\"ticks\":\"\"}},\"type\":\"scatterternary\"}],\"surface\":[{\"colorbar\":{\"outlinewidth\":0,\"ticks\":\"\"},\"colorscale\":[[0.0,\"#0d0887\"],[0.1111111111111111,\"#46039f\"],[0.2222222222222222,\"#7201a8\"],[0.3333333333333333,\"#9c179e\"],[0.4444444444444444,\"#bd3786\"],[0.5555555555555556,\"#d8576b\"],[0.6666666666666666,\"#ed7953\"],[0.7777777777777778,\"#fb9f3a\"],[0.8888888888888888,\"#fdca26\"],[1.0,\"#f0f921\"]],\"type\":\"surface\"}],\"table\":[{\"cells\":{\"fill\":{\"color\":\"#EBF0F8\"},\"line\":{\"color\":\"white\"}},\"header\":{\"fill\":{\"color\":\"#C8D4E3\"},\"line\":{\"color\":\"white\"}},\"type\":\"table\"}]},\"layout\":{\"annotationdefaults\":{\"arrowcolor\":\"#2a3f5f\",\"arrowhead\":0,\"arrowwidth\":1},\"autotypenumbers\":\"strict\",\"coloraxis\":{\"colorbar\":{\"outlinewidth\":0,\"ticks\":\"\"}},\"colorscale\":{\"diverging\":[[0,\"#8e0152\"],[0.1,\"#c51b7d\"],[0.2,\"#de77ae\"],[0.3,\"#f1b6da\"],[0.4,\"#fde0ef\"],[0.5,\"#f7f7f7\"],[0.6,\"#e6f5d0\"],[0.7,\"#b8e186\"],[0.8,\"#7fbc41\"],[0.9,\"#4d9221\"],[1,\"#276419\"]],\"sequential\":[[0.0,\"#0d0887\"],[0.1111111111111111,\"#46039f\"],[0.2222222222222222,\"#7201a8\"],[0.3333333333333333,\"#9c179e\"],[0.4444444444444444,\"#bd3786\"],[0.5555555555555556,\"#d8576b\"],[0.6666666666666666,\"#ed7953\"],[0.7777777777777778,\"#fb9f3a\"],[0.8888888888888888,\"#fdca26\"],[1.0,\"#f0f921\"]],\"sequentialminus\":[[0.0,\"#0d0887\"],[0.1111111111111111,\"#46039f\"],[0.2222222222222222,\"#7201a8\"],[0.3333333333333333,\"#9c179e\"],[0.4444444444444444,\"#bd3786\"],[0.5555555555555556,\"#d8576b\"],[0.6666666666666666,\"#ed7953\"],[0.7777777777777778,\"#fb9f3a\"],[0.8888888888888888,\"#fdca26\"],[1.0,\"#f0f921\"]]},\"colorway\":[\"#636efa\",\"#EF553B\",\"#00cc96\",\"#ab63fa\",\"#FFA15A\",\"#19d3f3\",\"#FF6692\",\"#B6E880\",\"#FF97FF\",\"#FECB52\"],\"font\":{\"color\":\"#2a3f5f\"},\"geo\":{\"bgcolor\":\"white\",\"lakecolor\":\"white\",\"landcolor\":\"#E5ECF6\",\"showlakes\":true,\"showland\":true,\"subunitcolor\":\"white\"},\"hoverlabel\":{\"align\":\"left\"},\"hovermode\":\"closest\",\"mapbox\":{\"style\":\"light\"},\"paper_bgcolor\":\"white\",\"plot_bgcolor\":\"#E5ECF6\",\"polar\":{\"angularaxis\":{\"gridcolor\":\"white\",\"linecolor\":\"white\",\"ticks\":\"\"},\"bgcolor\":\"#E5ECF6\",\"radialaxis\":{\"gridcolor\":\"white\",\"linecolor\":\"white\",\"ticks\":\"\"}},\"scene\":{\"xaxis\":{\"backgroundcolor\":\"#E5ECF6\",\"gridcolor\":\"white\",\"gridwidth\":2,\"linecolor\":\"white\",\"showbackground\":true,\"ticks\":\"\",\"zerolinecolor\":\"white\"},\"yaxis\":{\"backgroundcolor\":\"#E5ECF6\",\"gridcolor\":\"white\",\"gridwidth\":2,\"linecolor\":\"white\",\"showbackground\":true,\"ticks\":\"\",\"zerolinecolor\":\"white\"},\"zaxis\":{\"backgroundcolor\":\"#E5ECF6\",\"gridcolor\":\"white\",\"gridwidth\":2,\"linecolor\":\"white\",\"showbackground\":true,\"ticks\":\"\",\"zerolinecolor\":\"white\"}},\"shapedefaults\":{\"line\":{\"color\":\"#2a3f5f\"}},\"ternary\":{\"aaxis\":{\"gridcolor\":\"white\",\"linecolor\":\"white\",\"ticks\":\"\"},\"baxis\":{\"gridcolor\":\"white\",\"linecolor\":\"white\",\"ticks\":\"\"},\"bgcolor\":\"#E5ECF6\",\"caxis\":{\"gridcolor\":\"white\",\"linecolor\":\"white\",\"ticks\":\"\"}},\"title\":{\"x\":0.05},\"xaxis\":{\"automargin\":true,\"gridcolor\":\"white\",\"linecolor\":\"white\",\"ticks\":\"\",\"title\":{\"standoff\":15},\"zerolinecolor\":\"white\",\"zerolinewidth\":2},\"yaxis\":{\"automargin\":true,\"gridcolor\":\"white\",\"linecolor\":\"white\",\"ticks\":\"\",\"title\":{\"standoff\":15},\"zerolinecolor\":\"white\",\"zerolinewidth\":2}}},\"shapes\":[{\"line\":{\"color\":\"blue\",\"width\":0.5},\"type\":\"circle\",\"x0\":0.19086806753160235,\"x1\":-3.8091319324683974,\"xref\":\"x\",\"y0\":4.853719781969376,\"y1\":0.8537197819693758,\"yref\":\"y\"},{\"line\":{\"color\":\"blue\",\"width\":0.5},\"type\":\"circle\",\"x0\":-6.525442177370545,\"x1\":-10.525442177370545,\"xref\":\"x\",\"y0\":5.921165249197613,\"y1\":1.921165249197613,\"yref\":\"y\"},{\"line\":{\"color\":\"blue\",\"width\":0.5},\"type\":\"circle\",\"x0\":5.446520328819933,\"x1\":1.446520328819933,\"xref\":\"x\",\"y0\":9.854972091371472,\"y1\":5.854972091371471,\"yref\":\"y\"},{\"line\":{\"color\":\"blue\",\"width\":0.5},\"type\":\"circle\",\"x0\":8.04878071751578,\"x1\":4.048780717515781,\"xref\":\"x\",\"y0\":8.53468713390113,\"y1\":4.53468713390113,\"yref\":\"y\"},{\"line\":{\"color\":\"blue\",\"width\":0.5},\"type\":\"circle\",\"x0\":10.565524433910793,\"x1\":6.565524433910793,\"xref\":\"x\",\"y0\":-2.720665625585216,\"y1\":-6.720665625585216,\"yref\":\"y\"},{\"line\":{\"color\":\"blue\",\"width\":0.5},\"type\":\"circle\",\"x0\":12.105989531246632,\"x1\":8.105989531246632,\"xref\":\"x\",\"y0\":7.057353363239005,\"y1\":3.057353363239005,\"yref\":\"y\"},{\"line\":{\"color\":\"blue\",\"width\":0.5},\"type\":\"circle\",\"x0\":3.795575068551585,\"x1\":-0.204424931448415,\"xref\":\"x\",\"y0\":5.774831900938844,\"y1\":1.7748319009388438,\"yref\":\"y\"},{\"line\":{\"color\":\"blue\",\"width\":0.5},\"type\":\"circle\",\"x0\":0.8023603863152029,\"x1\":-3.197639613684797,\"xref\":\"x\",\"y0\":6.678594556101104,\"y1\":2.678594556101104,\"yref\":\"y\"},{\"line\":{\"color\":\"blue\",\"width\":0.5},\"type\":\"circle\",\"x0\":2.4694108179328373,\"x1\":-1.5305891820671624,\"xref\":\"x\",\"y0\":-7.42494120227329,\"y1\":-11.42494120227329,\"yref\":\"y\"},{\"line\":{\"color\":\"blue\",\"width\":0.5},\"type\":\"circle\",\"x0\":-4.616157175448263,\"x1\":-8.616157175448263,\"xref\":\"x\",\"y0\":-3.016342936296504,\"y1\":-7.016342936296504,\"yref\":\"y\"},{\"line\":{\"color\":\"blue\",\"width\":0.5},\"type\":\"circle\",\"x0\":-1.770384399165288,\"x1\":-5.7703843991652874,\"xref\":\"x\",\"y0\":5.90810998942886,\"y1\":1.9081099894288607,\"yref\":\"y\"},{\"line\":{\"color\":\"blue\",\"width\":0.5},\"type\":\"circle\",\"x0\":-0.5475370397857784,\"x1\":-4.547537039785778,\"xref\":\"x\",\"y0\":-5.5442464964564175,\"y1\":-9.544246496456417,\"yref\":\"y\"},{\"line\":{\"color\":\"blue\",\"width\":0.5},\"type\":\"circle\",\"x0\":11.608322894869726,\"x1\":7.608322894869726,\"xref\":\"x\",\"y0\":3.188989721969656,\"y1\":-0.8110102780303441,\"yref\":\"y\"},{\"line\":{\"color\":\"blue\",\"width\":0.5},\"type\":\"circle\",\"x0\":-8.17086526982914,\"x1\":-12.17086526982914,\"xref\":\"x\",\"y0\":-1.819249045718005,\"y1\":-5.819249045718005,\"yref\":\"y\"},{\"line\":{\"color\":\"blue\",\"width\":0.5},\"type\":\"circle\",\"x0\":-0.19710779600896533,\"x1\":-4.197107796008965,\"xref\":\"x\",\"y0\":2.553745055562922,\"y1\":-1.446254944437078,\"yref\":\"y\"},{\"line\":{\"color\":\"blue\",\"width\":0.5},\"type\":\"circle\",\"x0\":7.725327052268948,\"x1\":3.7253270522689483,\"xref\":\"x\",\"y0\":11.519738392030982,\"y1\":7.519738392030982,\"yref\":\"y\"},{\"line\":{\"color\":\"blue\",\"width\":0.5},\"type\":\"circle\",\"x0\":-3.1576488776588008,\"x1\":-7.157648877658801,\"xref\":\"x\",\"y0\":9.609907627183155,\"y1\":5.609907627183155,\"yref\":\"y\"},{\"line\":{\"color\":\"blue\",\"width\":0.5},\"type\":\"circle\",\"x0\":5.9763853890469445,\"x1\":1.976385389046945,\"xref\":\"x\",\"y0\":-1.7851018862533992,\"y1\":-5.785101886253399,\"yref\":\"y\"},{\"line\":{\"color\":\"blue\",\"width\":0.5},\"type\":\"circle\",\"x0\":-5.161120329013925,\"x1\":-9.161120329013926,\"xref\":\"x\",\"y0\":-7.350109289043074,\"y1\":-11.350109289043074,\"yref\":\"y\"},{\"line\":{\"color\":\"blue\",\"width\":0.5},\"type\":\"circle\",\"x0\":2.790972222605731,\"x1\":-1.2090277773942686,\"xref\":\"x\",\"y0\":-4.537170661040974,\"y1\":-8.537170661040975,\"yref\":\"y\"},{\"line\":{\"color\":\"blue\",\"width\":0.5},\"type\":\"circle\",\"x0\":-4.95440485568572,\"x1\":-8.95440485568572,\"xref\":\"x\",\"y0\":0.42499129473105235,\"y1\":-3.5750087052689477,\"yref\":\"y\"}],\"autosize\":false,\"width\":600,\"height\":600},                        {\"responsive\": true}                    ).then(function(){\n",
       "                            \n",
       "var gd = document.getElementById('20829c0e-493b-4de8-87b9-4f4bb7e18c92');\n",
       "var x = new MutationObserver(function (mutations, observer) {{\n",
       "        var display = window.getComputedStyle(gd).display;\n",
       "        if (!display || display === 'none') {{\n",
       "            console.log([gd, 'removed!']);\n",
       "            Plotly.purge(gd);\n",
       "            observer.disconnect();\n",
       "        }}\n",
       "}});\n",
       "\n",
       "// Listen for the removal of the full notebook cells\n",
       "var notebookContainer = gd.closest('#notebook-container');\n",
       "if (notebookContainer) {{\n",
       "    x.observe(notebookContainer, {childList: true});\n",
       "}}\n",
       "\n",
       "// Listen for the clearing of the current output cell\n",
       "var outputEl = gd.closest('.output');\n",
       "if (outputEl) {{\n",
       "    x.observe(outputEl, {childList: true});\n",
       "}}\n",
       "\n",
       "                        })                };                });            </script>        </div>"
      ]
     },
     "metadata": {},
     "output_type": "display_data"
    },
    {
     "name": "stdout",
     "output_type": "stream",
     "text": [
      "\n",
      "\n",
      "___Optimal costs___\n",
      "The total cost of building [21] charging stations is $2,930,000.\n",
      "The total cost of building [10] small charging stations is $1,000,000.\n",
      "The total cost of building [9] medium-size charging stations is $1,530,000.\n",
      "The total cost of building [2] large charging stations is $400,000.\n"
     ]
    }
   ],
   "source": [
    "# solve task 2\n",
    "solve_location(radius=2)"
   ]
  },
  {
   "cell_type": "markdown",
   "id": "d8a8fd7a-92e2-4cae-8ee2-58bb651fc7c9",
   "metadata": {
    "tags": []
   },
   "source": [
    "### Task 3"
   ]
  },
  {
   "cell_type": "code",
   "execution_count": 90,
   "id": "fd83cb87-d80b-4d60-879a-ec9405a12ae7",
   "metadata": {},
   "outputs": [
    {
     "name": "stdout",
     "output_type": "stream",
     "text": [
      "Gurobi Optimizer version 9.5.1 build v9.5.1rc2 (mac64[x86])\n",
      "Thread count: 4 physical cores, 8 logical processors, using up to 8 threads\n",
      "Optimize a model with 1631 rows, 1650 columns and 4950 nonzeros\n",
      "Model fingerprint: 0x37a45229\n",
      "Variable types: 1500 continuous, 150 integer (150 binary)\n",
      "Coefficient statistics:\n",
      "  Matrix range     [1e+00, 2e+05]\n",
      "  Objective range  [1e+00, 1e+00]\n",
      "  Bounds range     [1e+00, 1e+00]\n",
      "  RHS range        [1e+00, 2e+06]\n",
      "Found heuristic solution: objective 311.4900000\n",
      "Presolve removed 1558 rows and 1538 columns\n",
      "Presolve time: 0.00s\n",
      "Presolved: 73 rows, 112 columns, 265 nonzeros\n",
      "Variable types: 46 continuous, 66 integer (63 binary)\n",
      "Found heuristic solution: objective 271.6200000\n",
      "\n",
      "Root relaxation: objective 6.446769e+01, 54 iterations, 0.00 seconds (0.00 work units)\n",
      "\n",
      "    Nodes    |    Current Node    |     Objective Bounds      |     Work\n",
      " Expl Unexpl |  Obj  Depth IntInf | Incumbent    BestBd   Gap | It/Node Time\n",
      "\n",
      "     0     0   64.46769    0    5  271.62000   64.46769  76.3%     -    0s\n",
      "H    0     0                      74.9600000   64.46769  14.0%     -    0s\n",
      "     0     0   66.91836    0    4   74.96000   66.91836  10.7%     -    0s\n",
      "     0     0   68.74785    0    6   74.96000   68.74785  8.29%     -    0s\n",
      "H    0     0                      74.1500000   68.74785  7.29%     -    0s\n",
      "     0     0   70.96019    0    6   74.15000   70.96019  4.30%     -    0s\n",
      "     0     0   72.37367    0    9   74.15000   72.37367  2.40%     -    0s\n",
      "     0     0   72.38471    0    8   74.15000   72.38471  2.38%     -    0s\n",
      "     0     0   72.82675    0   11   74.15000   72.82675  1.78%     -    0s\n",
      "     0     0   72.94356    0   12   74.15000   72.94356  1.63%     -    0s\n",
      "     0     0   73.65366    0    8   74.15000   73.65366  0.67%     -    0s\n",
      "     0     0          -    0        74.15000   74.15000  0.00%     -    0s\n",
      "\n",
      "Cutting planes:\n",
      "  Gomory: 6\n",
      "  Implied bound: 4\n",
      "  MIR: 13\n",
      "  StrongCG: 1\n",
      "  GUB cover: 1\n",
      "  RLT: 1\n",
      "  Relax-and-lift: 1\n",
      "\n",
      "Explored 1 nodes (127 simplex iterations) in 0.04 seconds (0.00 work units)\n",
      "Thread count was 8 (of 8 available processors)\n",
      "\n",
      "Solution count 4: 74.15 74.96 271.62 311.49 \n",
      "\n",
      "Optimal solution found (tolerance 1.00e-04)\n",
      "Best objective 7.415000000000e+01, best bound 7.414999967942e+01, gap 0.0000%\n"
     ]
    },
    {
     "data": {
      "application/vnd.plotly.v1+json": {
       "config": {
        "plotlyServerURL": "https://plot.ly"
       },
       "data": [
        {
         "hovertemplate": "Type=Nichts gebaut<br>x=%{x}<br>y=%{y}<extra></extra>",
         "legendgroup": "Nichts gebaut",
         "marker": {
          "color": "grey",
          "symbol": "circle"
         },
         "mode": "markers",
         "name": "Nichts gebaut",
         "orientation": "v",
         "showlegend": true,
         "type": "scatter",
         "x": [
          -1.8091319324683977,
          7.16798487034364,
          -4.556355115803766,
          3.446520328819933,
          3.1447262264886504,
          3.462633043379101,
          -7.101846628907806,
          -6.998474210378397,
          -6.311425341000192,
          8.565524433910793,
          -8.809340390055578,
          -2.7696529005738064,
          0.4694108179328375,
          8.152452021936224,
          8.326019727518302,
          -9.471327050033745,
          -0.2864407232133547,
          -3.770384399165288,
          -5.874311522268608,
          -7.314993538730524,
          -10.23962094774063,
          4.72087244288382,
          8.57474962601013,
          -2.5475370397857784,
          -0.8121369708510815,
          6.113093527622288,
          -1.528028332774784,
          -10.17086526982914,
          2.720724990736545,
          8.675579172250451,
          6.873814289066839,
          -9.610587746576762,
          5.725327052268948,
          3.718416695688463,
          -10.57093671178287,
          3.976385389046945,
          -5.665559470514851,
          -7.161120329013925
         ],
         "xaxis": "x",
         "y": [
          2.853719781969376,
          1.176478843259178,
          -6.108396489260648,
          7.854972091371471,
          -5.94959030046699,
          -2.134908262857944,
          0.1878155912393983,
          6.698196483268343,
          -7.059795575502531,
          -4.720665625585216,
          -1.388234760523893,
          8.147580925421302,
          -9.42494120227329,
          2.9421526887453937,
          8.42230604631836,
          1.2969384370813923,
          0.3189138807057668,
          3.9081099894288607,
          -3.150021186588372,
          8.812606521626213,
          3.678194864876825,
          3.761148791658832,
          -8.256638890070827,
          -7.5442464964564175,
          9.640119992663449,
          -3.21533816537094,
          -5.703624861431083,
          -3.819249045718005,
          1.2410528256477422,
          -2.1696906382234884,
          -6.610241193702287,
          6.334545018606549,
          9.519738392030982,
          -0.2878902478785006,
          -11.247280887038992,
          -3.785101886253399,
          5.644232044245448,
          -9.350109289043074
         ],
         "yaxis": "y"
        },
        {
         "hovertemplate": "Type=Mittel gebaut<br>x=%{x}<br>y=%{y}<extra></extra>",
         "legendgroup": "Mittel gebaut",
         "marker": {
          "color": "green",
          "symbol": "circle"
         },
         "mode": "markers",
         "name": "Mittel gebaut",
         "orientation": "v",
         "showlegend": true,
         "type": "scatter",
         "x": [
          -8.525442177370545,
          6.048780717515781,
          1.795575068551585,
          -6.616157175448263,
          -8.538081194991275,
          -5.157648877658801,
          -6.95440485568572
         ],
         "xaxis": "x",
         "y": [
          3.921165249197613,
          6.53468713390113,
          3.774831900938844,
          -5.016342936296504,
          -8.207792710600934,
          7.609907627183155,
          -1.5750087052689477
         ],
         "yaxis": "y"
        },
        {
         "hovertemplate": "Type=Klein gebaut<br>x=%{x}<br>y=%{y}<extra></extra>",
         "legendgroup": "Klein gebaut",
         "marker": {
          "color": "lightgreen",
          "symbol": "circle"
         },
         "mode": "markers",
         "name": "Klein gebaut",
         "orientation": "v",
         "showlegend": true,
         "type": "scatter",
         "x": [
          10.105989531246632,
          -1.197639613684797,
          9.608322894869726,
          0.7909722226057314
         ],
         "xaxis": "x",
         "y": [
          5.057353363239005,
          4.678594556101104,
          1.188989721969656,
          -6.537170661040974
         ],
         "yaxis": "y"
        },
        {
         "hovertemplate": "Type=Groß gebaut<br>x=%{x}<br>y=%{y}<extra></extra>",
         "legendgroup": "Groß gebaut",
         "marker": {
          "color": "darkgreen",
          "symbol": "circle"
         },
         "mode": "markers",
         "name": "Groß gebaut",
         "orientation": "v",
         "showlegend": true,
         "type": "scatter",
         "x": [
          -2.1971077960089653
         ],
         "xaxis": "x",
         "y": [
          0.5537450555629219
         ],
         "yaxis": "y"
        },
        {
         "hovertemplate": "Type=Stadtteil<br>x=%{x}<br>y=%{y}<extra></extra>",
         "legendgroup": "Stadtteil",
         "marker": {
          "color": "blue",
          "symbol": "circle"
         },
         "mode": "markers",
         "name": "Stadtteil",
         "orientation": "v",
         "showlegend": true,
         "type": "scatter",
         "x": [
          -2.617840157776385,
          9.65306638123296,
          -5.671189748744199,
          -9.361196097890147,
          3.5400249473088787,
          -1.5448943603027705,
          -7.986294289641393,
          1.319128230042547,
          5.957451212991796,
          -5.585214509723528,
          8.071228351273826,
          -8.075068857279016,
          -4.021647637503319,
          9.230502065874434,
          1.845050423166444,
          -9.87172731595614,
          3.507239224556322,
          -3.700565566845107,
          -6.292097260027692,
          -10.059521427160908,
          -0.0254444972172649,
          7.379701182132219,
          -1.6919893283655745,
          -9.190364739165467,
          -7.044002426746738,
          -6.830418616925616,
          -7.2604337634774385,
          -4.4019191982581205,
          -1.594715992069604,
          -1.719519304353873
         ],
         "xaxis": "x",
         "y": [
          1.1988524543522276,
          5.069990630892894,
          -4.435683034912494,
          5.234105285493201,
          -3.451380988212498,
          4.949029812352362,
          -1.3219135850635109,
          -7.134205762142999,
          9.318825818978738,
          7.39824151186475,
          -4.100717587582418,
          -9.402149773910192,
          -7.302849330565328,
          0.6219632851819383,
          3.885980643894202,
          -3.906247959697773,
          6.737987412380432,
          3.997637802606329,
          -3.145107694302765,
          3.819182505242558,
          -8.872196774548843,
          8.025290852149771,
          1.8956791741121943,
          3.3565299947047897,
          -8.112592784114948,
          7.539849762699349,
          -5.858999074588611,
          5.857643843741266,
          3.8767505164391167,
          0.5909584184653083
         ],
         "yaxis": "y"
        },
        {
         "hovertemplate": "x=%{x}<br>y=%{y}<extra></extra>",
         "legendgroup": "",
         "line": {
          "color": "goldenrod",
          "dash": "solid",
          "width": 1.5660000000000003
         },
         "marker": {
          "symbol": "circle"
         },
         "mode": "lines",
         "name": "",
         "orientation": "v",
         "showlegend": false,
         "type": "scatter",
         "x": [
          -2.1971077960089653,
          -2.617840157776385
         ],
         "xaxis": "x",
         "y": [
          0.5537450555629219,
          1.1988524543522276
         ],
         "yaxis": "y"
        },
        {
         "hovertemplate": "x=%{x}<br>y=%{y}<extra></extra>",
         "legendgroup": "",
         "line": {
          "color": "goldenrod",
          "dash": "solid",
          "width": 1
         },
         "marker": {
          "symbol": "circle"
         },
         "mode": "lines",
         "name": "",
         "orientation": "v",
         "showlegend": false,
         "type": "scatter",
         "x": [
          10.105989531246632,
          9.65306638123296
         ],
         "xaxis": "x",
         "y": [
          5.057353363239005,
          5.069990630892894
         ],
         "yaxis": "y"
        },
        {
         "hovertemplate": "x=%{x}<br>y=%{y}<extra></extra>",
         "legendgroup": "",
         "line": {
          "color": "goldenrod",
          "dash": "solid",
          "width": 1.393
         },
         "marker": {
          "symbol": "circle"
         },
         "mode": "lines",
         "name": "",
         "orientation": "v",
         "showlegend": false,
         "type": "scatter",
         "x": [
          -6.616157175448263,
          -5.671189748744199
         ],
         "xaxis": "x",
         "y": [
          -5.016342936296504,
          -4.435683034912494
         ],
         "yaxis": "y"
        },
        {
         "hovertemplate": "x=%{x}<br>y=%{y}<extra></extra>",
         "legendgroup": "",
         "line": {
          "color": "goldenrod",
          "dash": "solid",
          "width": 0.649
         },
         "marker": {
          "symbol": "circle"
         },
         "mode": "lines",
         "name": "",
         "orientation": "v",
         "showlegend": false,
         "type": "scatter",
         "x": [
          -8.525442177370545,
          -9.361196097890147
         ],
         "xaxis": "x",
         "y": [
          3.921165249197613,
          5.234105285493201
         ],
         "yaxis": "y"
        },
        {
         "hovertemplate": "x=%{x}<br>y=%{y}<extra></extra>",
         "legendgroup": "",
         "line": {
          "color": "goldenrod",
          "dash": "solid",
          "width": 0.422
         },
         "marker": {
          "symbol": "circle"
         },
         "mode": "lines",
         "name": "",
         "orientation": "v",
         "showlegend": false,
         "type": "scatter",
         "x": [
          -1.197639613684797,
          -1.5448943603027705
         ],
         "xaxis": "x",
         "y": [
          4.678594556101104,
          4.949029812352362
         ],
         "yaxis": "y"
        },
        {
         "hovertemplate": "x=%{x}<br>y=%{y}<extra></extra>",
         "legendgroup": "",
         "line": {
          "color": "goldenrod",
          "dash": "solid",
          "width": 1.714
         },
         "marker": {
          "symbol": "circle"
         },
         "mode": "lines",
         "name": "",
         "orientation": "v",
         "showlegend": false,
         "type": "scatter",
         "x": [
          -6.95440485568572,
          -7.986294289641393
         ],
         "xaxis": "x",
         "y": [
          -1.5750087052689477,
          -1.3219135850635109
         ],
         "yaxis": "y"
        },
        {
         "hovertemplate": "x=%{x}<br>y=%{y}<extra></extra>",
         "legendgroup": "",
         "line": {
          "color": "goldenrod",
          "dash": "solid",
          "width": 1
         },
         "marker": {
          "symbol": "circle"
         },
         "mode": "lines",
         "name": "",
         "orientation": "v",
         "showlegend": false,
         "type": "scatter",
         "x": [
          0.7909722226057314,
          1.319128230042547
         ],
         "xaxis": "x",
         "y": [
          -6.537170661040974,
          -7.134205762142999
         ],
         "yaxis": "y"
        },
        {
         "hovertemplate": "x=%{x}<br>y=%{y}<extra></extra>",
         "legendgroup": "",
         "line": {
          "color": "goldenrod",
          "dash": "solid",
          "width": 0.265
         },
         "marker": {
          "symbol": "circle"
         },
         "mode": "lines",
         "name": "",
         "orientation": "v",
         "showlegend": false,
         "type": "scatter",
         "x": [
          -5.157648877658801,
          -5.585214509723528
         ],
         "xaxis": "x",
         "y": [
          7.609907627183155,
          7.39824151186475
         ],
         "yaxis": "y"
        },
        {
         "hovertemplate": "x=%{x}<br>y=%{y}<extra></extra>",
         "legendgroup": "",
         "line": {
          "color": "goldenrod",
          "dash": "solid",
          "width": 1.239
         },
         "marker": {
          "symbol": "circle"
         },
         "mode": "lines",
         "name": "",
         "orientation": "v",
         "showlegend": false,
         "type": "scatter",
         "x": [
          -8.538081194991275,
          -8.075068857279016
         ],
         "xaxis": "x",
         "y": [
          -8.207792710600934,
          -9.402149773910192
         ],
         "yaxis": "y"
        },
        {
         "hovertemplate": "x=%{x}<br>y=%{y}<extra></extra>",
         "legendgroup": "",
         "line": {
          "color": "goldenrod",
          "dash": "solid",
          "width": 1
         },
         "marker": {
          "symbol": "circle"
         },
         "mode": "lines",
         "name": "",
         "orientation": "v",
         "showlegend": false,
         "type": "scatter",
         "x": [
          9.608322894869726,
          9.230502065874434
         ],
         "xaxis": "x",
         "y": [
          1.188989721969656,
          0.6219632851819383
         ],
         "yaxis": "y"
        },
        {
         "hovertemplate": "x=%{x}<br>y=%{y}<extra></extra>",
         "legendgroup": "",
         "line": {
          "color": "goldenrod",
          "dash": "solid",
          "width": 1.9950000000000003
         },
         "marker": {
          "symbol": "circle"
         },
         "mode": "lines",
         "name": "",
         "orientation": "v",
         "showlegend": false,
         "type": "scatter",
         "x": [
          1.795575068551585,
          1.845050423166444
         ],
         "xaxis": "x",
         "y": [
          3.774831900938844,
          3.885980643894202
         ],
         "yaxis": "y"
        },
        {
         "hovertemplate": "x=%{x}<br>y=%{y}<extra></extra>",
         "legendgroup": "",
         "line": {
          "color": "goldenrod",
          "dash": "solid",
          "width": 0.609
         },
         "marker": {
          "symbol": "circle"
         },
         "mode": "lines",
         "name": "",
         "orientation": "v",
         "showlegend": false,
         "type": "scatter",
         "x": [
          -6.616157175448263,
          -6.292097260027692
         ],
         "xaxis": "x",
         "y": [
          -5.016342936296504,
          -3.145107694302765
         ],
         "yaxis": "y"
        },
        {
         "hovertemplate": "x=%{x}<br>y=%{y}<extra></extra>",
         "legendgroup": "",
         "line": {
          "color": "goldenrod",
          "dash": "solid",
          "width": 0.396
         },
         "marker": {
          "symbol": "circle"
         },
         "mode": "lines",
         "name": "",
         "orientation": "v",
         "showlegend": false,
         "type": "scatter",
         "x": [
          -8.525442177370545,
          -10.059521427160908
         ],
         "xaxis": "x",
         "y": [
          3.921165249197613,
          3.819182505242558
         ],
         "yaxis": "y"
        },
        {
         "hovertemplate": "x=%{x}<br>y=%{y}<extra></extra>",
         "legendgroup": "",
         "line": {
          "color": "goldenrod",
          "dash": "solid",
          "width": 1.7739999999999998
         },
         "marker": {
          "symbol": "circle"
         },
         "mode": "lines",
         "name": "",
         "orientation": "v",
         "showlegend": false,
         "type": "scatter",
         "x": [
          6.048780717515781,
          7.379701182132219
         ],
         "xaxis": "x",
         "y": [
          6.53468713390113,
          8.025290852149771
         ],
         "yaxis": "y"
        },
        {
         "hovertemplate": "x=%{x}<br>y=%{y}<extra></extra>",
         "legendgroup": "",
         "line": {
          "color": "goldenrod",
          "dash": "solid",
          "width": 0.8400000000000001
         },
         "marker": {
          "symbol": "circle"
         },
         "mode": "lines",
         "name": "",
         "orientation": "v",
         "showlegend": false,
         "type": "scatter",
         "x": [
          -2.1971077960089653,
          -1.6919893283655745
         ],
         "xaxis": "x",
         "y": [
          0.5537450555629219,
          1.8956791741121943
         ],
         "yaxis": "y"
        },
        {
         "hovertemplate": "x=%{x}<br>y=%{y}<extra></extra>",
         "legendgroup": "",
         "line": {
          "color": "goldenrod",
          "dash": "solid",
          "width": 0.994
         },
         "marker": {
          "symbol": "circle"
         },
         "mode": "lines",
         "name": "",
         "orientation": "v",
         "showlegend": false,
         "type": "scatter",
         "x": [
          -8.525442177370545,
          -9.190364739165467
         ],
         "xaxis": "x",
         "y": [
          3.921165249197613,
          3.3565299947047897
         ],
         "yaxis": "y"
        },
        {
         "hovertemplate": "x=%{x}<br>y=%{y}<extra></extra>",
         "legendgroup": "",
         "line": {
          "color": "goldenrod",
          "dash": "solid",
          "width": 1.761
         },
         "marker": {
          "symbol": "circle"
         },
         "mode": "lines",
         "name": "",
         "orientation": "v",
         "showlegend": false,
         "type": "scatter",
         "x": [
          -8.538081194991275,
          -7.044002426746738
         ],
         "xaxis": "x",
         "y": [
          -8.207792710600934,
          -8.112592784114948
         ],
         "yaxis": "y"
        },
        {
         "hovertemplate": "x=%{x}<br>y=%{y}<extra></extra>",
         "legendgroup": "",
         "line": {
          "color": "goldenrod",
          "dash": "solid",
          "width": 1.553
         },
         "marker": {
          "symbol": "circle"
         },
         "mode": "lines",
         "name": "",
         "orientation": "v",
         "showlegend": false,
         "type": "scatter",
         "x": [
          -5.157648877658801,
          -6.830418616925616
         ],
         "xaxis": "x",
         "y": [
          7.609907627183155,
          7.539849762699349
         ],
         "yaxis": "y"
        },
        {
         "hovertemplate": "x=%{x}<br>y=%{y}<extra></extra>",
         "legendgroup": "",
         "line": {
          "color": "goldenrod",
          "dash": "solid",
          "width": 0.261
         },
         "marker": {
          "symbol": "circle"
         },
         "mode": "lines",
         "name": "",
         "orientation": "v",
         "showlegend": false,
         "type": "scatter",
         "x": [
          -6.616157175448263,
          -7.2604337634774385
         ],
         "xaxis": "x",
         "y": [
          -5.016342936296504,
          -5.858999074588611
         ],
         "yaxis": "y"
        },
        {
         "hovertemplate": "x=%{x}<br>y=%{y}<extra></extra>",
         "legendgroup": "",
         "line": {
          "color": "goldenrod",
          "dash": "solid",
          "width": 1.131
         },
         "marker": {
          "symbol": "circle"
         },
         "mode": "lines",
         "name": "",
         "orientation": "v",
         "showlegend": false,
         "type": "scatter",
         "x": [
          -5.157648877658801,
          -4.4019191982581205
         ],
         "xaxis": "x",
         "y": [
          7.609907627183155,
          5.857643843741266
         ],
         "yaxis": "y"
        },
        {
         "hovertemplate": "x=%{x}<br>y=%{y}<extra></extra>",
         "legendgroup": "",
         "line": {
          "color": "goldenrod",
          "dash": "solid",
          "width": 0.5780000000000001
         },
         "marker": {
          "symbol": "circle"
         },
         "mode": "lines",
         "name": "",
         "orientation": "v",
         "showlegend": false,
         "type": "scatter",
         "x": [
          -1.197639613684797,
          -1.594715992069604
         ],
         "xaxis": "x",
         "y": [
          4.678594556101104,
          3.8767505164391167
         ],
         "yaxis": "y"
        },
        {
         "hovertemplate": "x=%{x}<br>y=%{y}<extra></extra>",
         "legendgroup": "",
         "line": {
          "color": "goldenrod",
          "dash": "solid",
          "width": 1.5939999999999999
         },
         "marker": {
          "symbol": "circle"
         },
         "mode": "lines",
         "name": "",
         "orientation": "v",
         "showlegend": false,
         "type": "scatter",
         "x": [
          -2.1971077960089653,
          -1.719519304353873
         ],
         "xaxis": "x",
         "y": [
          0.5537450555629219,
          0.5909584184653083
         ],
         "yaxis": "y"
        }
       ],
       "layout": {
        "autosize": false,
        "height": 600,
        "shapes": [
         {
          "line": {
           "color": "blue",
           "width": 0.5
          },
          "type": "circle",
          "x0": -6.525442177370545,
          "x1": -10.525442177370545,
          "xref": "x",
          "y0": 5.921165249197613,
          "y1": 1.921165249197613,
          "yref": "y"
         },
         {
          "line": {
           "color": "blue",
           "width": 0.5
          },
          "type": "circle",
          "x0": 8.04878071751578,
          "x1": 4.048780717515781,
          "xref": "x",
          "y0": 8.53468713390113,
          "y1": 4.53468713390113,
          "yref": "y"
         },
         {
          "line": {
           "color": "blue",
           "width": 0.5
          },
          "type": "circle",
          "x0": 12.105989531246632,
          "x1": 8.105989531246632,
          "xref": "x",
          "y0": 7.057353363239005,
          "y1": 3.057353363239005,
          "yref": "y"
         },
         {
          "line": {
           "color": "blue",
           "width": 0.5
          },
          "type": "circle",
          "x0": 3.795575068551585,
          "x1": -0.204424931448415,
          "xref": "x",
          "y0": 5.774831900938844,
          "y1": 1.7748319009388438,
          "yref": "y"
         },
         {
          "line": {
           "color": "blue",
           "width": 0.5
          },
          "type": "circle",
          "x0": 0.8023603863152029,
          "x1": -3.197639613684797,
          "xref": "x",
          "y0": 6.678594556101104,
          "y1": 2.678594556101104,
          "yref": "y"
         },
         {
          "line": {
           "color": "blue",
           "width": 0.5
          },
          "type": "circle",
          "x0": -4.616157175448263,
          "x1": -8.616157175448263,
          "xref": "x",
          "y0": -3.016342936296504,
          "y1": -7.016342936296504,
          "yref": "y"
         },
         {
          "line": {
           "color": "blue",
           "width": 0.5
          },
          "type": "circle",
          "x0": -6.538081194991275,
          "x1": -10.538081194991275,
          "xref": "x",
          "y0": -6.207792710600934,
          "y1": -10.207792710600934,
          "yref": "y"
         },
         {
          "line": {
           "color": "blue",
           "width": 0.5
          },
          "type": "circle",
          "x0": 11.608322894869726,
          "x1": 7.608322894869726,
          "xref": "x",
          "y0": 3.188989721969656,
          "y1": -0.8110102780303441,
          "yref": "y"
         },
         {
          "line": {
           "color": "blue",
           "width": 0.5
          },
          "type": "circle",
          "x0": -0.19710779600896533,
          "x1": -4.197107796008965,
          "xref": "x",
          "y0": 2.553745055562922,
          "y1": -1.446254944437078,
          "yref": "y"
         },
         {
          "line": {
           "color": "blue",
           "width": 0.5
          },
          "type": "circle",
          "x0": -3.1576488776588008,
          "x1": -7.157648877658801,
          "xref": "x",
          "y0": 9.609907627183155,
          "y1": 5.609907627183155,
          "yref": "y"
         },
         {
          "line": {
           "color": "blue",
           "width": 0.5
          },
          "type": "circle",
          "x0": 2.790972222605731,
          "x1": -1.2090277773942686,
          "xref": "x",
          "y0": -4.537170661040974,
          "y1": -8.537170661040975,
          "yref": "y"
         },
         {
          "line": {
           "color": "blue",
           "width": 0.5
          },
          "type": "circle",
          "x0": -4.95440485568572,
          "x1": -8.95440485568572,
          "xref": "x",
          "y0": 0.42499129473105235,
          "y1": -3.5750087052689477,
          "yref": "y"
         }
        ],
        "template": {
         "data": {
          "bar": [
           {
            "error_x": {
             "color": "#2a3f5f"
            },
            "error_y": {
             "color": "#2a3f5f"
            },
            "marker": {
             "line": {
              "color": "#E5ECF6",
              "width": 0.5
             },
             "pattern": {
              "fillmode": "overlay",
              "size": 10,
              "solidity": 0.2
             }
            },
            "type": "bar"
           }
          ],
          "barpolar": [
           {
            "marker": {
             "line": {
              "color": "#E5ECF6",
              "width": 0.5
             },
             "pattern": {
              "fillmode": "overlay",
              "size": 10,
              "solidity": 0.2
             }
            },
            "type": "barpolar"
           }
          ],
          "carpet": [
           {
            "aaxis": {
             "endlinecolor": "#2a3f5f",
             "gridcolor": "white",
             "linecolor": "white",
             "minorgridcolor": "white",
             "startlinecolor": "#2a3f5f"
            },
            "baxis": {
             "endlinecolor": "#2a3f5f",
             "gridcolor": "white",
             "linecolor": "white",
             "minorgridcolor": "white",
             "startlinecolor": "#2a3f5f"
            },
            "type": "carpet"
           }
          ],
          "choropleth": [
           {
            "colorbar": {
             "outlinewidth": 0,
             "ticks": ""
            },
            "type": "choropleth"
           }
          ],
          "contour": [
           {
            "colorbar": {
             "outlinewidth": 0,
             "ticks": ""
            },
            "colorscale": [
             [
              0,
              "#0d0887"
             ],
             [
              0.1111111111111111,
              "#46039f"
             ],
             [
              0.2222222222222222,
              "#7201a8"
             ],
             [
              0.3333333333333333,
              "#9c179e"
             ],
             [
              0.4444444444444444,
              "#bd3786"
             ],
             [
              0.5555555555555556,
              "#d8576b"
             ],
             [
              0.6666666666666666,
              "#ed7953"
             ],
             [
              0.7777777777777778,
              "#fb9f3a"
             ],
             [
              0.8888888888888888,
              "#fdca26"
             ],
             [
              1,
              "#f0f921"
             ]
            ],
            "type": "contour"
           }
          ],
          "contourcarpet": [
           {
            "colorbar": {
             "outlinewidth": 0,
             "ticks": ""
            },
            "type": "contourcarpet"
           }
          ],
          "heatmap": [
           {
            "colorbar": {
             "outlinewidth": 0,
             "ticks": ""
            },
            "colorscale": [
             [
              0,
              "#0d0887"
             ],
             [
              0.1111111111111111,
              "#46039f"
             ],
             [
              0.2222222222222222,
              "#7201a8"
             ],
             [
              0.3333333333333333,
              "#9c179e"
             ],
             [
              0.4444444444444444,
              "#bd3786"
             ],
             [
              0.5555555555555556,
              "#d8576b"
             ],
             [
              0.6666666666666666,
              "#ed7953"
             ],
             [
              0.7777777777777778,
              "#fb9f3a"
             ],
             [
              0.8888888888888888,
              "#fdca26"
             ],
             [
              1,
              "#f0f921"
             ]
            ],
            "type": "heatmap"
           }
          ],
          "heatmapgl": [
           {
            "colorbar": {
             "outlinewidth": 0,
             "ticks": ""
            },
            "colorscale": [
             [
              0,
              "#0d0887"
             ],
             [
              0.1111111111111111,
              "#46039f"
             ],
             [
              0.2222222222222222,
              "#7201a8"
             ],
             [
              0.3333333333333333,
              "#9c179e"
             ],
             [
              0.4444444444444444,
              "#bd3786"
             ],
             [
              0.5555555555555556,
              "#d8576b"
             ],
             [
              0.6666666666666666,
              "#ed7953"
             ],
             [
              0.7777777777777778,
              "#fb9f3a"
             ],
             [
              0.8888888888888888,
              "#fdca26"
             ],
             [
              1,
              "#f0f921"
             ]
            ],
            "type": "heatmapgl"
           }
          ],
          "histogram": [
           {
            "marker": {
             "pattern": {
              "fillmode": "overlay",
              "size": 10,
              "solidity": 0.2
             }
            },
            "type": "histogram"
           }
          ],
          "histogram2d": [
           {
            "colorbar": {
             "outlinewidth": 0,
             "ticks": ""
            },
            "colorscale": [
             [
              0,
              "#0d0887"
             ],
             [
              0.1111111111111111,
              "#46039f"
             ],
             [
              0.2222222222222222,
              "#7201a8"
             ],
             [
              0.3333333333333333,
              "#9c179e"
             ],
             [
              0.4444444444444444,
              "#bd3786"
             ],
             [
              0.5555555555555556,
              "#d8576b"
             ],
             [
              0.6666666666666666,
              "#ed7953"
             ],
             [
              0.7777777777777778,
              "#fb9f3a"
             ],
             [
              0.8888888888888888,
              "#fdca26"
             ],
             [
              1,
              "#f0f921"
             ]
            ],
            "type": "histogram2d"
           }
          ],
          "histogram2dcontour": [
           {
            "colorbar": {
             "outlinewidth": 0,
             "ticks": ""
            },
            "colorscale": [
             [
              0,
              "#0d0887"
             ],
             [
              0.1111111111111111,
              "#46039f"
             ],
             [
              0.2222222222222222,
              "#7201a8"
             ],
             [
              0.3333333333333333,
              "#9c179e"
             ],
             [
              0.4444444444444444,
              "#bd3786"
             ],
             [
              0.5555555555555556,
              "#d8576b"
             ],
             [
              0.6666666666666666,
              "#ed7953"
             ],
             [
              0.7777777777777778,
              "#fb9f3a"
             ],
             [
              0.8888888888888888,
              "#fdca26"
             ],
             [
              1,
              "#f0f921"
             ]
            ],
            "type": "histogram2dcontour"
           }
          ],
          "mesh3d": [
           {
            "colorbar": {
             "outlinewidth": 0,
             "ticks": ""
            },
            "type": "mesh3d"
           }
          ],
          "parcoords": [
           {
            "line": {
             "colorbar": {
              "outlinewidth": 0,
              "ticks": ""
             }
            },
            "type": "parcoords"
           }
          ],
          "pie": [
           {
            "automargin": true,
            "type": "pie"
           }
          ],
          "scatter": [
           {
            "marker": {
             "colorbar": {
              "outlinewidth": 0,
              "ticks": ""
             }
            },
            "type": "scatter"
           }
          ],
          "scatter3d": [
           {
            "line": {
             "colorbar": {
              "outlinewidth": 0,
              "ticks": ""
             }
            },
            "marker": {
             "colorbar": {
              "outlinewidth": 0,
              "ticks": ""
             }
            },
            "type": "scatter3d"
           }
          ],
          "scattercarpet": [
           {
            "marker": {
             "colorbar": {
              "outlinewidth": 0,
              "ticks": ""
             }
            },
            "type": "scattercarpet"
           }
          ],
          "scattergeo": [
           {
            "marker": {
             "colorbar": {
              "outlinewidth": 0,
              "ticks": ""
             }
            },
            "type": "scattergeo"
           }
          ],
          "scattergl": [
           {
            "marker": {
             "colorbar": {
              "outlinewidth": 0,
              "ticks": ""
             }
            },
            "type": "scattergl"
           }
          ],
          "scattermapbox": [
           {
            "marker": {
             "colorbar": {
              "outlinewidth": 0,
              "ticks": ""
             }
            },
            "type": "scattermapbox"
           }
          ],
          "scatterpolar": [
           {
            "marker": {
             "colorbar": {
              "outlinewidth": 0,
              "ticks": ""
             }
            },
            "type": "scatterpolar"
           }
          ],
          "scatterpolargl": [
           {
            "marker": {
             "colorbar": {
              "outlinewidth": 0,
              "ticks": ""
             }
            },
            "type": "scatterpolargl"
           }
          ],
          "scatterternary": [
           {
            "marker": {
             "colorbar": {
              "outlinewidth": 0,
              "ticks": ""
             }
            },
            "type": "scatterternary"
           }
          ],
          "surface": [
           {
            "colorbar": {
             "outlinewidth": 0,
             "ticks": ""
            },
            "colorscale": [
             [
              0,
              "#0d0887"
             ],
             [
              0.1111111111111111,
              "#46039f"
             ],
             [
              0.2222222222222222,
              "#7201a8"
             ],
             [
              0.3333333333333333,
              "#9c179e"
             ],
             [
              0.4444444444444444,
              "#bd3786"
             ],
             [
              0.5555555555555556,
              "#d8576b"
             ],
             [
              0.6666666666666666,
              "#ed7953"
             ],
             [
              0.7777777777777778,
              "#fb9f3a"
             ],
             [
              0.8888888888888888,
              "#fdca26"
             ],
             [
              1,
              "#f0f921"
             ]
            ],
            "type": "surface"
           }
          ],
          "table": [
           {
            "cells": {
             "fill": {
              "color": "#EBF0F8"
             },
             "line": {
              "color": "white"
             }
            },
            "header": {
             "fill": {
              "color": "#C8D4E3"
             },
             "line": {
              "color": "white"
             }
            },
            "type": "table"
           }
          ]
         },
         "layout": {
          "annotationdefaults": {
           "arrowcolor": "#2a3f5f",
           "arrowhead": 0,
           "arrowwidth": 1
          },
          "autotypenumbers": "strict",
          "coloraxis": {
           "colorbar": {
            "outlinewidth": 0,
            "ticks": ""
           }
          },
          "colorscale": {
           "diverging": [
            [
             0,
             "#8e0152"
            ],
            [
             0.1,
             "#c51b7d"
            ],
            [
             0.2,
             "#de77ae"
            ],
            [
             0.3,
             "#f1b6da"
            ],
            [
             0.4,
             "#fde0ef"
            ],
            [
             0.5,
             "#f7f7f7"
            ],
            [
             0.6,
             "#e6f5d0"
            ],
            [
             0.7,
             "#b8e186"
            ],
            [
             0.8,
             "#7fbc41"
            ],
            [
             0.9,
             "#4d9221"
            ],
            [
             1,
             "#276419"
            ]
           ],
           "sequential": [
            [
             0,
             "#0d0887"
            ],
            [
             0.1111111111111111,
             "#46039f"
            ],
            [
             0.2222222222222222,
             "#7201a8"
            ],
            [
             0.3333333333333333,
             "#9c179e"
            ],
            [
             0.4444444444444444,
             "#bd3786"
            ],
            [
             0.5555555555555556,
             "#d8576b"
            ],
            [
             0.6666666666666666,
             "#ed7953"
            ],
            [
             0.7777777777777778,
             "#fb9f3a"
            ],
            [
             0.8888888888888888,
             "#fdca26"
            ],
            [
             1,
             "#f0f921"
            ]
           ],
           "sequentialminus": [
            [
             0,
             "#0d0887"
            ],
            [
             0.1111111111111111,
             "#46039f"
            ],
            [
             0.2222222222222222,
             "#7201a8"
            ],
            [
             0.3333333333333333,
             "#9c179e"
            ],
            [
             0.4444444444444444,
             "#bd3786"
            ],
            [
             0.5555555555555556,
             "#d8576b"
            ],
            [
             0.6666666666666666,
             "#ed7953"
            ],
            [
             0.7777777777777778,
             "#fb9f3a"
            ],
            [
             0.8888888888888888,
             "#fdca26"
            ],
            [
             1,
             "#f0f921"
            ]
           ]
          },
          "colorway": [
           "#636efa",
           "#EF553B",
           "#00cc96",
           "#ab63fa",
           "#FFA15A",
           "#19d3f3",
           "#FF6692",
           "#B6E880",
           "#FF97FF",
           "#FECB52"
          ],
          "font": {
           "color": "#2a3f5f"
          },
          "geo": {
           "bgcolor": "white",
           "lakecolor": "white",
           "landcolor": "#E5ECF6",
           "showlakes": true,
           "showland": true,
           "subunitcolor": "white"
          },
          "hoverlabel": {
           "align": "left"
          },
          "hovermode": "closest",
          "mapbox": {
           "style": "light"
          },
          "paper_bgcolor": "white",
          "plot_bgcolor": "#E5ECF6",
          "polar": {
           "angularaxis": {
            "gridcolor": "white",
            "linecolor": "white",
            "ticks": ""
           },
           "bgcolor": "#E5ECF6",
           "radialaxis": {
            "gridcolor": "white",
            "linecolor": "white",
            "ticks": ""
           }
          },
          "scene": {
           "xaxis": {
            "backgroundcolor": "#E5ECF6",
            "gridcolor": "white",
            "gridwidth": 2,
            "linecolor": "white",
            "showbackground": true,
            "ticks": "",
            "zerolinecolor": "white"
           },
           "yaxis": {
            "backgroundcolor": "#E5ECF6",
            "gridcolor": "white",
            "gridwidth": 2,
            "linecolor": "white",
            "showbackground": true,
            "ticks": "",
            "zerolinecolor": "white"
           },
           "zaxis": {
            "backgroundcolor": "#E5ECF6",
            "gridcolor": "white",
            "gridwidth": 2,
            "linecolor": "white",
            "showbackground": true,
            "ticks": "",
            "zerolinecolor": "white"
           }
          },
          "shapedefaults": {
           "line": {
            "color": "#2a3f5f"
           }
          },
          "ternary": {
           "aaxis": {
            "gridcolor": "white",
            "linecolor": "white",
            "ticks": ""
           },
           "baxis": {
            "gridcolor": "white",
            "linecolor": "white",
            "ticks": ""
           },
           "bgcolor": "#E5ECF6",
           "caxis": {
            "gridcolor": "white",
            "linecolor": "white",
            "ticks": ""
           }
          },
          "title": {
           "x": 0.05
          },
          "xaxis": {
           "automargin": true,
           "gridcolor": "white",
           "linecolor": "white",
           "ticks": "",
           "title": {
            "standoff": 15
           },
           "zerolinecolor": "white",
           "zerolinewidth": 2
          },
          "yaxis": {
           "automargin": true,
           "gridcolor": "white",
           "linecolor": "white",
           "ticks": "",
           "title": {
            "standoff": 15
           },
           "zerolinecolor": "white",
           "zerolinewidth": 2
          }
         }
        },
        "width": 600,
        "xaxis": {
         "autorange": true,
         "range": [
          -12.023621064964965,
          12.122348589277962
         ],
         "type": "linear"
        },
        "yaxis": {
         "autorange": true,
         "range": [
          -12.642593091553527,
          11.035432197177984
         ],
         "type": "linear"
        }
       }
      },
      "image/png": "[encoded data removed]",
      "text/html": [
       "<div>                            <div id=\"81ce5882-d917-419d-99fa-8026de90e550\" class=\"plotly-graph-div\" style=\"height:600px; width:600px;\"></div>            <script type=\"text/javascript\">                require([\"plotly\"], function(Plotly) {                    window.PLOTLYENV=window.PLOTLYENV || {};                                    if (document.getElementById(\"81ce5882-d917-419d-99fa-8026de90e550\")) {                    Plotly.newPlot(                        \"81ce5882-d917-419d-99fa-8026de90e550\",                        [{\"hovertemplate\":\"Type=Nichts gebaut<br>x=%{x}<br>y=%{y}<extra></extra>\",\"legendgroup\":\"Nichts gebaut\",\"marker\":{\"color\":\"grey\",\"symbol\":\"circle\"},\"mode\":\"markers\",\"name\":\"Nichts gebaut\",\"orientation\":\"v\",\"showlegend\":true,\"x\":[-1.8091319324683977,7.16798487034364,-4.556355115803766,3.446520328819933,3.1447262264886504,3.462633043379101,-7.101846628907806,-6.998474210378397,-6.311425341000192,8.565524433910793,-8.809340390055578,-2.7696529005738064,0.4694108179328375,8.152452021936224,8.326019727518302,-9.471327050033745,-0.2864407232133547,-3.770384399165288,-5.874311522268608,-7.314993538730524,-10.23962094774063,4.72087244288382,8.57474962601013,-2.5475370397857784,-0.8121369708510815,6.113093527622288,-1.528028332774784,-10.17086526982914,2.720724990736545,8.675579172250451,6.873814289066839,-9.610587746576762,5.725327052268948,3.718416695688463,-10.57093671178287,3.976385389046945,-5.665559470514851,-7.161120329013925],\"xaxis\":\"x\",\"y\":[2.853719781969376,1.176478843259178,-6.108396489260648,7.854972091371471,-5.94959030046699,-2.134908262857944,0.1878155912393983,6.698196483268343,-7.059795575502531,-4.720665625585216,-1.388234760523893,8.147580925421302,-9.42494120227329,2.9421526887453937,8.42230604631836,1.2969384370813923,0.3189138807057668,3.9081099894288607,-3.150021186588372,8.812606521626213,3.678194864876825,3.761148791658832,-8.256638890070827,-7.5442464964564175,9.640119992663449,-3.21533816537094,-5.703624861431083,-3.819249045718005,1.2410528256477422,-2.1696906382234884,-6.610241193702287,6.334545018606549,9.519738392030982,-0.2878902478785006,-11.247280887038992,-3.785101886253399,5.644232044245448,-9.350109289043074],\"yaxis\":\"y\",\"type\":\"scatter\"},{\"hovertemplate\":\"Type=Mittel gebaut<br>x=%{x}<br>y=%{y}<extra></extra>\",\"legendgroup\":\"Mittel gebaut\",\"marker\":{\"color\":\"green\",\"symbol\":\"circle\"},\"mode\":\"markers\",\"name\":\"Mittel gebaut\",\"orientation\":\"v\",\"showlegend\":true,\"x\":[-8.525442177370545,6.048780717515781,1.795575068551585,-6.616157175448263,-8.538081194991275,-5.157648877658801,-6.95440485568572],\"xaxis\":\"x\",\"y\":[3.921165249197613,6.53468713390113,3.774831900938844,-5.016342936296504,-8.207792710600934,7.609907627183155,-1.5750087052689477],\"yaxis\":\"y\",\"type\":\"scatter\"},{\"hovertemplate\":\"Type=Klein gebaut<br>x=%{x}<br>y=%{y}<extra></extra>\",\"legendgroup\":\"Klein gebaut\",\"marker\":{\"color\":\"lightgreen\",\"symbol\":\"circle\"},\"mode\":\"markers\",\"name\":\"Klein gebaut\",\"orientation\":\"v\",\"showlegend\":true,\"x\":[10.105989531246632,-1.197639613684797,9.608322894869726,0.7909722226057314],\"xaxis\":\"x\",\"y\":[5.057353363239005,4.678594556101104,1.188989721969656,-6.537170661040974],\"yaxis\":\"y\",\"type\":\"scatter\"},{\"hovertemplate\":\"Type=Gro\\u00df gebaut<br>x=%{x}<br>y=%{y}<extra></extra>\",\"legendgroup\":\"Gro\\u00df gebaut\",\"marker\":{\"color\":\"darkgreen\",\"symbol\":\"circle\"},\"mode\":\"markers\",\"name\":\"Gro\\u00df gebaut\",\"orientation\":\"v\",\"showlegend\":true,\"x\":[-2.1971077960089653],\"xaxis\":\"x\",\"y\":[0.5537450555629219],\"yaxis\":\"y\",\"type\":\"scatter\"},{\"hovertemplate\":\"Type=Stadtteil<br>x=%{x}<br>y=%{y}<extra></extra>\",\"legendgroup\":\"Stadtteil\",\"marker\":{\"color\":\"blue\",\"symbol\":\"circle\"},\"mode\":\"markers\",\"name\":\"Stadtteil\",\"orientation\":\"v\",\"showlegend\":true,\"x\":[-2.617840157776385,9.65306638123296,-5.671189748744199,-9.361196097890147,3.5400249473088787,-1.5448943603027705,-7.986294289641393,1.319128230042547,5.957451212991796,-5.585214509723528,8.071228351273826,-8.075068857279016,-4.021647637503319,9.230502065874434,1.845050423166444,-9.87172731595614,3.507239224556322,-3.700565566845107,-6.292097260027692,-10.059521427160908,-0.0254444972172649,7.379701182132219,-1.6919893283655745,-9.190364739165467,-7.044002426746738,-6.830418616925616,-7.2604337634774385,-4.4019191982581205,-1.594715992069604,-1.719519304353873],\"xaxis\":\"x\",\"y\":[1.1988524543522276,5.069990630892894,-4.435683034912494,5.234105285493201,-3.451380988212498,4.949029812352362,-1.3219135850635109,-7.134205762142999,9.318825818978738,7.39824151186475,-4.100717587582418,-9.402149773910192,-7.302849330565328,0.6219632851819383,3.885980643894202,-3.906247959697773,6.737987412380432,3.997637802606329,-3.145107694302765,3.819182505242558,-8.872196774548843,8.025290852149771,1.8956791741121943,3.3565299947047897,-8.112592784114948,7.539849762699349,-5.858999074588611,5.857643843741266,3.8767505164391167,0.5909584184653083],\"yaxis\":\"y\",\"type\":\"scatter\"},{\"hovertemplate\":\"x=%{x}<br>y=%{y}<extra></extra>\",\"legendgroup\":\"\",\"line\":{\"color\":\"goldenrod\",\"dash\":\"solid\",\"width\":1.5660000000000003},\"marker\":{\"symbol\":\"circle\"},\"mode\":\"lines\",\"name\":\"\",\"orientation\":\"v\",\"showlegend\":false,\"x\":[-2.1971077960089653,-2.617840157776385],\"xaxis\":\"x\",\"y\":[0.5537450555629219,1.1988524543522276],\"yaxis\":\"y\",\"type\":\"scatter\"},{\"hovertemplate\":\"x=%{x}<br>y=%{y}<extra></extra>\",\"legendgroup\":\"\",\"line\":{\"color\":\"goldenrod\",\"dash\":\"solid\",\"width\":1.0},\"marker\":{\"symbol\":\"circle\"},\"mode\":\"lines\",\"name\":\"\",\"orientation\":\"v\",\"showlegend\":false,\"x\":[10.105989531246632,9.65306638123296],\"xaxis\":\"x\",\"y\":[5.057353363239005,5.069990630892894],\"yaxis\":\"y\",\"type\":\"scatter\"},{\"hovertemplate\":\"x=%{x}<br>y=%{y}<extra></extra>\",\"legendgroup\":\"\",\"line\":{\"color\":\"goldenrod\",\"dash\":\"solid\",\"width\":1.393},\"marker\":{\"symbol\":\"circle\"},\"mode\":\"lines\",\"name\":\"\",\"orientation\":\"v\",\"showlegend\":false,\"x\":[-6.616157175448263,-5.671189748744199],\"xaxis\":\"x\",\"y\":[-5.016342936296504,-4.435683034912494],\"yaxis\":\"y\",\"type\":\"scatter\"},{\"hovertemplate\":\"x=%{x}<br>y=%{y}<extra></extra>\",\"legendgroup\":\"\",\"line\":{\"color\":\"goldenrod\",\"dash\":\"solid\",\"width\":0.649},\"marker\":{\"symbol\":\"circle\"},\"mode\":\"lines\",\"name\":\"\",\"orientation\":\"v\",\"showlegend\":false,\"x\":[-8.525442177370545,-9.361196097890147],\"xaxis\":\"x\",\"y\":[3.921165249197613,5.234105285493201],\"yaxis\":\"y\",\"type\":\"scatter\"},{\"hovertemplate\":\"x=%{x}<br>y=%{y}<extra></extra>\",\"legendgroup\":\"\",\"line\":{\"color\":\"goldenrod\",\"dash\":\"solid\",\"width\":0.422},\"marker\":{\"symbol\":\"circle\"},\"mode\":\"lines\",\"name\":\"\",\"orientation\":\"v\",\"showlegend\":false,\"x\":[-1.197639613684797,-1.5448943603027705],\"xaxis\":\"x\",\"y\":[4.678594556101104,4.949029812352362],\"yaxis\":\"y\",\"type\":\"scatter\"},{\"hovertemplate\":\"x=%{x}<br>y=%{y}<extra></extra>\",\"legendgroup\":\"\",\"line\":{\"color\":\"goldenrod\",\"dash\":\"solid\",\"width\":1.714},\"marker\":{\"symbol\":\"circle\"},\"mode\":\"lines\",\"name\":\"\",\"orientation\":\"v\",\"showlegend\":false,\"x\":[-6.95440485568572,-7.986294289641393],\"xaxis\":\"x\",\"y\":[-1.5750087052689477,-1.3219135850635109],\"yaxis\":\"y\",\"type\":\"scatter\"},{\"hovertemplate\":\"x=%{x}<br>y=%{y}<extra></extra>\",\"legendgroup\":\"\",\"line\":{\"color\":\"goldenrod\",\"dash\":\"solid\",\"width\":1.0},\"marker\":{\"symbol\":\"circle\"},\"mode\":\"lines\",\"name\":\"\",\"orientation\":\"v\",\"showlegend\":false,\"x\":[0.7909722226057314,1.319128230042547],\"xaxis\":\"x\",\"y\":[-6.537170661040974,-7.134205762142999],\"yaxis\":\"y\",\"type\":\"scatter\"},{\"hovertemplate\":\"x=%{x}<br>y=%{y}<extra></extra>\",\"legendgroup\":\"\",\"line\":{\"color\":\"goldenrod\",\"dash\":\"solid\",\"width\":0.265},\"marker\":{\"symbol\":\"circle\"},\"mode\":\"lines\",\"name\":\"\",\"orientation\":\"v\",\"showlegend\":false,\"x\":[-5.157648877658801,-5.585214509723528],\"xaxis\":\"x\",\"y\":[7.609907627183155,7.39824151186475],\"yaxis\":\"y\",\"type\":\"scatter\"},{\"hovertemplate\":\"x=%{x}<br>y=%{y}<extra></extra>\",\"legendgroup\":\"\",\"line\":{\"color\":\"goldenrod\",\"dash\":\"solid\",\"width\":1.239},\"marker\":{\"symbol\":\"circle\"},\"mode\":\"lines\",\"name\":\"\",\"orientation\":\"v\",\"showlegend\":false,\"x\":[-8.538081194991275,-8.075068857279016],\"xaxis\":\"x\",\"y\":[-8.207792710600934,-9.402149773910192],\"yaxis\":\"y\",\"type\":\"scatter\"},{\"hovertemplate\":\"x=%{x}<br>y=%{y}<extra></extra>\",\"legendgroup\":\"\",\"line\":{\"color\":\"goldenrod\",\"dash\":\"solid\",\"width\":1.0},\"marker\":{\"symbol\":\"circle\"},\"mode\":\"lines\",\"name\":\"\",\"orientation\":\"v\",\"showlegend\":false,\"x\":[9.608322894869726,9.230502065874434],\"xaxis\":\"x\",\"y\":[1.188989721969656,0.6219632851819383],\"yaxis\":\"y\",\"type\":\"scatter\"},{\"hovertemplate\":\"x=%{x}<br>y=%{y}<extra></extra>\",\"legendgroup\":\"\",\"line\":{\"color\":\"goldenrod\",\"dash\":\"solid\",\"width\":1.9950000000000003},\"marker\":{\"symbol\":\"circle\"},\"mode\":\"lines\",\"name\":\"\",\"orientation\":\"v\",\"showlegend\":false,\"x\":[1.795575068551585,1.845050423166444],\"xaxis\":\"x\",\"y\":[3.774831900938844,3.885980643894202],\"yaxis\":\"y\",\"type\":\"scatter\"},{\"hovertemplate\":\"x=%{x}<br>y=%{y}<extra></extra>\",\"legendgroup\":\"\",\"line\":{\"color\":\"goldenrod\",\"dash\":\"solid\",\"width\":0.609},\"marker\":{\"symbol\":\"circle\"},\"mode\":\"lines\",\"name\":\"\",\"orientation\":\"v\",\"showlegend\":false,\"x\":[-6.616157175448263,-6.292097260027692],\"xaxis\":\"x\",\"y\":[-5.016342936296504,-3.145107694302765],\"yaxis\":\"y\",\"type\":\"scatter\"},{\"hovertemplate\":\"x=%{x}<br>y=%{y}<extra></extra>\",\"legendgroup\":\"\",\"line\":{\"color\":\"goldenrod\",\"dash\":\"solid\",\"width\":0.396},\"marker\":{\"symbol\":\"circle\"},\"mode\":\"lines\",\"name\":\"\",\"orientation\":\"v\",\"showlegend\":false,\"x\":[-8.525442177370545,-10.059521427160908],\"xaxis\":\"x\",\"y\":[3.921165249197613,3.819182505242558],\"yaxis\":\"y\",\"type\":\"scatter\"},{\"hovertemplate\":\"x=%{x}<br>y=%{y}<extra></extra>\",\"legendgroup\":\"\",\"line\":{\"color\":\"goldenrod\",\"dash\":\"solid\",\"width\":1.7739999999999998},\"marker\":{\"symbol\":\"circle\"},\"mode\":\"lines\",\"name\":\"\",\"orientation\":\"v\",\"showlegend\":false,\"x\":[6.048780717515781,7.379701182132219],\"xaxis\":\"x\",\"y\":[6.53468713390113,8.025290852149771],\"yaxis\":\"y\",\"type\":\"scatter\"},{\"hovertemplate\":\"x=%{x}<br>y=%{y}<extra></extra>\",\"legendgroup\":\"\",\"line\":{\"color\":\"goldenrod\",\"dash\":\"solid\",\"width\":0.8400000000000001},\"marker\":{\"symbol\":\"circle\"},\"mode\":\"lines\",\"name\":\"\",\"orientation\":\"v\",\"showlegend\":false,\"x\":[-2.1971077960089653,-1.6919893283655745],\"xaxis\":\"x\",\"y\":[0.5537450555629219,1.8956791741121943],\"yaxis\":\"y\",\"type\":\"scatter\"},{\"hovertemplate\":\"x=%{x}<br>y=%{y}<extra></extra>\",\"legendgroup\":\"\",\"line\":{\"color\":\"goldenrod\",\"dash\":\"solid\",\"width\":0.994},\"marker\":{\"symbol\":\"circle\"},\"mode\":\"lines\",\"name\":\"\",\"orientation\":\"v\",\"showlegend\":false,\"x\":[-8.525442177370545,-9.190364739165467],\"xaxis\":\"x\",\"y\":[3.921165249197613,3.3565299947047897],\"yaxis\":\"y\",\"type\":\"scatter\"},{\"hovertemplate\":\"x=%{x}<br>y=%{y}<extra></extra>\",\"legendgroup\":\"\",\"line\":{\"color\":\"goldenrod\",\"dash\":\"solid\",\"width\":1.761},\"marker\":{\"symbol\":\"circle\"},\"mode\":\"lines\",\"name\":\"\",\"orientation\":\"v\",\"showlegend\":false,\"x\":[-8.538081194991275,-7.044002426746738],\"xaxis\":\"x\",\"y\":[-8.207792710600934,-8.112592784114948],\"yaxis\":\"y\",\"type\":\"scatter\"},{\"hovertemplate\":\"x=%{x}<br>y=%{y}<extra></extra>\",\"legendgroup\":\"\",\"line\":{\"color\":\"goldenrod\",\"dash\":\"solid\",\"width\":1.553},\"marker\":{\"symbol\":\"circle\"},\"mode\":\"lines\",\"name\":\"\",\"orientation\":\"v\",\"showlegend\":false,\"x\":[-5.157648877658801,-6.830418616925616],\"xaxis\":\"x\",\"y\":[7.609907627183155,7.539849762699349],\"yaxis\":\"y\",\"type\":\"scatter\"},{\"hovertemplate\":\"x=%{x}<br>y=%{y}<extra></extra>\",\"legendgroup\":\"\",\"line\":{\"color\":\"goldenrod\",\"dash\":\"solid\",\"width\":0.261},\"marker\":{\"symbol\":\"circle\"},\"mode\":\"lines\",\"name\":\"\",\"orientation\":\"v\",\"showlegend\":false,\"x\":[-6.616157175448263,-7.2604337634774385],\"xaxis\":\"x\",\"y\":[-5.016342936296504,-5.858999074588611],\"yaxis\":\"y\",\"type\":\"scatter\"},{\"hovertemplate\":\"x=%{x}<br>y=%{y}<extra></extra>\",\"legendgroup\":\"\",\"line\":{\"color\":\"goldenrod\",\"dash\":\"solid\",\"width\":1.131},\"marker\":{\"symbol\":\"circle\"},\"mode\":\"lines\",\"name\":\"\",\"orientation\":\"v\",\"showlegend\":false,\"x\":[-5.157648877658801,-4.4019191982581205],\"xaxis\":\"x\",\"y\":[7.609907627183155,5.857643843741266],\"yaxis\":\"y\",\"type\":\"scatter\"},{\"hovertemplate\":\"x=%{x}<br>y=%{y}<extra></extra>\",\"legendgroup\":\"\",\"line\":{\"color\":\"goldenrod\",\"dash\":\"solid\",\"width\":0.5780000000000001},\"marker\":{\"symbol\":\"circle\"},\"mode\":\"lines\",\"name\":\"\",\"orientation\":\"v\",\"showlegend\":false,\"x\":[-1.197639613684797,-1.594715992069604],\"xaxis\":\"x\",\"y\":[4.678594556101104,3.8767505164391167],\"yaxis\":\"y\",\"type\":\"scatter\"},{\"hovertemplate\":\"x=%{x}<br>y=%{y}<extra></extra>\",\"legendgroup\":\"\",\"line\":{\"color\":\"goldenrod\",\"dash\":\"solid\",\"width\":1.5939999999999999},\"marker\":{\"symbol\":\"circle\"},\"mode\":\"lines\",\"name\":\"\",\"orientation\":\"v\",\"showlegend\":false,\"x\":[-2.1971077960089653,-1.719519304353873],\"xaxis\":\"x\",\"y\":[0.5537450555629219,0.5909584184653083],\"yaxis\":\"y\",\"type\":\"scatter\"}],                        {\"template\":{\"data\":{\"bar\":[{\"error_x\":{\"color\":\"#2a3f5f\"},\"error_y\":{\"color\":\"#2a3f5f\"},\"marker\":{\"line\":{\"color\":\"#E5ECF6\",\"width\":0.5},\"pattern\":{\"fillmode\":\"overlay\",\"size\":10,\"solidity\":0.2}},\"type\":\"bar\"}],\"barpolar\":[{\"marker\":{\"line\":{\"color\":\"#E5ECF6\",\"width\":0.5},\"pattern\":{\"fillmode\":\"overlay\",\"size\":10,\"solidity\":0.2}},\"type\":\"barpolar\"}],\"carpet\":[{\"aaxis\":{\"endlinecolor\":\"#2a3f5f\",\"gridcolor\":\"white\",\"linecolor\":\"white\",\"minorgridcolor\":\"white\",\"startlinecolor\":\"#2a3f5f\"},\"baxis\":{\"endlinecolor\":\"#2a3f5f\",\"gridcolor\":\"white\",\"linecolor\":\"white\",\"minorgridcolor\":\"white\",\"startlinecolor\":\"#2a3f5f\"},\"type\":\"carpet\"}],\"choropleth\":[{\"colorbar\":{\"outlinewidth\":0,\"ticks\":\"\"},\"type\":\"choropleth\"}],\"contour\":[{\"colorbar\":{\"outlinewidth\":0,\"ticks\":\"\"},\"colorscale\":[[0.0,\"#0d0887\"],[0.1111111111111111,\"#46039f\"],[0.2222222222222222,\"#7201a8\"],[0.3333333333333333,\"#9c179e\"],[0.4444444444444444,\"#bd3786\"],[0.5555555555555556,\"#d8576b\"],[0.6666666666666666,\"#ed7953\"],[0.7777777777777778,\"#fb9f3a\"],[0.8888888888888888,\"#fdca26\"],[1.0,\"#f0f921\"]],\"type\":\"contour\"}],\"contourcarpet\":[{\"colorbar\":{\"outlinewidth\":0,\"ticks\":\"\"},\"type\":\"contourcarpet\"}],\"heatmap\":[{\"colorbar\":{\"outlinewidth\":0,\"ticks\":\"\"},\"colorscale\":[[0.0,\"#0d0887\"],[0.1111111111111111,\"#46039f\"],[0.2222222222222222,\"#7201a8\"],[0.3333333333333333,\"#9c179e\"],[0.4444444444444444,\"#bd3786\"],[0.5555555555555556,\"#d8576b\"],[0.6666666666666666,\"#ed7953\"],[0.7777777777777778,\"#fb9f3a\"],[0.8888888888888888,\"#fdca26\"],[1.0,\"#f0f921\"]],\"type\":\"heatmap\"}],\"heatmapgl\":[{\"colorbar\":{\"outlinewidth\":0,\"ticks\":\"\"},\"colorscale\":[[0.0,\"#0d0887\"],[0.1111111111111111,\"#46039f\"],[0.2222222222222222,\"#7201a8\"],[0.3333333333333333,\"#9c179e\"],[0.4444444444444444,\"#bd3786\"],[0.5555555555555556,\"#d8576b\"],[0.6666666666666666,\"#ed7953\"],[0.7777777777777778,\"#fb9f3a\"],[0.8888888888888888,\"#fdca26\"],[1.0,\"#f0f921\"]],\"type\":\"heatmapgl\"}],\"histogram\":[{\"marker\":{\"pattern\":{\"fillmode\":\"overlay\",\"size\":10,\"solidity\":0.2}},\"type\":\"histogram\"}],\"histogram2d\":[{\"colorbar\":{\"outlinewidth\":0,\"ticks\":\"\"},\"colorscale\":[[0.0,\"#0d0887\"],[0.1111111111111111,\"#46039f\"],[0.2222222222222222,\"#7201a8\"],[0.3333333333333333,\"#9c179e\"],[0.4444444444444444,\"#bd3786\"],[0.5555555555555556,\"#d8576b\"],[0.6666666666666666,\"#ed7953\"],[0.7777777777777778,\"#fb9f3a\"],[0.8888888888888888,\"#fdca26\"],[1.0,\"#f0f921\"]],\"type\":\"histogram2d\"}],\"histogram2dcontour\":[{\"colorbar\":{\"outlinewidth\":0,\"ticks\":\"\"},\"colorscale\":[[0.0,\"#0d0887\"],[0.1111111111111111,\"#46039f\"],[0.2222222222222222,\"#7201a8\"],[0.3333333333333333,\"#9c179e\"],[0.4444444444444444,\"#bd3786\"],[0.5555555555555556,\"#d8576b\"],[0.6666666666666666,\"#ed7953\"],[0.7777777777777778,\"#fb9f3a\"],[0.8888888888888888,\"#fdca26\"],[1.0,\"#f0f921\"]],\"type\":\"histogram2dcontour\"}],\"mesh3d\":[{\"colorbar\":{\"outlinewidth\":0,\"ticks\":\"\"},\"type\":\"mesh3d\"}],\"parcoords\":[{\"line\":{\"colorbar\":{\"outlinewidth\":0,\"ticks\":\"\"}},\"type\":\"parcoords\"}],\"pie\":[{\"automargin\":true,\"type\":\"pie\"}],\"scatter\":[{\"marker\":{\"colorbar\":{\"outlinewidth\":0,\"ticks\":\"\"}},\"type\":\"scatter\"}],\"scatter3d\":[{\"line\":{\"colorbar\":{\"outlinewidth\":0,\"ticks\":\"\"}},\"marker\":{\"colorbar\":{\"outlinewidth\":0,\"ticks\":\"\"}},\"type\":\"scatter3d\"}],\"scattercarpet\":[{\"marker\":{\"colorbar\":{\"outlinewidth\":0,\"ticks\":\"\"}},\"type\":\"scattercarpet\"}],\"scattergeo\":[{\"marker\":{\"colorbar\":{\"outlinewidth\":0,\"ticks\":\"\"}},\"type\":\"scattergeo\"}],\"scattergl\":[{\"marker\":{\"colorbar\":{\"outlinewidth\":0,\"ticks\":\"\"}},\"type\":\"scattergl\"}],\"scattermapbox\":[{\"marker\":{\"colorbar\":{\"outlinewidth\":0,\"ticks\":\"\"}},\"type\":\"scattermapbox\"}],\"scatterpolar\":[{\"marker\":{\"colorbar\":{\"outlinewidth\":0,\"ticks\":\"\"}},\"type\":\"scatterpolar\"}],\"scatterpolargl\":[{\"marker\":{\"colorbar\":{\"outlinewidth\":0,\"ticks\":\"\"}},\"type\":\"scatterpolargl\"}],\"scatterternary\":[{\"marker\":{\"colorbar\":{\"outlinewidth\":0,\"ticks\":\"\"}},\"type\":\"scatterternary\"}],\"surface\":[{\"colorbar\":{\"outlinewidth\":0,\"ticks\":\"\"},\"colorscale\":[[0.0,\"#0d0887\"],[0.1111111111111111,\"#46039f\"],[0.2222222222222222,\"#7201a8\"],[0.3333333333333333,\"#9c179e\"],[0.4444444444444444,\"#bd3786\"],[0.5555555555555556,\"#d8576b\"],[0.6666666666666666,\"#ed7953\"],[0.7777777777777778,\"#fb9f3a\"],[0.8888888888888888,\"#fdca26\"],[1.0,\"#f0f921\"]],\"type\":\"surface\"}],\"table\":[{\"cells\":{\"fill\":{\"color\":\"#EBF0F8\"},\"line\":{\"color\":\"white\"}},\"header\":{\"fill\":{\"color\":\"#C8D4E3\"},\"line\":{\"color\":\"white\"}},\"type\":\"table\"}]},\"layout\":{\"annotationdefaults\":{\"arrowcolor\":\"#2a3f5f\",\"arrowhead\":0,\"arrowwidth\":1},\"autotypenumbers\":\"strict\",\"coloraxis\":{\"colorbar\":{\"outlinewidth\":0,\"ticks\":\"\"}},\"colorscale\":{\"diverging\":[[0,\"#8e0152\"],[0.1,\"#c51b7d\"],[0.2,\"#de77ae\"],[0.3,\"#f1b6da\"],[0.4,\"#fde0ef\"],[0.5,\"#f7f7f7\"],[0.6,\"#e6f5d0\"],[0.7,\"#b8e186\"],[0.8,\"#7fbc41\"],[0.9,\"#4d9221\"],[1,\"#276419\"]],\"sequential\":[[0.0,\"#0d0887\"],[0.1111111111111111,\"#46039f\"],[0.2222222222222222,\"#7201a8\"],[0.3333333333333333,\"#9c179e\"],[0.4444444444444444,\"#bd3786\"],[0.5555555555555556,\"#d8576b\"],[0.6666666666666666,\"#ed7953\"],[0.7777777777777778,\"#fb9f3a\"],[0.8888888888888888,\"#fdca26\"],[1.0,\"#f0f921\"]],\"sequentialminus\":[[0.0,\"#0d0887\"],[0.1111111111111111,\"#46039f\"],[0.2222222222222222,\"#7201a8\"],[0.3333333333333333,\"#9c179e\"],[0.4444444444444444,\"#bd3786\"],[0.5555555555555556,\"#d8576b\"],[0.6666666666666666,\"#ed7953\"],[0.7777777777777778,\"#fb9f3a\"],[0.8888888888888888,\"#fdca26\"],[1.0,\"#f0f921\"]]},\"colorway\":[\"#636efa\",\"#EF553B\",\"#00cc96\",\"#ab63fa\",\"#FFA15A\",\"#19d3f3\",\"#FF6692\",\"#B6E880\",\"#FF97FF\",\"#FECB52\"],\"font\":{\"color\":\"#2a3f5f\"},\"geo\":{\"bgcolor\":\"white\",\"lakecolor\":\"white\",\"landcolor\":\"#E5ECF6\",\"showlakes\":true,\"showland\":true,\"subunitcolor\":\"white\"},\"hoverlabel\":{\"align\":\"left\"},\"hovermode\":\"closest\",\"mapbox\":{\"style\":\"light\"},\"paper_bgcolor\":\"white\",\"plot_bgcolor\":\"#E5ECF6\",\"polar\":{\"angularaxis\":{\"gridcolor\":\"white\",\"linecolor\":\"white\",\"ticks\":\"\"},\"bgcolor\":\"#E5ECF6\",\"radialaxis\":{\"gridcolor\":\"white\",\"linecolor\":\"white\",\"ticks\":\"\"}},\"scene\":{\"xaxis\":{\"backgroundcolor\":\"#E5ECF6\",\"gridcolor\":\"white\",\"gridwidth\":2,\"linecolor\":\"white\",\"showbackground\":true,\"ticks\":\"\",\"zerolinecolor\":\"white\"},\"yaxis\":{\"backgroundcolor\":\"#E5ECF6\",\"gridcolor\":\"white\",\"gridwidth\":2,\"linecolor\":\"white\",\"showbackground\":true,\"ticks\":\"\",\"zerolinecolor\":\"white\"},\"zaxis\":{\"backgroundcolor\":\"#E5ECF6\",\"gridcolor\":\"white\",\"gridwidth\":2,\"linecolor\":\"white\",\"showbackground\":true,\"ticks\":\"\",\"zerolinecolor\":\"white\"}},\"shapedefaults\":{\"line\":{\"color\":\"#2a3f5f\"}},\"ternary\":{\"aaxis\":{\"gridcolor\":\"white\",\"linecolor\":\"white\",\"ticks\":\"\"},\"baxis\":{\"gridcolor\":\"white\",\"linecolor\":\"white\",\"ticks\":\"\"},\"bgcolor\":\"#E5ECF6\",\"caxis\":{\"gridcolor\":\"white\",\"linecolor\":\"white\",\"ticks\":\"\"}},\"title\":{\"x\":0.05},\"xaxis\":{\"automargin\":true,\"gridcolor\":\"white\",\"linecolor\":\"white\",\"ticks\":\"\",\"title\":{\"standoff\":15},\"zerolinecolor\":\"white\",\"zerolinewidth\":2},\"yaxis\":{\"automargin\":true,\"gridcolor\":\"white\",\"linecolor\":\"white\",\"ticks\":\"\",\"title\":{\"standoff\":15},\"zerolinecolor\":\"white\",\"zerolinewidth\":2}}},\"shapes\":[{\"line\":{\"color\":\"blue\",\"width\":0.5},\"type\":\"circle\",\"x0\":-6.525442177370545,\"x1\":-10.525442177370545,\"xref\":\"x\",\"y0\":5.921165249197613,\"y1\":1.921165249197613,\"yref\":\"y\"},{\"line\":{\"color\":\"blue\",\"width\":0.5},\"type\":\"circle\",\"x0\":8.04878071751578,\"x1\":4.048780717515781,\"xref\":\"x\",\"y0\":8.53468713390113,\"y1\":4.53468713390113,\"yref\":\"y\"},{\"line\":{\"color\":\"blue\",\"width\":0.5},\"type\":\"circle\",\"x0\":12.105989531246632,\"x1\":8.105989531246632,\"xref\":\"x\",\"y0\":7.057353363239005,\"y1\":3.057353363239005,\"yref\":\"y\"},{\"line\":{\"color\":\"blue\",\"width\":0.5},\"type\":\"circle\",\"x0\":3.795575068551585,\"x1\":-0.204424931448415,\"xref\":\"x\",\"y0\":5.774831900938844,\"y1\":1.7748319009388438,\"yref\":\"y\"},{\"line\":{\"color\":\"blue\",\"width\":0.5},\"type\":\"circle\",\"x0\":0.8023603863152029,\"x1\":-3.197639613684797,\"xref\":\"x\",\"y0\":6.678594556101104,\"y1\":2.678594556101104,\"yref\":\"y\"},{\"line\":{\"color\":\"blue\",\"width\":0.5},\"type\":\"circle\",\"x0\":-4.616157175448263,\"x1\":-8.616157175448263,\"xref\":\"x\",\"y0\":-3.016342936296504,\"y1\":-7.016342936296504,\"yref\":\"y\"},{\"line\":{\"color\":\"blue\",\"width\":0.5},\"type\":\"circle\",\"x0\":-6.538081194991275,\"x1\":-10.538081194991275,\"xref\":\"x\",\"y0\":-6.207792710600934,\"y1\":-10.207792710600934,\"yref\":\"y\"},{\"line\":{\"color\":\"blue\",\"width\":0.5},\"type\":\"circle\",\"x0\":11.608322894869726,\"x1\":7.608322894869726,\"xref\":\"x\",\"y0\":3.188989721969656,\"y1\":-0.8110102780303441,\"yref\":\"y\"},{\"line\":{\"color\":\"blue\",\"width\":0.5},\"type\":\"circle\",\"x0\":-0.19710779600896533,\"x1\":-4.197107796008965,\"xref\":\"x\",\"y0\":2.553745055562922,\"y1\":-1.446254944437078,\"yref\":\"y\"},{\"line\":{\"color\":\"blue\",\"width\":0.5},\"type\":\"circle\",\"x0\":-3.1576488776588008,\"x1\":-7.157648877658801,\"xref\":\"x\",\"y0\":9.609907627183155,\"y1\":5.609907627183155,\"yref\":\"y\"},{\"line\":{\"color\":\"blue\",\"width\":0.5},\"type\":\"circle\",\"x0\":2.790972222605731,\"x1\":-1.2090277773942686,\"xref\":\"x\",\"y0\":-4.537170661040974,\"y1\":-8.537170661040975,\"yref\":\"y\"},{\"line\":{\"color\":\"blue\",\"width\":0.5},\"type\":\"circle\",\"x0\":-4.95440485568572,\"x1\":-8.95440485568572,\"xref\":\"x\",\"y0\":0.42499129473105235,\"y1\":-3.5750087052689477,\"yref\":\"y\"}],\"autosize\":false,\"width\":600,\"height\":600},                        {\"responsive\": true}                    ).then(function(){\n",
       "                            \n",
       "var gd = document.getElementById('81ce5882-d917-419d-99fa-8026de90e550');\n",
       "var x = new MutationObserver(function (mutations, observer) {{\n",
       "        var display = window.getComputedStyle(gd).display;\n",
       "        if (!display || display === 'none') {{\n",
       "            console.log([gd, 'removed!']);\n",
       "            Plotly.purge(gd);\n",
       "            observer.disconnect();\n",
       "        }}\n",
       "}});\n",
       "\n",
       "// Listen for the removal of the full notebook cells\n",
       "var notebookContainer = gd.closest('#notebook-container');\n",
       "if (notebookContainer) {{\n",
       "    x.observe(notebookContainer, {childList: true});\n",
       "}}\n",
       "\n",
       "// Listen for the clearing of the current output cell\n",
       "var outputEl = gd.closest('.output');\n",
       "if (outputEl) {{\n",
       "    x.observe(outputEl, {childList: true});\n",
       "}}\n",
       "\n",
       "                        })                };                });            </script>        </div>"
      ]
     },
     "metadata": {},
     "output_type": "display_data"
    },
    {
     "name": "stdout",
     "output_type": "stream",
     "text": [
      "\n",
      "\n",
      "___Optimal costs___\n",
      "The total cost of building [12] charging stations is $1,790,000.\n",
      "The total cost of building [4] small charging stations is $400,000.\n",
      "The total cost of building [7] medium-size charging stations is $1,190,000.\n",
      "The total cost of building [1] large charging stations is $200,000.\n"
     ]
    }
   ],
   "source": [
    "# solve task 3\n",
    "solve_location(radius=2, budget=1.8e6)"
   ]
  }
 ],
 "metadata": {
  "kernelspec": {
   "display_name": "Python 3 (ipykernel)",
   "language": "python",
   "name": "python3"
  },
  "language_info": {
   "codemirror_mode": {
    "name": "ipython",
    "version": 3
   },
   "file_extension": ".py",
   "mimetype": "text/x-python",
   "name": "python",
   "nbconvert_exporter": "python",
   "pygments_lexer": "ipython3",
   "version": "3.8.11"
  }
 },
 "nbformat": 4,
 "nbformat_minor": 5
}
